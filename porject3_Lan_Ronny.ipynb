{
 "cells": [
  {
   "cell_type": "markdown",
   "metadata": {},
   "source": [
    "# Project 3"
   ]
  },
  {
   "cell_type": "markdown",
   "metadata": {},
   "source": [
    "Use neural network (Deep Learning) to predict the heating and cooling load of the building. \n",
    "For this project you need to use some base Regression models and ensemble and compare r2_score. \n",
    "Adding cooling load and heating load can define the overall load of the apartment. Study the trend of overall load and divide it into three classes, low efficient, high efficient and average efficient. Then train a deep learning model to predict the label. \n"
   ]
  },
  {
   "cell_type": "markdown",
   "metadata": {},
   "source": [
    "<img src=\"HeatingCooling.jpg\" width=\"500px\" height=\"500px\">\n"
   ]
  },
  {
   "cell_type": "markdown",
   "metadata": {},
   "source": [
    "## INDEX "
   ]
  },
  {
   "cell_type": "markdown",
   "metadata": {},
   "source": [
    "### [1. Retrieving packages](#Package)\n",
    "### [2. Exploratory Analysis](#Explo)\n",
    "In this section we've explored the correlation between variables and created histograms and scatterplots of the dependent and independent variables.\n",
    ">### [2.1. Correlation Matrix](#Correlation)\n",
    ">### [2.2. Histograms](#Histograms)\n",
    ">### [2.3. Scatter](#Scatter)\n",
    "\n",
    "### [3. Data Preparation for modelling](#Prep)\n",
    "In this section we've created categorical variables for cooling and heating, created the train and test set and scaled the data.\n",
    ">### [3.1. Categorical variables](#Categorical)\n",
    "For the categorical variables we've divided into three sections: 1/3 of bottom range (high efficient), 1/3 of medium range (average load) and 1/3 of the top range (low efficient)  \n",
    "\n",
    ">### [3.2. Train-Test split](#TrainTest)\n",
    ">### [3.3. Scaling](#Scaling)\n",
    "\n",
    "\n",
    "### [4. Modelling with Supervised Algorithms for regression](#ModSup)\n",
    "\n",
    "In this section, we've chosen four Supervised Algorithms for regression such as Linear, Lasso, Random Forest Regression and Adaboost Lasso.\n",
    "> ### [4.1. Linear Regression](#Linear)\n",
    ">> #### [4.1.1. Linear Regression for Heating](#LinearHeat)\n",
    ">> #### [4.1.2. Linear Regression for Cooling](#LinearCool)\n",
    ">> #### [4.1.3. Linear Regression Overall](#LinearOver)\n",
    "\n",
    "> ### [4.2. Lasso Regression](#Lasso)\n",
    ">> #### [4.2.1. Lasso Regression for Heating](#LassoHeat)\n",
    ">> #### [4.2.2. Lasso Regression for Cooling](#LassoCool)\n",
    ">> #### [4.2.3. Lasso Regression Overall](#LassoOver)\n",
    "\n",
    "\n",
    "> ### [4.3. Random Forest Regression](#RandomReg)\n",
    ">> #### [4.3.1. Random Forest Regression for Heating](#RfregHeat)\n",
    ">> #### [4.3.2. Random Forest Regression for Cooling](#RfregCool)\n",
    ">> #### [4.3.3. Random Forest Regression Overall](#RfregOver)\n",
    "\n",
    "\n",
    "\n",
    "> ### [4.4. Adaboost Lasso](#AdaboostReg)\n",
    ">> #### [4.4.1. Adaboost Lasso for Heating](#AdaLassoHeat)\n",
    ">> #### [4.4.2. Adaboost Lasso for Cooling](#AdaLassoCool)\n",
    ">> #### [4.4.3. Adaboost Lasso Overall](#AdaLassoOver)\n",
    "\n",
    "\n",
    "### [5. Modelling with Supervised Algorithms for classification](#ModClass)\n",
    "\n",
    "In this section, we've chosen 4 Supervised Algorithms for classification such as Decision Tree, Support Vector Classification, Random Forest and Gradient Boosting.\n",
    "> ### [5.1. Decision Tree](#Tree)\n",
    ">> #### [5.1.1. Decision Tree Classification for heating](#TreeHeat)\n",
    ">> #### [5.1.2. Random Forest Regression for Cooling](#TreeCool)\n",
    ">> #### [5.1.3. Random Forest Regression for Overall](#TreeOver)\n",
    "\n",
    "\n",
    "> ### [5.2. Suppor Vector Classification](#SVC)\n",
    ">> #### [5.2.1. SVC for heating](#SVCHeat)\n",
    ">> #### [5.2.2. SVC for Cooling](#SVCCool)\n",
    ">> #### [5.2.3. SVC for Overall](#SVCOver)\n",
    "\n",
    "> ### [5.3. Random Forest  Classification](#RandomClass)\n",
    ">> #### [5.3.1. Random Forest for heating](#RandomHeat)\n",
    ">> #### [5.3.2. Random Forest for Cooling](#RandomCool)\n",
    ">> #### [5.3.3. Random Forest for Overall](#RandomOver)\n",
    "\n",
    "\n",
    "> ### [5.4. Gradient Boost](#Gradient)\n",
    ">> #### [5.4.1. Gradient Boost for heating](#GradientHeat)\n",
    ">> #### [5.4.2. Gradient Boost for Cooling](#GradientCool)\n",
    ">> #### [5.4.3. Gradient Boost for Overall](#GradientOver)\n",
    "\n",
    "\n",
    "### [6. Modelling with Deep Learning-Dependent variable continuous](#ModDeep)\n",
    "In this section we've applied Deep Learning using \"Overall load\", \"Heating load\" and \"Cooling load\" as continuous variables.\n",
    "> ### [6.1. Defining the model](#Deep11)\n",
    "> ### [6.2. Compiling the model](#Deep12)\n",
    "> ### [6.3. Fitting and evaluating the model for overall load](#Deep13)\n",
    "> ### [6.4. Fitting and evaluating the model for heating](#Deep14)\n",
    "> ### [6.4. Fitting and evaluating the model for cooling](#Deep15)\n",
    "\n",
    "### [7. Modelling with Deep Learning-Dependent variable categorical](#ModDeep2)\n",
    "In this section we've applied Deep Learning using \"Overall load\", \"Heating load\" and \"Cooling load\" as categorica variables. In that sense, we've divided in three categories: range low, range high and range efficient\n",
    "> ### [7.1. Defining the model](#Deep21)\n",
    "> ### [7.2. Compiling the model](#Deep22)\n",
    "> ### [7.3. Fitting and evaluating the model for overall load](#Deep23)\n",
    "> ### [7.4. Fitting and evaluating the model for heating](#Deep24)\n",
    "> ### [7.5. Fitting and evaluating the model for cooling](#Deep25)\n",
    "\n",
    "### [8. Final reports and conclusions](#Final)\n",
    "\n",
    "> ### [8.1 Comparing algoritms with continuos dependent variable](#Final1)\n",
    "> ### [8.2 Comparing algoritms with categorical dependent variable](#Final2)\n",
    "> ### [8.3 Compare R2 score with bagging](#Final3)\n",
    "> ### [8.2 Conclusions](#Final4)"
   ]
  },
  {
   "cell_type": "markdown",
   "metadata": {},
   "source": [
    "## 1. Retrieving packages\n",
    "<a id=\"Package\"></a>"
   ]
  },
  {
   "cell_type": "code",
   "execution_count": 1,
   "metadata": {
    "collapsed": true
   },
   "outputs": [],
   "source": [
    "import pandas as pd\n",
    "import numpy as np\n",
    "import matplotlib.pyplot as plt\n",
    "import seaborn as sns\n",
    "\n",
    "%matplotlib inline"
   ]
  },
  {
   "cell_type": "code",
   "execution_count": 2,
   "metadata": {},
   "outputs": [
    {
     "name": "stderr",
     "output_type": "stream",
     "text": [
      "/Users/lana/anaconda3/lib/python3.6/site-packages/h5py/__init__.py:34: FutureWarning: Conversion of the second argument of issubdtype from `float` to `np.floating` is deprecated. In future, it will be treated as `np.float64 == np.dtype(float).type`.\n",
      "  from ._conv import register_converters as _register_converters\n",
      "Using TensorFlow backend.\n"
     ]
    }
   ],
   "source": [
    "from sklearn.preprocessing import MinMaxScaler\n",
    "\n",
    "from sklearn.model_selection import train_test_split\n",
    "from sklearn.model_selection import GridSearchCV\n",
    "from sklearn.model_selection import KFold\n",
    "\n",
    "#For Linear regression models\n",
    "from sklearn.linear_model import LinearRegression, Lasso\n",
    "from sklearn.ensemble import AdaBoostRegressor, RandomForestRegressor, BaggingRegressor, BaggingClassifier\n",
    "\n",
    "#For Classification models\n",
    "from sklearn.linear_model import LinearRegression, Lasso\n",
    "from sklearn.tree import DecisionTreeClassifier\n",
    "from sklearn.ensemble import AdaBoostClassifier, RandomForestClassifier, GradientBoostingClassifier\n",
    "from sklearn.svm import SVC\n",
    "\n",
    "#For deep learning models\n",
    "from keras.models import Sequential\n",
    "from keras.layers import Dense\n",
    "from keras.utils import to_categorical\n",
    "from keras.wrappers.scikit_learn import KerasClassifier\n",
    "\n",
    "#For evaluation\n",
    "from sklearn.metrics import mean_squared_error\n",
    "from sklearn.metrics import r2_score\n",
    "from sklearn.metrics import classification_report, roc_auc_score,  auc, confusion_matrix\n",
    "from sklearn.metrics import accuracy_score\n",
    "\n",
    "import warnings\n",
    "warnings.filterwarnings('ignore')"
   ]
  },
  {
   "cell_type": "code",
   "execution_count": 3,
   "metadata": {
    "collapsed": true
   },
   "outputs": [],
   "source": [
    "energy=pd.read_csv(\"ENB2012_data.csv\")"
   ]
  },
  {
   "cell_type": "markdown",
   "metadata": {},
   "source": [
    "## 2. Exploratory Analysis\n",
    "<a id=\"Explo\"></a>"
   ]
  },
  {
   "cell_type": "code",
   "execution_count": 4,
   "metadata": {},
   "outputs": [
    {
     "data": {
      "text/plain": [
       "(768, 10)"
      ]
     },
     "execution_count": 4,
     "metadata": {},
     "output_type": "execute_result"
    }
   ],
   "source": [
    "energy.shape"
   ]
  },
  {
   "cell_type": "code",
   "execution_count": 5,
   "metadata": {},
   "outputs": [
    {
     "data": {
      "text/html": [
       "<div>\n",
       "<style>\n",
       "    .dataframe thead tr:only-child th {\n",
       "        text-align: right;\n",
       "    }\n",
       "\n",
       "    .dataframe thead th {\n",
       "        text-align: left;\n",
       "    }\n",
       "\n",
       "    .dataframe tbody tr th {\n",
       "        vertical-align: top;\n",
       "    }\n",
       "</style>\n",
       "<table border=\"1\" class=\"dataframe\">\n",
       "  <thead>\n",
       "    <tr style=\"text-align: right;\">\n",
       "      <th></th>\n",
       "      <th>X1</th>\n",
       "      <th>X2</th>\n",
       "      <th>X3</th>\n",
       "      <th>X4</th>\n",
       "      <th>X5</th>\n",
       "      <th>X6</th>\n",
       "      <th>X7</th>\n",
       "      <th>X8</th>\n",
       "      <th>Y1</th>\n",
       "      <th>Y2</th>\n",
       "    </tr>\n",
       "  </thead>\n",
       "  <tbody>\n",
       "    <tr>\n",
       "      <th>0</th>\n",
       "      <td>0.98</td>\n",
       "      <td>514.5</td>\n",
       "      <td>294.0</td>\n",
       "      <td>110.25</td>\n",
       "      <td>7.0</td>\n",
       "      <td>2</td>\n",
       "      <td>0.0</td>\n",
       "      <td>0</td>\n",
       "      <td>15.55</td>\n",
       "      <td>21.33</td>\n",
       "    </tr>\n",
       "    <tr>\n",
       "      <th>1</th>\n",
       "      <td>0.98</td>\n",
       "      <td>514.5</td>\n",
       "      <td>294.0</td>\n",
       "      <td>110.25</td>\n",
       "      <td>7.0</td>\n",
       "      <td>3</td>\n",
       "      <td>0.0</td>\n",
       "      <td>0</td>\n",
       "      <td>15.55</td>\n",
       "      <td>21.33</td>\n",
       "    </tr>\n",
       "    <tr>\n",
       "      <th>2</th>\n",
       "      <td>0.98</td>\n",
       "      <td>514.5</td>\n",
       "      <td>294.0</td>\n",
       "      <td>110.25</td>\n",
       "      <td>7.0</td>\n",
       "      <td>4</td>\n",
       "      <td>0.0</td>\n",
       "      <td>0</td>\n",
       "      <td>15.55</td>\n",
       "      <td>21.33</td>\n",
       "    </tr>\n",
       "    <tr>\n",
       "      <th>3</th>\n",
       "      <td>0.98</td>\n",
       "      <td>514.5</td>\n",
       "      <td>294.0</td>\n",
       "      <td>110.25</td>\n",
       "      <td>7.0</td>\n",
       "      <td>5</td>\n",
       "      <td>0.0</td>\n",
       "      <td>0</td>\n",
       "      <td>15.55</td>\n",
       "      <td>21.33</td>\n",
       "    </tr>\n",
       "    <tr>\n",
       "      <th>4</th>\n",
       "      <td>0.90</td>\n",
       "      <td>563.5</td>\n",
       "      <td>318.5</td>\n",
       "      <td>122.50</td>\n",
       "      <td>7.0</td>\n",
       "      <td>2</td>\n",
       "      <td>0.0</td>\n",
       "      <td>0</td>\n",
       "      <td>20.84</td>\n",
       "      <td>28.28</td>\n",
       "    </tr>\n",
       "  </tbody>\n",
       "</table>\n",
       "</div>"
      ],
      "text/plain": [
       "     X1     X2     X3      X4   X5  X6   X7  X8     Y1     Y2\n",
       "0  0.98  514.5  294.0  110.25  7.0   2  0.0   0  15.55  21.33\n",
       "1  0.98  514.5  294.0  110.25  7.0   3  0.0   0  15.55  21.33\n",
       "2  0.98  514.5  294.0  110.25  7.0   4  0.0   0  15.55  21.33\n",
       "3  0.98  514.5  294.0  110.25  7.0   5  0.0   0  15.55  21.33\n",
       "4  0.90  563.5  318.5  122.50  7.0   2  0.0   0  20.84  28.28"
      ]
     },
     "execution_count": 5,
     "metadata": {},
     "output_type": "execute_result"
    }
   ],
   "source": [
    "energy.head()"
   ]
  },
  {
   "cell_type": "code",
   "execution_count": 6,
   "metadata": {
    "collapsed": true
   },
   "outputs": [],
   "source": [
    "#Renaiming the columns\n",
    "energy2=energy.rename(columns={\"X1\":\"Compactness\", \"X2\":\"SurfaceA\", \"X3\":\"WallA\", \"X4\":\"RoofA\",\n",
    "                      \"X5\":\"Height\", \"X6\":\"Orientation\", \"X7\":\"GlazingA\",\n",
    "                      \"X8\":\"GlazingDist\", \"Y1\":\"Heating\", \"Y2\":\"Cooling\"})"
   ]
  },
  {
   "cell_type": "code",
   "execution_count": 7,
   "metadata": {
    "collapsed": true
   },
   "outputs": [],
   "source": [
    "energy2['Overall']=energy2['Heating']+energy2['Cooling']"
   ]
  },
  {
   "cell_type": "code",
   "execution_count": 8,
   "metadata": {},
   "outputs": [
    {
     "data": {
      "text/html": [
       "<div>\n",
       "<style>\n",
       "    .dataframe thead tr:only-child th {\n",
       "        text-align: right;\n",
       "    }\n",
       "\n",
       "    .dataframe thead th {\n",
       "        text-align: left;\n",
       "    }\n",
       "\n",
       "    .dataframe tbody tr th {\n",
       "        vertical-align: top;\n",
       "    }\n",
       "</style>\n",
       "<table border=\"1\" class=\"dataframe\">\n",
       "  <thead>\n",
       "    <tr style=\"text-align: right;\">\n",
       "      <th></th>\n",
       "      <th>Compactness</th>\n",
       "      <th>SurfaceA</th>\n",
       "      <th>WallA</th>\n",
       "      <th>RoofA</th>\n",
       "      <th>Height</th>\n",
       "      <th>Orientation</th>\n",
       "      <th>GlazingA</th>\n",
       "      <th>GlazingDist</th>\n",
       "      <th>Heating</th>\n",
       "      <th>Cooling</th>\n",
       "      <th>Overall</th>\n",
       "    </tr>\n",
       "  </thead>\n",
       "  <tbody>\n",
       "    <tr>\n",
       "      <th>count</th>\n",
       "      <td>768.000000</td>\n",
       "      <td>768.000000</td>\n",
       "      <td>768.000000</td>\n",
       "      <td>768.000000</td>\n",
       "      <td>768.00000</td>\n",
       "      <td>768.000000</td>\n",
       "      <td>768.000000</td>\n",
       "      <td>768.00000</td>\n",
       "      <td>768.000000</td>\n",
       "      <td>768.000000</td>\n",
       "      <td>768.000000</td>\n",
       "    </tr>\n",
       "    <tr>\n",
       "      <th>mean</th>\n",
       "      <td>0.764167</td>\n",
       "      <td>671.708333</td>\n",
       "      <td>318.500000</td>\n",
       "      <td>176.604167</td>\n",
       "      <td>5.25000</td>\n",
       "      <td>3.500000</td>\n",
       "      <td>0.234375</td>\n",
       "      <td>2.81250</td>\n",
       "      <td>22.307201</td>\n",
       "      <td>24.587760</td>\n",
       "      <td>46.894961</td>\n",
       "    </tr>\n",
       "    <tr>\n",
       "      <th>std</th>\n",
       "      <td>0.105777</td>\n",
       "      <td>88.086116</td>\n",
       "      <td>43.626481</td>\n",
       "      <td>45.165950</td>\n",
       "      <td>1.75114</td>\n",
       "      <td>1.118763</td>\n",
       "      <td>0.133221</td>\n",
       "      <td>1.55096</td>\n",
       "      <td>10.090196</td>\n",
       "      <td>9.513306</td>\n",
       "      <td>19.484947</td>\n",
       "    </tr>\n",
       "    <tr>\n",
       "      <th>min</th>\n",
       "      <td>0.620000</td>\n",
       "      <td>514.500000</td>\n",
       "      <td>245.000000</td>\n",
       "      <td>110.250000</td>\n",
       "      <td>3.50000</td>\n",
       "      <td>2.000000</td>\n",
       "      <td>0.000000</td>\n",
       "      <td>0.00000</td>\n",
       "      <td>6.010000</td>\n",
       "      <td>10.900000</td>\n",
       "      <td>16.950000</td>\n",
       "    </tr>\n",
       "    <tr>\n",
       "      <th>25%</th>\n",
       "      <td>0.682500</td>\n",
       "      <td>606.375000</td>\n",
       "      <td>294.000000</td>\n",
       "      <td>140.875000</td>\n",
       "      <td>3.50000</td>\n",
       "      <td>2.750000</td>\n",
       "      <td>0.100000</td>\n",
       "      <td>1.75000</td>\n",
       "      <td>12.992500</td>\n",
       "      <td>15.620000</td>\n",
       "      <td>28.750000</td>\n",
       "    </tr>\n",
       "    <tr>\n",
       "      <th>50%</th>\n",
       "      <td>0.750000</td>\n",
       "      <td>673.750000</td>\n",
       "      <td>318.500000</td>\n",
       "      <td>183.750000</td>\n",
       "      <td>5.25000</td>\n",
       "      <td>3.500000</td>\n",
       "      <td>0.250000</td>\n",
       "      <td>3.00000</td>\n",
       "      <td>18.950000</td>\n",
       "      <td>22.080000</td>\n",
       "      <td>40.970000</td>\n",
       "    </tr>\n",
       "    <tr>\n",
       "      <th>75%</th>\n",
       "      <td>0.830000</td>\n",
       "      <td>741.125000</td>\n",
       "      <td>343.000000</td>\n",
       "      <td>220.500000</td>\n",
       "      <td>7.00000</td>\n",
       "      <td>4.250000</td>\n",
       "      <td>0.400000</td>\n",
       "      <td>4.00000</td>\n",
       "      <td>31.667500</td>\n",
       "      <td>33.132500</td>\n",
       "      <td>64.335000</td>\n",
       "    </tr>\n",
       "    <tr>\n",
       "      <th>max</th>\n",
       "      <td>0.980000</td>\n",
       "      <td>808.500000</td>\n",
       "      <td>416.500000</td>\n",
       "      <td>220.500000</td>\n",
       "      <td>7.00000</td>\n",
       "      <td>5.000000</td>\n",
       "      <td>0.400000</td>\n",
       "      <td>5.00000</td>\n",
       "      <td>43.100000</td>\n",
       "      <td>48.030000</td>\n",
       "      <td>89.950000</td>\n",
       "    </tr>\n",
       "  </tbody>\n",
       "</table>\n",
       "</div>"
      ],
      "text/plain": [
       "       Compactness    SurfaceA       WallA       RoofA     Height  \\\n",
       "count   768.000000  768.000000  768.000000  768.000000  768.00000   \n",
       "mean      0.764167  671.708333  318.500000  176.604167    5.25000   \n",
       "std       0.105777   88.086116   43.626481   45.165950    1.75114   \n",
       "min       0.620000  514.500000  245.000000  110.250000    3.50000   \n",
       "25%       0.682500  606.375000  294.000000  140.875000    3.50000   \n",
       "50%       0.750000  673.750000  318.500000  183.750000    5.25000   \n",
       "75%       0.830000  741.125000  343.000000  220.500000    7.00000   \n",
       "max       0.980000  808.500000  416.500000  220.500000    7.00000   \n",
       "\n",
       "       Orientation    GlazingA  GlazingDist     Heating     Cooling  \\\n",
       "count   768.000000  768.000000    768.00000  768.000000  768.000000   \n",
       "mean      3.500000    0.234375      2.81250   22.307201   24.587760   \n",
       "std       1.118763    0.133221      1.55096   10.090196    9.513306   \n",
       "min       2.000000    0.000000      0.00000    6.010000   10.900000   \n",
       "25%       2.750000    0.100000      1.75000   12.992500   15.620000   \n",
       "50%       3.500000    0.250000      3.00000   18.950000   22.080000   \n",
       "75%       4.250000    0.400000      4.00000   31.667500   33.132500   \n",
       "max       5.000000    0.400000      5.00000   43.100000   48.030000   \n",
       "\n",
       "          Overall  \n",
       "count  768.000000  \n",
       "mean    46.894961  \n",
       "std     19.484947  \n",
       "min     16.950000  \n",
       "25%     28.750000  \n",
       "50%     40.970000  \n",
       "75%     64.335000  \n",
       "max     89.950000  "
      ]
     },
     "execution_count": 8,
     "metadata": {},
     "output_type": "execute_result"
    }
   ],
   "source": [
    "energy2.describe()"
   ]
  },
  {
   "cell_type": "markdown",
   "metadata": {},
   "source": [
    "## 2.1 Correlation Matrix\n",
    "<a id=\"Correlation\"></a>"
   ]
  },
  {
   "cell_type": "code",
   "execution_count": 9,
   "metadata": {},
   "outputs": [
    {
     "data": {
      "text/plain": [
       "<matplotlib.axes._subplots.AxesSubplot at 0x1071d5048>"
      ]
     },
     "execution_count": 9,
     "metadata": {},
     "output_type": "execute_result"
    },
    {
     "data": {
      "image/png": "[encoded data removed]",
      "text/plain": [
       "<matplotlib.figure.Figure at 0x1071d6e80>"
      ]
     },
     "metadata": {},
     "output_type": "display_data"
    }
   ],
   "source": [
    "plt.figure(figsize=(15,7), dpi=70)\n",
    "sns.heatmap(energy2.corr(), annot=True)"
   ]
  },
  {
   "cell_type": "markdown",
   "metadata": {},
   "source": [
    "## 2.2 Histograms\n",
    "\n",
    "<a id=\"Histograms\"></a>"
   ]
  },
  {
   "cell_type": "markdown",
   "metadata": {
    "collapsed": true
   },
   "source": [
    "#### Histogram of Heating Load and Cooling load"
   ]
  },
  {
   "cell_type": "code",
   "execution_count": 10,
   "metadata": {},
   "outputs": [
    {
     "data": {
      "image/png": "[encoded data removed]",
      "text/plain": [
       "<matplotlib.figure.Figure at 0x110baa8d0>"
      ]
     },
     "metadata": {},
     "output_type": "display_data"
    }
   ],
   "source": [
    "fig, ax =plt.subplots(1, 2, figsize=(15,5))\n",
    "bins = list(range(0,55,2))\n",
    "ax[0]=plt.subplot2grid((1,2),(0,0))\n",
    "ax[0].hist(energy2['Heating'], bins)\n",
    "ax[0].set_xlabel('Heating Load')\n",
    "ax[0].set_ylabel('Frequency')\n",
    "ax[0].grid()\n",
    "\n",
    "ax[1]=plt.subplot2grid((1,2),(0,1))\n",
    "ax[1].hist(energy2['Cooling'], bins)\n",
    "ax[1].set_xlabel('Cooling Load')\n",
    "ax[1].set_ylabel('Frequency')\n",
    "ax[1].grid()\n"
   ]
  },
  {
   "cell_type": "markdown",
   "metadata": {},
   "source": [
    "##### Histogram and Bocplot Overall load"
   ]
  },
  {
   "cell_type": "code",
   "execution_count": 11,
   "metadata": {},
   "outputs": [
    {
     "data": {
      "image/png": "[encoded data removed]",
      "text/plain": [
       "<matplotlib.figure.Figure at 0x110bc7e48>"
      ]
     },
     "metadata": {},
     "output_type": "display_data"
    }
   ],
   "source": [
    "fig, ax =plt.subplots(figsize=(15,7))\n",
    "bins = list(range(15,90,2))\n",
    "ax.hist(energy2['Overall'], bins)\n",
    "ax.set_xlabel('Overall Load')\n",
    "ax.set_ylabel('Frequency')\n",
    "ax.grid()"
   ]
  },
  {
   "cell_type": "code",
   "execution_count": 12,
   "metadata": {},
   "outputs": [
    {
     "data": {
      "image/png": "[encoded data removed]",
      "text/plain": [
       "<matplotlib.figure.Figure at 0x1071e2ef0>"
      ]
     },
     "metadata": {},
     "output_type": "display_data"
    }
   ],
   "source": [
    "fig, ax =plt.subplots(figsize=(15,7))\n",
    "ax.boxplot(energy2['Overall'], vert= 0)\n",
    "ax.set_ylabel('Overall Load')\n",
    "ax.grid()"
   ]
  },
  {
   "cell_type": "markdown",
   "metadata": {},
   "source": [
    "#### Histogram Input  Variables"
   ]
  },
  {
   "cell_type": "code",
   "execution_count": 13,
   "metadata": {},
   "outputs": [
    {
     "data": {
      "image/png": "[encoded data removed]",
      "text/plain": [
       "<matplotlib.figure.Figure at 0x11113e550>"
      ]
     },
     "metadata": {},
     "output_type": "display_data"
    }
   ],
   "source": [
    "fig, ax =plt.subplots(2, 4, figsize=(18,8))\n",
    "ax = ax.flatten()\n",
    "for i in list(range(0,8)):\n",
    "    ax[i].hist(energy2.iloc[:,i])\n",
    "    ax[i].grid()\n",
    "    ax[i].set_xlabel(energy2.columns[i])\n",
    "    ax[i].set_ylabel('Frequency')"
   ]
  },
  {
   "cell_type": "markdown",
   "metadata": {},
   "source": [
    "## 2.3 Scatterplots\n",
    "<a id=\"Scatter\"></a>"
   ]
  },
  {
   "cell_type": "markdown",
   "metadata": {},
   "source": [
    "#### Scatterplots for heating"
   ]
  },
  {
   "cell_type": "code",
   "execution_count": 14,
   "metadata": {},
   "outputs": [
    {
     "data": {
      "image/png": "[encoded data removed]",
      "text/plain": [
       "<matplotlib.figure.Figure at 0x1115b5dd8>"
      ]
     },
     "metadata": {},
     "output_type": "display_data"
    }
   ],
   "source": [
    "fig, ax =plt.subplots(2, 4, figsize=(18,8))\n",
    "ax = ax.flatten()\n",
    "i=0\n",
    "for i in list(range(0,8)):\n",
    "    ax[i].plot(energy2.iloc[:,i], energy2['Heating'], 'o')\n",
    "    ax[i].set_xlabel(energy2.columns[i])\n",
    "    ax[i].set_ylabel('Heating Load')\n",
    "    i=i+1"
   ]
  },
  {
   "cell_type": "markdown",
   "metadata": {
    "collapsed": true
   },
   "source": [
    "#### Scatterplots for cooling"
   ]
  },
  {
   "cell_type": "code",
   "execution_count": 15,
   "metadata": {},
   "outputs": [
    {
     "data": {
      "image/png": "[encoded data removed]",
      "text/plain": [
       "<matplotlib.figure.Figure at 0x111ab9588>"
      ]
     },
     "metadata": {},
     "output_type": "display_data"
    }
   ],
   "source": [
    "fig, ax =plt.subplots(2, 4, figsize=(18,8))\n",
    "ax = ax.flatten()\n",
    "i=0\n",
    "for i in list(range(0,8)):\n",
    "    ax[i].plot(energy2.iloc[:,i], energy2['Cooling'], 'o')\n",
    "    ax[i].set_xlabel(energy2.columns[i])\n",
    "    ax[i].set_ylabel('Cooling Load')\n",
    "    i=i+1"
   ]
  },
  {
   "cell_type": "markdown",
   "metadata": {
    "collapsed": true
   },
   "source": [
    "## 3. Data Preparation for modelling\n",
    "\n",
    "<a id=\"Prep\"></a>"
   ]
  },
  {
   "cell_type": "markdown",
   "metadata": {},
   "source": [
    "## 3.1 Creating categorical variables\n",
    "\n",
    "<a id=\"Categorical\"></a>"
   ]
  },
  {
   "cell_type": "markdown",
   "metadata": {},
   "source": [
    "##### Creating categorical variable for overall load"
   ]
  },
  {
   "cell_type": "code",
   "execution_count": 16,
   "metadata": {
    "collapsed": true
   },
   "outputs": [],
   "source": [
    "def divide_overall (todo):\n",
    "    range_todo=energy2['Overall'].max()-energy2['Overall'].min()\n",
    "    if todo <= range_todo*1/3:\n",
    "        return 0\n",
    "    elif todo >= range_todo*2/3:\n",
    "        return 2\n",
    "    else:\n",
    "        return 1"
   ]
  },
  {
   "cell_type": "code",
   "execution_count": 17,
   "metadata": {
    "collapsed": true
   },
   "outputs": [],
   "source": [
    "energy2[\"Overall_Cat\"]=energy2[\"Overall\"].map(divide_overall)\n",
    "energy2.Overall_Cat=energy2.Overall_Cat.astype(\"category\")"
   ]
  },
  {
   "cell_type": "code",
   "execution_count": 18,
   "metadata": {},
   "outputs": [
    {
     "name": "stdout",
     "output_type": "stream",
     "text": [
      "Overall_Cat\n",
      "0     43\n",
      "1    359\n",
      "2    366\n",
      "Name: Overall_Cat, dtype: int64\n"
     ]
    },
    {
     "data": {
      "text/plain": [
       "<matplotlib.axes._subplots.AxesSubplot at 0x111ea3470>"
      ]
     },
     "execution_count": 18,
     "metadata": {},
     "output_type": "execute_result"
    },
    {
     "data": {
      "image/png": "[encoded data removed]",
      "text/plain": [
       "<matplotlib.figure.Figure at 0x111ad8908>"
      ]
     },
     "metadata": {},
     "output_type": "display_data"
    }
   ],
   "source": [
    "print(energy2.groupby(['Overall_Cat'])['Overall_Cat'].count())\n",
    "sns.countplot(x='Overall_Cat', data=energy2)"
   ]
  },
  {
   "cell_type": "markdown",
   "metadata": {},
   "source": [
    "#### Creating categorical variables for heating"
   ]
  },
  {
   "cell_type": "code",
   "execution_count": 19,
   "metadata": {
    "collapsed": true
   },
   "outputs": [],
   "source": [
    "def divide_heating (calor):\n",
    "    range_calor=energy2['Heating'].max()-energy2['Heating'].min()\n",
    "    if calor <= range_calor*1/3:\n",
    "        return 0\n",
    "    elif calor >= range_calor*2/3:\n",
    "        return 2\n",
    "    else:\n",
    "        return 1"
   ]
  },
  {
   "cell_type": "code",
   "execution_count": 20,
   "metadata": {
    "collapsed": true
   },
   "outputs": [],
   "source": [
    "energy2['Heat_Cat']=energy2['Heating'].map(divide_heating)\n",
    "energy2.Heat_Cat=energy2.Heat_Cat.astype(\"category\")"
   ]
  },
  {
   "cell_type": "code",
   "execution_count": 21,
   "metadata": {},
   "outputs": [
    {
     "name": "stdout",
     "output_type": "stream",
     "text": [
      "Heat_Cat\n",
      "0    135\n",
      "1    309\n",
      "2    324\n",
      "Name: Heat_Cat, dtype: int64\n"
     ]
    },
    {
     "data": {
      "text/plain": [
       "<matplotlib.axes._subplots.AxesSubplot at 0x111accba8>"
      ]
     },
     "execution_count": 21,
     "metadata": {},
     "output_type": "execute_result"
    },
    {
     "data": {
      "image/png": "[encoded data removed]",
      "text/plain": [
       "<matplotlib.figure.Figure at 0x111af4898>"
      ]
     },
     "metadata": {},
     "output_type": "display_data"
    }
   ],
   "source": [
    "print(energy2.groupby(['Heat_Cat'])['Heat_Cat'].count())\n",
    "sns.countplot(x='Heat_Cat', data=energy2)"
   ]
  },
  {
   "cell_type": "markdown",
   "metadata": {},
   "source": [
    "#### Creating categorical variables for cooling"
   ]
  },
  {
   "cell_type": "code",
   "execution_count": 22,
   "metadata": {
    "collapsed": true
   },
   "outputs": [],
   "source": [
    "def divide_cooling (frio):\n",
    "    range_frio=energy2['Cooling'].max()-energy2['Cooling'].min()\n",
    "    if frio <= range_frio*1/3:\n",
    "        return 0\n",
    "    elif frio >= range_frio*2/3:\n",
    "        return 2\n",
    "    else:\n",
    "        return 1"
   ]
  },
  {
   "cell_type": "code",
   "execution_count": 23,
   "metadata": {
    "collapsed": true
   },
   "outputs": [],
   "source": [
    "energy2['Cool_Cat']=energy2['Cooling'].map(divide_heating)\n",
    "energy2.Cool_Cat=energy2.Cool_Cat.astype(\"category\")"
   ]
  },
  {
   "cell_type": "code",
   "execution_count": 24,
   "metadata": {},
   "outputs": [
    {
     "name": "stdout",
     "output_type": "stream",
     "text": [
      "Cool_Cat\n",
      "0     18\n",
      "1    377\n",
      "2    373\n",
      "Name: Cool_Cat, dtype: int64\n"
     ]
    },
    {
     "data": {
      "text/plain": [
       "<matplotlib.axes._subplots.AxesSubplot at 0x111442b38>"
      ]
     },
     "execution_count": 24,
     "metadata": {},
     "output_type": "execute_result"
    },
    {
     "data": {
      "image/png": "[encoded data removed]",
      "text/plain": [
       "<matplotlib.figure.Figure at 0x111591668>"
      ]
     },
     "metadata": {},
     "output_type": "display_data"
    }
   ],
   "source": [
    "print(energy2.groupby(['Cool_Cat'])['Cool_Cat'].count())\n",
    "sns.countplot(x='Cool_Cat', data=energy2)"
   ]
  },
  {
   "cell_type": "markdown",
   "metadata": {},
   "source": [
    "#### X and y from original dataframe"
   ]
  },
  {
   "cell_type": "code",
   "execution_count": 25,
   "metadata": {
    "collapsed": true
   },
   "outputs": [],
   "source": [
    "X=energy2.loc[:,[\"Compactness\", \"SurfaceA\", \"WallA\", \"RoofA\",\"Height\",  \"Orientation\", \"GlazingA\",\n",
    "                \"GlazingDist\"]]\n",
    "y1=energy2.loc[:,[\"Heating\"]]\n",
    "y2=energy2.loc[:,[\"Cooling\"]]\n",
    "yoverall=energy2.loc[:,[\"Overall\"]]"
   ]
  },
  {
   "cell_type": "markdown",
   "metadata": {},
   "source": [
    "#### X and y from categorical generated variables"
   ]
  },
  {
   "cell_type": "code",
   "execution_count": 26,
   "metadata": {
    "collapsed": true
   },
   "outputs": [],
   "source": [
    "Xcat=energy2.loc[:,[\"Compactness\", \"SurfaceA\", \"WallA\", \"RoofA\",\"Height\",  \"Orientation\", \"GlazingA\",\n",
    "                \"GlazingDist\"]]\n",
    "y1_cat=energy2.loc[:,[\"Heat_Cat\"]]\n",
    "y2_cat=energy2.loc[:,[\"Cool_Cat\"]]\n",
    "yoverall_cat=energy2.loc[:,[\"Overall_Cat\"]]"
   ]
  },
  {
   "cell_type": "markdown",
   "metadata": {},
   "source": [
    "## 3.2 Train test split\n",
    "\n",
    "<a id=\"TrainTest\"></a>"
   ]
  },
  {
   "cell_type": "markdown",
   "metadata": {},
   "source": [
    "#### For overall continuous dependent variable"
   ]
  },
  {
   "cell_type": "code",
   "execution_count": 27,
   "metadata": {
    "collapsed": true
   },
   "outputs": [],
   "source": [
    "Xtraino, Xtesto, ytraino, ytesto=train_test_split(X, yoverall, random_state=20)"
   ]
  },
  {
   "cell_type": "code",
   "execution_count": 28,
   "metadata": {},
   "outputs": [
    {
     "name": "stdout",
     "output_type": "stream",
     "text": [
      "The shape of X is: (768, 8)\n",
      "The shape of Xtrain is:  (576, 8)\n",
      "The shape of Xtest is: (192, 8)\n"
     ]
    }
   ],
   "source": [
    "print(\"The shape of X is:\", X.shape)\n",
    "print(\"The shape of Xtrain is: \", Xtraino.shape)\n",
    "print(\"The shape of Xtest is:\", Xtesto.shape)"
   ]
  },
  {
   "cell_type": "markdown",
   "metadata": {},
   "source": [
    "##### For heating with continuous dependent variable"
   ]
  },
  {
   "cell_type": "code",
   "execution_count": 29,
   "metadata": {
    "collapsed": true
   },
   "outputs": [],
   "source": [
    "Xtrain, Xtest, ytrain, ytest=train_test_split(X, y1, random_state=20, test_size=0.2)"
   ]
  },
  {
   "cell_type": "code",
   "execution_count": 30,
   "metadata": {},
   "outputs": [
    {
     "name": "stdout",
     "output_type": "stream",
     "text": [
      "The shape of X is: (768, 8)\n",
      "The shape of Xtrain is:  (614, 8)\n",
      "The shape of Xtest is: (154, 8)\n"
     ]
    }
   ],
   "source": [
    "print(\"The shape of X is:\", X.shape)\n",
    "print(\"The shape of Xtrain is: \", Xtrain.shape)\n",
    "print(\"The shape of Xtest is:\", Xtest.shape)"
   ]
  },
  {
   "cell_type": "markdown",
   "metadata": {
    "collapsed": true
   },
   "source": [
    "##### For cooling for continuous dependent variable"
   ]
  },
  {
   "cell_type": "code",
   "execution_count": 31,
   "metadata": {
    "collapsed": true
   },
   "outputs": [],
   "source": [
    "Xtrain2, Xtest2, ytrain2, ytest2=train_test_split(X, y2, random_state=20, test_size=0.2)"
   ]
  },
  {
   "cell_type": "code",
   "execution_count": 32,
   "metadata": {},
   "outputs": [
    {
     "name": "stdout",
     "output_type": "stream",
     "text": [
      "The shape of X is: (768, 8)\n",
      "The shape of Xtrain is:  (614, 8)\n",
      "The shape of Xtest is: (154, 8)\n"
     ]
    }
   ],
   "source": [
    "print(\"The shape of X is:\", X.shape)\n",
    "print(\"The shape of Xtrain is: \", Xtrain2.shape)\n",
    "print(\"The shape of Xtest is:\", Xtest2.shape)"
   ]
  },
  {
   "cell_type": "markdown",
   "metadata": {},
   "source": [
    "#### For overall categorical dependent variable"
   ]
  },
  {
   "cell_type": "code",
   "execution_count": 33,
   "metadata": {
    "collapsed": true
   },
   "outputs": [],
   "source": [
    "Xtraino_cat, Xtesto_cat, ytraino_cat, ytesto_cat=train_test_split(X, yoverall_cat,random_state=20)"
   ]
  },
  {
   "cell_type": "code",
   "execution_count": 34,
   "metadata": {},
   "outputs": [
    {
     "name": "stdout",
     "output_type": "stream",
     "text": [
      "The shape of X is: (768, 8)\n",
      "The shape of Xtrain is:  (576, 8)\n",
      "The shape of Xtest is: (192, 8)\n"
     ]
    }
   ],
   "source": [
    "print(\"The shape of X is:\", X.shape)\n",
    "print(\"The shape of Xtrain is: \", Xtraino_cat.shape)\n",
    "print(\"The shape of Xtest is:\", Xtesto_cat.shape)"
   ]
  },
  {
   "cell_type": "markdown",
   "metadata": {},
   "source": [
    "##### For heating with categorical dependent variable"
   ]
  },
  {
   "cell_type": "code",
   "execution_count": 35,
   "metadata": {
    "collapsed": true
   },
   "outputs": [],
   "source": [
    "Xtrain3, Xtest3, ytrain3, ytest3=train_test_split(X, y1_cat, random_state=20, test_size=0.2)"
   ]
  },
  {
   "cell_type": "code",
   "execution_count": 36,
   "metadata": {},
   "outputs": [
    {
     "name": "stdout",
     "output_type": "stream",
     "text": [
      "The shape of X is: (768, 8)\n",
      "The shape of Xtrain is:  (614, 8)\n",
      "The shape of Xtest is: (154, 8)\n",
      "The shape of ytrain is (614, 1)\n"
     ]
    }
   ],
   "source": [
    "print(\"The shape of X is:\", X.shape)\n",
    "print(\"The shape of Xtrain is: \", Xtrain3.shape)\n",
    "print(\"The shape of Xtest is:\", Xtest3.shape)\n",
    "print(\"The shape of ytrain is\", ytrain3.shape)"
   ]
  },
  {
   "cell_type": "markdown",
   "metadata": {},
   "source": [
    "##### For cooling for categorical dependent variable"
   ]
  },
  {
   "cell_type": "code",
   "execution_count": 37,
   "metadata": {
    "collapsed": true
   },
   "outputs": [],
   "source": [
    "Xtrain4, Xtest4, ytrain4, ytest4=train_test_split(X, y2_cat, random_state=20, test_size=0.2)"
   ]
  },
  {
   "cell_type": "code",
   "execution_count": 38,
   "metadata": {},
   "outputs": [
    {
     "name": "stdout",
     "output_type": "stream",
     "text": [
      "The shape of X is: (768, 8)\n",
      "The shape of Xtrain is:  (614, 8)\n",
      "The shape of Xtest is: (154, 8)\n"
     ]
    }
   ],
   "source": [
    "print(\"The shape of X is:\", X.shape)\n",
    "print(\"The shape of Xtrain is: \", Xtrain4.shape)\n",
    "print(\"The shape of Xtest is:\", Xtest4.shape)"
   ]
  },
  {
   "cell_type": "markdown",
   "metadata": {},
   "source": [
    "## 3.3 Scaling\n",
    "\n",
    "<a id=\"Scaling\"></a>"
   ]
  },
  {
   "cell_type": "markdown",
   "metadata": {},
   "source": [
    "##### Scaling for overall load  continuos dependent variable"
   ]
  },
  {
   "cell_type": "code",
   "execution_count": 39,
   "metadata": {
    "collapsed": true
   },
   "outputs": [],
   "source": [
    "scale_o=MinMaxScaler()\n",
    "Xtraino_mms=scale_o.fit_transform(Xtraino)\n",
    "Xtesto_mms=scale_o.transform(Xtesto)"
   ]
  },
  {
   "cell_type": "markdown",
   "metadata": {},
   "source": [
    "##### Scaling for heating for continuos dependent variable"
   ]
  },
  {
   "cell_type": "code",
   "execution_count": 40,
   "metadata": {
    "collapsed": true
   },
   "outputs": [],
   "source": [
    "scale1=MinMaxScaler()\n",
    "Xtrain_mms=scale1.fit_transform(Xtrain)\n",
    "Xtest_mms=scale1.transform(Xtest)"
   ]
  },
  {
   "cell_type": "markdown",
   "metadata": {},
   "source": [
    "##### Scaling for cooling for continuos dependent variable"
   ]
  },
  {
   "cell_type": "code",
   "execution_count": 41,
   "metadata": {
    "collapsed": true
   },
   "outputs": [],
   "source": [
    "scale2=MinMaxScaler()\n",
    "Xtrain2_mms=scale2.fit_transform(Xtrain2)\n",
    "Xtest2_mms=scale2.transform(Xtest2)"
   ]
  },
  {
   "cell_type": "markdown",
   "metadata": {},
   "source": [
    "##### Scaling for overall load  categorical dependent variable"
   ]
  },
  {
   "cell_type": "code",
   "execution_count": 42,
   "metadata": {
    "collapsed": true
   },
   "outputs": [],
   "source": [
    "scale_ocat=MinMaxScaler()\n",
    "Xtraino_cat_mms=scale_ocat.fit_transform(Xtraino_cat)\n",
    "Xtesto_cat_mms=scale_ocat.transform(Xtesto_cat)"
   ]
  },
  {
   "cell_type": "markdown",
   "metadata": {},
   "source": [
    "##### Scaling for heating for categorical dependent variable"
   ]
  },
  {
   "cell_type": "code",
   "execution_count": 43,
   "metadata": {
    "collapsed": true
   },
   "outputs": [],
   "source": [
    "scale3=MinMaxScaler()\n",
    "Xtrain3_mms=scale3.fit_transform(Xtrain3)\n",
    "Xtest3_mms=scale3.transform(Xtest3)"
   ]
  },
  {
   "cell_type": "markdown",
   "metadata": {},
   "source": [
    "##### Scaling for cooling for categorical dependent variable"
   ]
  },
  {
   "cell_type": "code",
   "execution_count": 44,
   "metadata": {
    "collapsed": true
   },
   "outputs": [],
   "source": [
    "scale4=MinMaxScaler()\n",
    "Xtrain4_mms=scale4.fit_transform(Xtrain4)\n",
    "Xtest4_mms=scale4.transform(Xtest4)"
   ]
  },
  {
   "cell_type": "markdown",
   "metadata": {},
   "source": [
    "## 4. Modelling with Supervised Algorithms for Regression\n",
    "<a id=\"ModSup\"></a>"
   ]
  },
  {
   "cell_type": "markdown",
   "metadata": {},
   "source": [
    "## 4.1 Linear Regression\n",
    "\n",
    "<a id=\"Linear\"></a>"
   ]
  },
  {
   "cell_type": "markdown",
   "metadata": {},
   "source": [
    "### 4.1.1 Linear Regression for Heating\n",
    "\n",
    "<a id=\"LinearHeat\"></a>"
   ]
  },
  {
   "cell_type": "code",
   "execution_count": 45,
   "metadata": {
    "collapsed": true
   },
   "outputs": [],
   "source": [
    "linreg_heating=LinearRegression()\n",
    "linreg_heating.fit(Xtrain_mms, ytrain)\n",
    "ytestpredict_linreg_heating=linreg_heating.predict(Xtest_mms)"
   ]
  },
  {
   "cell_type": "code",
   "execution_count": 46,
   "metadata": {},
   "outputs": [
    {
     "name": "stdout",
     "output_type": "stream",
     "text": [
      "Results linear regression\n",
      "linear model intercept: [31.02997776]\n",
      "Linear model coefficients: [[-23.61240767  -8.81980983   0.32882635 -12.01550026  15.40724465\n",
      "   -0.05119371   7.50905536   0.90511064]]\n",
      "R-squared score Linear Regression Heating(training): 0.91927\n",
      "R-squared score Linear Regression Heating (test): 0.90125\n"
     ]
    }
   ],
   "source": [
    "print(\"Results linear regression\")\n",
    "print(\"linear model intercept: {}\".format(linreg_heating.intercept_))\n",
    "print(\"Linear model coefficients: {}\".format(linreg_heating.coef_))\n",
    "print('R-squared score Linear Regression Heating(training): {:.5f}'\n",
    "     .format(linreg_heating.score(Xtrain_mms, ytrain)))\n",
    "print('R-squared score Linear Regression Heating (test): {:.5f}'\n",
    "     .format(linreg_heating.score(Xtest_mms, ytest)))"
   ]
  },
  {
   "cell_type": "markdown",
   "metadata": {
    "collapsed": true
   },
   "source": [
    "### 4.1.2 Linear Regression for Cooling\n",
    "<a id=\"LinearCool\"></a>"
   ]
  },
  {
   "cell_type": "code",
   "execution_count": 47,
   "metadata": {
    "collapsed": true
   },
   "outputs": [],
   "source": [
    "linreg_cooling=LinearRegression()\n",
    "linreg_cooling.fit(Xtrain2_mms, ytrain2)\n",
    "ytestpredict_linreg_cooling=linreg_cooling.predict(Xtest2_mms)"
   ]
  },
  {
   "cell_type": "code",
   "execution_count": 48,
   "metadata": {},
   "outputs": [
    {
     "name": "stdout",
     "output_type": "stream",
     "text": [
      "Results linear regression\n",
      "linear model intercept: [35.28287172]\n",
      "Linear model coefficients: [[-2.46722123e+01 -9.16246585e+00 -1.78309920e+00 -1.08297662e+01\n",
      "   1.60919203e+01  3.94890726e-01  5.42375680e+00  1.28761414e-03]]\n",
      "R-squared score Linear Regression cooling (training): 0.85819\n",
      "R-squared score Linear Regression cooling (test): 0.80979\n"
     ]
    }
   ],
   "source": [
    "print(\"Results linear regression\")\n",
    "print(\"linear model intercept: {}\".format(linreg_cooling.intercept_))\n",
    "print(\"Linear model coefficients: {}\".format(linreg_cooling.coef_))\n",
    "print('R-squared score Linear Regression cooling (training): {:.5f}'\n",
    "     .format(linreg_cooling.score(Xtrain_mms, ytrain)))\n",
    "print('R-squared score Linear Regression cooling (test): {:.5f}'\n",
    "     .format(linreg_cooling.score(Xtest_mms, ytest)))"
   ]
  },
  {
   "cell_type": "markdown",
   "metadata": {},
   "source": [
    "### 4.1.3 Linear Regression for Overall\n",
    "<a id=\"LinearOver\"></a>"
   ]
  },
  {
   "cell_type": "code",
   "execution_count": 49,
   "metadata": {
    "collapsed": true
   },
   "outputs": [],
   "source": [
    "linreg_overall=LinearRegression()\n",
    "linreg_overall.fit(Xtraino_mms, ytraino)\n",
    "ytestpredict_linreg_overall=linreg_overall.predict(Xtesto_mms)"
   ]
  },
  {
   "cell_type": "code",
   "execution_count": 50,
   "metadata": {},
   "outputs": [
    {
     "name": "stdout",
     "output_type": "stream",
     "text": [
      "Results linear regression\n",
      "linear model intercept: [65.71797623]\n",
      "Linear model coefficients: [[-48.26144615 -17.73309099  -1.33148283 -22.60852357  31.81182151\n",
      "    0.41944166  13.04409428   0.94520239]]\n",
      "R-squared score Liner Regression overall(training): 0.91360\n",
      "R-squared score Linear Regression overall (test): 0.90419\n"
     ]
    }
   ],
   "source": [
    "print(\"Results linear regression\")\n",
    "print(\"linear model intercept: {}\".format(linreg_overall.intercept_))\n",
    "print(\"Linear model coefficients: {}\".format(linreg_overall.coef_))\n",
    "print('R-squared score Liner Regression overall(training): {:.5f}'\n",
    "     .format(linreg_overall.score(Xtraino_mms, ytraino)))\n",
    "print('R-squared score Linear Regression overall (test): {:.5f}'\n",
    "     .format(linreg_overall.score(Xtesto_mms, ytesto)))"
   ]
  },
  {
   "cell_type": "markdown",
   "metadata": {},
   "source": [
    "## 4.2 Lasso Regression\n",
    "\n",
    "<a id=\"Lasso\"></a>"
   ]
  },
  {
   "cell_type": "markdown",
   "metadata": {},
   "source": [
    "### 4.2.1 Lasso Regression for Heating\n",
    "<a id=\"LassoHeat\"></a>"
   ]
  },
  {
   "cell_type": "code",
   "execution_count": 51,
   "metadata": {},
   "outputs": [
    {
     "data": {
      "text/plain": [
       "GridSearchCV(cv=5, error_score='raise',\n",
       "       estimator=Lasso(alpha=1.0, copy_X=True, fit_intercept=True, max_iter=1000,\n",
       "   normalize=False, positive=False, precompute=False, random_state=None,\n",
       "   selection='cyclic', tol=0.0001, warm_start=False),\n",
       "       fit_params=None, iid=True, n_jobs=1,\n",
       "       param_grid={'alpha': [0.5, 1, 2, 3, 5, 10, 20, 50], 'max_iter': [100, 1000, 10000]},\n",
       "       pre_dispatch='2*n_jobs', refit=True, return_train_score='warn',\n",
       "       scoring=None, verbose=0)"
      ]
     },
     "execution_count": 51,
     "metadata": {},
     "output_type": "execute_result"
    }
   ],
   "source": [
    "auxLasso_heating=Lasso()\n",
    "\n",
    "lassoparam_heating={\"alpha\":[0.5,1,2,3,5,10,20,50],\n",
    "           \"max_iter\":[100,1000, 10000]}\n",
    "\n",
    "grid_lasso_heating=GridSearchCV(auxLasso_heating, lassoparam_heating, cv=5)\n",
    "grid_lasso_heating.fit(Xtrain_mms, ytrain)"
   ]
  },
  {
   "cell_type": "code",
   "execution_count": 52,
   "metadata": {},
   "outputs": [
    {
     "name": "stdout",
     "output_type": "stream",
     "text": [
      "Best K: {'alpha': 0.5, 'max_iter': 100}\n",
      "Best cross-validation score: 0.8487\n",
      "Best estimator:\n",
      "Lasso(alpha=0.5, copy_X=True, fit_intercept=True, max_iter=100,\n",
      "   normalize=False, positive=False, precompute=False, random_state=None,\n",
      "   selection='cyclic', tol=0.0001, warm_start=False)\n"
     ]
    }
   ],
   "source": [
    "print(\"Best K: {}\".format(grid_lasso_heating.best_params_))\n",
    "print(\"Best cross-validation score: {:.4f}\".format(grid_lasso_heating.best_score_))\n",
    "print(\"Best estimator:\\n{}\".format(grid_lasso_heating.best_estimator_))"
   ]
  },
  {
   "cell_type": "code",
   "execution_count": 53,
   "metadata": {},
   "outputs": [
    {
     "name": "stdout",
     "output_type": "stream",
     "text": [
      "Energy Optimization\n",
      "lasso regression linear model intercept: [11.9210448]\n",
      "lasso regression linear model coeff:\n",
      "[-0.          0.          1.76571046 -0.         15.88844016 -0.\n",
      "  3.04377231  0.        ]\n",
      "Non-zero features: 3\n",
      "R-squared score Lasso Heating (training): 0.85087\n",
      "R-squared score Lasso Heating (test): 0.81380\n",
      "\n"
     ]
    }
   ],
   "source": [
    "lasso_heating=Lasso(alpha=0.5, max_iter=100)\n",
    "lasso_heating.fit(Xtrain_mms, ytrain)\n",
    "\n",
    "ytestpredict_lasso_heating=lasso_heating.predict(Xtest_mms)\n",
    "\n",
    "print('Energy Optimization')\n",
    "print('lasso regression linear model intercept: {}'\n",
    "     .format(lasso_heating.intercept_))\n",
    "print('lasso regression linear model coeff:\\n{}'\n",
    "     .format(lasso_heating.coef_))\n",
    "print('Non-zero features: {}'\n",
    "     .format(np.sum(lasso_heating.coef_ != 0)))\n",
    "print('R-squared score Lasso Heating (training): {:.5f}'\n",
    "     .format(lasso_heating.score(Xtrain_mms, ytrain)))\n",
    "print('R-squared score Lasso Heating (test): {:.5f}\\n'\n",
    "     .format(lasso_heating.score(Xtest_mms, ytest)))\n"
   ]
  },
  {
   "cell_type": "code",
   "execution_count": 54,
   "metadata": {},
   "outputs": [
    {
     "name": "stdout",
     "output_type": "stream",
     "text": [
      "\tHeight, 15.89\n",
      "\tGlazingA, 3.04\n",
      "\tWallA, 1.77\n"
     ]
    }
   ],
   "source": [
    "#Selecting the featured variables\n",
    "for e in sorted (list(zip(list(Xtrain), lasso_heating.coef_)),\n",
    "                key = lambda e: -abs(e[1])):\n",
    "    if e[1] != 0:\n",
    "        print('\\t{}, {:.2f}'.format(e[0], e[1]))"
   ]
  },
  {
   "cell_type": "markdown",
   "metadata": {},
   "source": [
    "### 4.2.2 Lasso Regression for Cooling\n",
    "<a id=\"LassoCool\"></a>"
   ]
  },
  {
   "cell_type": "code",
   "execution_count": 55,
   "metadata": {},
   "outputs": [
    {
     "data": {
      "text/plain": [
       "GridSearchCV(cv=5, error_score='raise',\n",
       "       estimator=Lasso(alpha=1.0, copy_X=True, fit_intercept=True, max_iter=1000,\n",
       "   normalize=False, positive=False, precompute=False, random_state=None,\n",
       "   selection='cyclic', tol=0.0001, warm_start=False),\n",
       "       fit_params=None, iid=True, n_jobs=1,\n",
       "       param_grid={'alpha': [0.5, 1, 2, 3, 5, 10, 20, 50], 'max_iter': [100, 1000, 10000]},\n",
       "       pre_dispatch='2*n_jobs', refit=True, return_train_score='warn',\n",
       "       scoring=None, verbose=0)"
      ]
     },
     "execution_count": 55,
     "metadata": {},
     "output_type": "execute_result"
    }
   ],
   "source": [
    "auxLasso_cooling=Lasso()\n",
    "\n",
    "lassoparam_cooling={\"alpha\":[0.5,1,2,3,5,10,20,50],\n",
    "           \"max_iter\":[100,1000, 10000]}\n",
    "\n",
    "grid_lasso_cooling=GridSearchCV(auxLasso_cooling, lassoparam_cooling, cv=5)\n",
    "grid_lasso_cooling.fit(Xtrain2_mms, ytrain2)"
   ]
  },
  {
   "cell_type": "code",
   "execution_count": 56,
   "metadata": {},
   "outputs": [
    {
     "name": "stdout",
     "output_type": "stream",
     "text": [
      "Best K: {'alpha': 0.5, 'max_iter': 100}\n",
      "Best cross-validation score: 0.8103\n",
      "Best estimator:\n",
      "Lasso(alpha=0.5, copy_X=True, fit_intercept=True, max_iter=100,\n",
      "   normalize=False, positive=False, precompute=False, random_state=None,\n",
      "   selection='cyclic', tol=0.0001, warm_start=False)\n"
     ]
    }
   ],
   "source": [
    "print(\"Best K: {}\".format(grid_lasso_cooling.best_params_))\n",
    "print(\"Best cross-validation score: {:.4f}\".format(grid_lasso_cooling.best_score_))\n",
    "print(\"Best estimator:\\n{}\".format(grid_lasso_cooling.best_estimator_))"
   ]
  },
  {
   "cell_type": "code",
   "execution_count": 57,
   "metadata": {},
   "outputs": [
    {
     "name": "stdout",
     "output_type": "stream",
     "text": [
      "Energy Optimization\n",
      "lasso regression linear model intercept: [16.61123697]\n",
      "lasso regression linear model coeff:\n",
      "[-0.00000000e+00  0.00000000e+00  4.44070663e-03 -0.00000000e+00\n",
      "  1.52164391e+01  0.00000000e+00  8.07605511e-01  0.00000000e+00]\n",
      "Non-zero features: 3\n",
      "R-squared score Lasso cooling (training): 0.81239\n",
      "R-squared score Lasso cooling (test): 0.76976\n",
      "\n"
     ]
    }
   ],
   "source": [
    "lasso_cooling=Lasso(alpha=0.5, max_iter=100)\n",
    "lasso_cooling.fit(Xtrain2_mms, ytrain2)\n",
    "\n",
    "ytestpredict_lasso_cooling=lasso_cooling.predict(Xtest2_mms)\n",
    "\n",
    "print('Energy Optimization')\n",
    "print('lasso regression linear model intercept: {}'\n",
    "     .format(lasso_cooling.intercept_))\n",
    "print('lasso regression linear model coeff:\\n{}'\n",
    "     .format(lasso_cooling.coef_))\n",
    "print('Non-zero features: {}'\n",
    "     .format(np.sum(lasso_cooling.coef_ != 0)))\n",
    "print('R-squared score Lasso cooling (training): {:.5f}'\n",
    "     .format(lasso_cooling.score(Xtrain2_mms, ytrain2)))\n",
    "print('R-squared score Lasso cooling (test): {:.5f}\\n'\n",
    "     .format(lasso_cooling.score(Xtest2_mms, ytest2)))\n"
   ]
  },
  {
   "cell_type": "code",
   "execution_count": 58,
   "metadata": {},
   "outputs": [
    {
     "name": "stdout",
     "output_type": "stream",
     "text": [
      "\tHeight, 15.22\n",
      "\tGlazingA, 0.81\n",
      "\tWallA, 0.00\n"
     ]
    }
   ],
   "source": [
    "#Selecting the featured variables\n",
    "for e in sorted (list(zip(list(Xtrain2), lasso_cooling.coef_)),\n",
    "                key = lambda e: -abs(e[1])):\n",
    "    if e[1] != 0:\n",
    "        print('\\t{}, {:.2f}'.format(e[0], e[1]))"
   ]
  },
  {
   "cell_type": "markdown",
   "metadata": {},
   "source": [
    "### 4.2.3 Lasso Regression for Overall\n",
    "<a id=\"LassoOver\"></a>"
   ]
  },
  {
   "cell_type": "code",
   "execution_count": 59,
   "metadata": {},
   "outputs": [
    {
     "data": {
      "text/plain": [
       "GridSearchCV(cv=5, error_score='raise',\n",
       "       estimator=Lasso(alpha=1.0, copy_X=True, fit_intercept=True, max_iter=1000,\n",
       "   normalize=False, positive=False, precompute=False, random_state=None,\n",
       "   selection='cyclic', tol=0.0001, warm_start=False),\n",
       "       fit_params=None, iid=True, n_jobs=1,\n",
       "       param_grid={'alpha': [0.5, 1, 2, 3, 5, 10, 20, 50], 'max_iter': [100, 1000, 10000]},\n",
       "       pre_dispatch='2*n_jobs', refit=True, return_train_score='warn',\n",
       "       scoring=None, verbose=0)"
      ]
     },
     "execution_count": 59,
     "metadata": {},
     "output_type": "execute_result"
    }
   ],
   "source": [
    "auxLasso_overall=Lasso()\n",
    "\n",
    "lassoparam_overall={\"alpha\":[0.5,1,2,3,5,10,20,50],\n",
    "           \"max_iter\":[100,1000, 10000]}\n",
    "\n",
    "grid_lasso_overall=GridSearchCV(auxLasso_overall, lassoparam_overall, cv=5)\n",
    "grid_lasso_overall.fit(Xtraino_mms, ytraino)"
   ]
  },
  {
   "cell_type": "code",
   "execution_count": 60,
   "metadata": {},
   "outputs": [
    {
     "name": "stdout",
     "output_type": "stream",
     "text": [
      "Best K: {'alpha': 0.5, 'max_iter': 100}\n",
      "Best cross-validation score: 0.8867\n",
      "Best estimator:\n",
      "Lasso(alpha=0.5, copy_X=True, fit_intercept=True, max_iter=100,\n",
      "   normalize=False, positive=False, precompute=False, random_state=None,\n",
      "   selection='cyclic', tol=0.0001, warm_start=False)\n"
     ]
    }
   ],
   "source": [
    "print(\"Best K: {}\".format(grid_lasso_overall.best_params_))\n",
    "print(\"Best cross-validation score: {:.4f}\".format(grid_lasso_overall.best_score_))\n",
    "print(\"Best estimator:\\n{}\".format(grid_lasso_overall.best_estimator_))"
   ]
  },
  {
   "cell_type": "code",
   "execution_count": 61,
   "metadata": {},
   "outputs": [
    {
     "name": "stdout",
     "output_type": "stream",
     "text": [
      "Energy Optimization\n",
      "lasso regression linear model intercept: [22.1087299]\n",
      "lasso regression linear model coeff:\n",
      "[-0.          0.          9.01625178 -0.         31.96460868  0.\n",
      "  8.68551012  0.        ]\n",
      "Non-zero features: 3\n",
      "R-squared score Lasso overall (training): 0.88891\n",
      "R-squared score Lasso overall (test): 0.87799\n",
      "\n"
     ]
    }
   ],
   "source": [
    "lasso_overall=Lasso(alpha=0.5, max_iter=100)\n",
    "lasso_overall.fit(Xtraino_mms, ytraino)\n",
    "\n",
    "ytestpredict_lasso_overall=lasso_overall.predict(Xtesto_mms)\n",
    "\n",
    "print('Energy Optimization')\n",
    "print('lasso regression linear model intercept: {}'\n",
    "     .format(lasso_overall.intercept_))\n",
    "print('lasso regression linear model coeff:\\n{}'\n",
    "     .format(lasso_overall.coef_))\n",
    "print('Non-zero features: {}'\n",
    "     .format(np.sum(lasso_overall.coef_ != 0)))\n",
    "print('R-squared score Lasso overall (training): {:.5f}'\n",
    "     .format(lasso_overall.score(Xtraino_mms, ytraino)))\n",
    "print('R-squared score Lasso overall (test): {:.5f}\\n'\n",
    "     .format(lasso_overall.score(Xtesto_mms, ytesto)))\n"
   ]
  },
  {
   "cell_type": "code",
   "execution_count": 62,
   "metadata": {},
   "outputs": [
    {
     "name": "stdout",
     "output_type": "stream",
     "text": [
      "\tHeight, 31.96\n",
      "\tWallA, 9.02\n",
      "\tGlazingA, 8.69\n"
     ]
    }
   ],
   "source": [
    "#Selecting the featured variables\n",
    "for e in sorted (list(zip(list(Xtraino), lasso_overall.coef_)),\n",
    "                key = lambda e: -abs(e[1])):\n",
    "    if e[1] != 0:\n",
    "        print('\\t{}, {:.2f}'.format(e[0], e[1]))"
   ]
  },
  {
   "cell_type": "markdown",
   "metadata": {},
   "source": [
    "## 4.3 Random Forest Regression\n",
    "\n",
    "<a id=\"RandomReg\"></a>"
   ]
  },
  {
   "cell_type": "markdown",
   "metadata": {
    "collapsed": true
   },
   "source": [
    "### 4.3.1 Random Forest Regression for Heating\n",
    "<a id=\"RfregHeat\"></a>"
   ]
  },
  {
   "cell_type": "code",
   "execution_count": 63,
   "metadata": {},
   "outputs": [
    {
     "name": "stdout",
     "output_type": "stream",
     "text": [
      "Best K: {'max_depth': 10, 'max_features': 5, 'n_estimators': 20}\n",
      "Best cross-validation Accuracy: 0.9958\n",
      "Best estimator:\n",
      "RandomForestRegressor(bootstrap=True, criterion='mse', max_depth=10,\n",
      "           max_features=5, max_leaf_nodes=None, min_impurity_decrease=0.0,\n",
      "           min_impurity_split=None, min_samples_leaf=1,\n",
      "           min_samples_split=2, min_weight_fraction_leaf=0.0,\n",
      "           n_estimators=20, n_jobs=1, oob_score=False, random_state=20,\n",
      "           verbose=0, warm_start=False)\n"
     ]
    }
   ],
   "source": [
    "#Setting the parameters\n",
    "aux_randomforest_heating=RandomForestRegressor(random_state=20)\n",
    "randomforestparam_heating={\"n_estimators\":[10,20,30,50],\n",
    "                            'max_features': [3, 4, 5, 6, 7, 'auto'], \n",
    "                           \"max_depth\":[5, 10,15,20]}\n",
    "grid_randomforest_heating=GridSearchCV(aux_randomforest_heating, randomforestparam_heating, cv=5)\n",
    "\n",
    "#Fitting\n",
    "grid_randomforest_heating.fit(Xtrain_mms, ytrain.values.ravel())  #We've used ravel because warning message\n",
    "\n",
    "#Print reports\n",
    "print(\"Best K: {}\".format(grid_randomforest_heating.best_params_))\n",
    "print(\"Best cross-validation Accuracy: {:.4f}\".format(grid_randomforest_heating.best_score_))\n",
    "print(\"Best estimator:\\n{}\".format(grid_randomforest_heating.best_estimator_))"
   ]
  },
  {
   "cell_type": "code",
   "execution_count": 64,
   "metadata": {},
   "outputs": [
    {
     "name": "stdout",
     "output_type": "stream",
     "text": [
      "Accuracy Random Forest Heating (Train): 0.9995\n",
      "Accuracy Random Forest Cooling (Test): 0.9977\n"
     ]
    }
   ],
   "source": [
    "randomforest_heating=RandomForestRegressor(max_depth=10, n_estimators=20,\n",
    "                                           max_features=5, random_state=20)\n",
    "randomforest_heating.fit(Xtrain_mms, ytrain.values.ravel())\n",
    "\n",
    "\n",
    "ytestpredict_randomforest_heating=randomforest_heating.predict(Xtest_mms)\n",
    "\n",
    "\n",
    "print('Accuracy Random Forest Heating (Train): {:.4f}'.format(randomforest_heating.score(Xtrain_mms, ytrain)))\n",
    "print('Accuracy Random Forest Cooling (Test): {:.4f}'.format(randomforest_heating.score(Xtest_mms, ytest)))\n"
   ]
  },
  {
   "cell_type": "markdown",
   "metadata": {},
   "source": [
    "### 4.3.2 Random Forest Regression for cooling\n",
    "<a id=\"RfregCool\"></a>"
   ]
  },
  {
   "cell_type": "code",
   "execution_count": 65,
   "metadata": {},
   "outputs": [
    {
     "name": "stdout",
     "output_type": "stream",
     "text": [
      "Best K: {'max_depth': 15, 'max_features': 3, 'n_estimators': 50}\n",
      "Best cross-validation Accuracy: 0.9675\n",
      "Best estimator:\n",
      "RandomForestRegressor(bootstrap=True, criterion='mse', max_depth=15,\n",
      "           max_features=3, max_leaf_nodes=None, min_impurity_decrease=0.0,\n",
      "           min_impurity_split=None, min_samples_leaf=1,\n",
      "           min_samples_split=2, min_weight_fraction_leaf=0.0,\n",
      "           n_estimators=50, n_jobs=1, oob_score=False, random_state=20,\n",
      "           verbose=0, warm_start=False)\n"
     ]
    }
   ],
   "source": [
    "#Setting the parameters\n",
    "aux_randomforest_cooling=RandomForestRegressor(random_state=20)\n",
    "randomforestparam_cooling={\"n_estimators\":[10,20,30,50],\n",
    "                           'max_features': [3, 4, 5, 6, 7, 'auto'], \n",
    "           \"max_depth\":[5, 10,15,20]}\n",
    "grid_randomforest_cooling=GridSearchCV(aux_randomforest_cooling, randomforestparam_cooling, cv=5)\n",
    "\n",
    "#Fitting\n",
    "grid_randomforest_cooling.fit(Xtrain2_mms, ytrain2.values.ravel())  #We've used ravel because warning message\n",
    "\n",
    "#Print reports\n",
    "print(\"Best K: {}\".format(grid_randomforest_cooling.best_params_))\n",
    "print(\"Best cross-validation Accuracy: {:.4f}\".format(grid_randomforest_cooling.best_score_))\n",
    "print(\"Best estimator:\\n{}\".format(grid_randomforest_cooling.best_estimator_))"
   ]
  },
  {
   "cell_type": "code",
   "execution_count": 66,
   "metadata": {},
   "outputs": [
    {
     "name": "stdout",
     "output_type": "stream",
     "text": [
      "Accuracy Random Forest Cooling (Train): 0.9959\n",
      "Accuracy Random Forest Cooling (Test): 0.9664\n"
     ]
    }
   ],
   "source": [
    "randomforest_cooling=RandomForestRegressor(max_depth=15, max_features=3,\n",
    "                                           n_estimators=50, random_state=20)\n",
    "randomforest_cooling.fit(Xtrain2_mms, ytrain2.values.ravel())\n",
    "\n",
    "\n",
    "ytestpredict_randomforest_cooling=randomforest_cooling.predict(Xtest2_mms)\n",
    "\n",
    "\n",
    "print('Accuracy Random Forest Cooling (Train): {:.4f}'.format(randomforest_cooling.score(Xtrain2_mms, ytrain2)))\n",
    "print('Accuracy Random Forest Cooling (Test): {:.4f}'.format(randomforest_cooling.score(Xtest2_mms, ytest2)))"
   ]
  },
  {
   "cell_type": "markdown",
   "metadata": {},
   "source": [
    "### 4.3.3 Random Forest Regression for overall load\n",
    "<a id=\"RfregOver\"></a>"
   ]
  },
  {
   "cell_type": "code",
   "execution_count": 67,
   "metadata": {},
   "outputs": [
    {
     "name": "stdout",
     "output_type": "stream",
     "text": [
      "Best K: {'max_depth': 10, 'max_features': 5, 'n_estimators': 50}\n",
      "Best cross-validation Accuracy: 0.9914\n",
      "Best estimator:\n",
      "RandomForestRegressor(bootstrap=True, criterion='mse', max_depth=10,\n",
      "           max_features=5, max_leaf_nodes=None, min_impurity_decrease=0.0,\n",
      "           min_impurity_split=None, min_samples_leaf=1,\n",
      "           min_samples_split=2, min_weight_fraction_leaf=0.0,\n",
      "           n_estimators=50, n_jobs=1, oob_score=False, random_state=20,\n",
      "           verbose=0, warm_start=False)\n"
     ]
    }
   ],
   "source": [
    "#Setting the parameters\n",
    "aux_randomforest_overall=RandomForestRegressor(random_state=20)\n",
    "randomforestparam_overall={\"n_estimators\":[10,20,30,50],\n",
    "                           'max_features': [3, 4, 5, 6, 7, 'auto'], \n",
    "                           \"max_depth\":[5, 10,15,20]}\n",
    "grid_randomforest_overall=GridSearchCV(aux_randomforest_cooling, randomforestparam_cooling, cv=5)\n",
    "\n",
    "#Fitting\n",
    "grid_randomforest_overall.fit(Xtraino_mms, ytraino.values.ravel())  #We've used ravel because warning message\n",
    "\n",
    "#Print reports\n",
    "print(\"Best K: {}\".format(grid_randomforest_overall.best_params_))\n",
    "print(\"Best cross-validation Accuracy: {:.4f}\".format(grid_randomforest_overall.best_score_))\n",
    "print(\"Best estimator:\\n{}\".format(grid_randomforest_overall.best_estimator_))"
   ]
  },
  {
   "cell_type": "code",
   "execution_count": 68,
   "metadata": {},
   "outputs": [
    {
     "name": "stdout",
     "output_type": "stream",
     "text": [
      "Accuracy Random Forest overall (Train): 0.9985\n",
      "Accuracy Random Forest overall (Test): 0.9933\n"
     ]
    }
   ],
   "source": [
    "randomforest_overall=RandomForestRegressor(max_depth=10, n_estimators=50,\n",
    "                                           max_features=5, random_state=20)\n",
    "randomforest_overall.fit(Xtraino_mms, ytraino.values.ravel())\n",
    "\n",
    "\n",
    "ytestpredict_randomforest_overall=randomforest_overall.predict(Xtesto_mms)\n",
    "\n",
    "\n",
    "print('Accuracy Random Forest overall (Train): {:.4f}'.format(randomforest_overall.score(Xtraino_mms, ytraino)))\n",
    "print('Accuracy Random Forest overall (Test): {:.4f}'.format(randomforest_overall.score(Xtesto_mms, ytesto)))"
   ]
  },
  {
   "cell_type": "markdown",
   "metadata": {},
   "source": [
    "## 4.4 Adaboost Lasso\n",
    "<a id=\"AdaboostReg\"></a>"
   ]
  },
  {
   "cell_type": "markdown",
   "metadata": {
    "collapsed": true
   },
   "source": [
    "### 4.4.1 Adaboost Lasso for Heating\n",
    "<a id=\"AdaLassoHeat\"></a>"
   ]
  },
  {
   "cell_type": "code",
   "execution_count": 69,
   "metadata": {},
   "outputs": [
    {
     "data": {
      "text/plain": [
       "AdaBoostRegressor(base_estimator=Lasso(alpha=0.5, copy_X=True, fit_intercept=True, max_iter=100,\n",
       "   normalize=False, positive=False, precompute=False, random_state=None,\n",
       "   selection='cyclic', tol=0.0001, warm_start=False),\n",
       "         learning_rate=0.5, loss='linear', n_estimators=100,\n",
       "         random_state=20)"
      ]
     },
     "execution_count": 69,
     "metadata": {},
     "output_type": "execute_result"
    }
   ],
   "source": [
    "adalasso_heating=AdaBoostRegressor(base_estimator=lasso_heating, n_estimators=100, \n",
    "                             learning_rate = 0.5, random_state=20)\n",
    "adalasso_heating.fit(Xtrain_mms, ytrain.values.ravel())"
   ]
  },
  {
   "cell_type": "code",
   "execution_count": 70,
   "metadata": {},
   "outputs": [
    {
     "name": "stdout",
     "output_type": "stream",
     "text": [
      "Accuracy Adaboost Lasso Heating (Train): 0.8832\n",
      "Accuracy Adaboost Lasso Heating (Test): 0.8560\n"
     ]
    }
   ],
   "source": [
    "print('Accuracy Adaboost Lasso Heating (Train): {:.4f}'.format(adalasso_heating.score(Xtrain_mms, ytrain)))\n",
    "print('Accuracy Adaboost Lasso Heating (Test): {:.4f}'.format(adalasso_heating.score(Xtest_mms, ytest)))"
   ]
  },
  {
   "cell_type": "markdown",
   "metadata": {},
   "source": [
    "### 4.4.2 Adaboost Lasso for Cooling\n",
    "<a id=\"AdaLassoCool\"></a>"
   ]
  },
  {
   "cell_type": "code",
   "execution_count": 71,
   "metadata": {},
   "outputs": [
    {
     "data": {
      "text/plain": [
       "AdaBoostRegressor(base_estimator=Lasso(alpha=0.5, copy_X=True, fit_intercept=True, max_iter=100,\n",
       "   normalize=False, positive=False, precompute=False, random_state=None,\n",
       "   selection='cyclic', tol=0.0001, warm_start=False),\n",
       "         learning_rate=0.4, loss='linear', n_estimators=100,\n",
       "         random_state=20)"
      ]
     },
     "execution_count": 71,
     "metadata": {},
     "output_type": "execute_result"
    }
   ],
   "source": [
    "adalasso_cooling=AdaBoostRegressor(base_estimator=lasso_cooling, n_estimators=100, \n",
    "                             learning_rate = 0.4, random_state=20)\n",
    "adalasso_cooling.fit(Xtrain2_mms, ytrain2.values.ravel())"
   ]
  },
  {
   "cell_type": "code",
   "execution_count": 72,
   "metadata": {},
   "outputs": [
    {
     "name": "stdout",
     "output_type": "stream",
     "text": [
      "Accuracy Adaboost Lasso Cooling (Train): 0.8386\n",
      "Accuracy Adaboost Lasso Cooling (Test): 0.8369\n"
     ]
    }
   ],
   "source": [
    "print('Accuracy Adaboost Lasso Cooling (Train): {:.4f}'.format(adalasso_heating.score(Xtrain2_mms, ytrain2)))\n",
    "print('Accuracy Adaboost Lasso Cooling (Test): {:.4f}'.format(adalasso_heating.score(Xtest2_mms, ytest2)))"
   ]
  },
  {
   "cell_type": "markdown",
   "metadata": {},
   "source": [
    "### 4.4.3 Adaboost Lasso for Overall load\n",
    "<a id=\"AdaLassoOver\"></a>"
   ]
  },
  {
   "cell_type": "code",
   "execution_count": 73,
   "metadata": {},
   "outputs": [
    {
     "data": {
      "text/plain": [
       "AdaBoostRegressor(base_estimator=Lasso(alpha=0.5, copy_X=True, fit_intercept=True, max_iter=100,\n",
       "   normalize=False, positive=False, precompute=False, random_state=None,\n",
       "   selection='cyclic', tol=0.0001, warm_start=False),\n",
       "         learning_rate=0.2, loss='linear', n_estimators=100,\n",
       "         random_state=20)"
      ]
     },
     "execution_count": 73,
     "metadata": {},
     "output_type": "execute_result"
    }
   ],
   "source": [
    "adalasso_overall=AdaBoostRegressor(base_estimator=lasso_cooling, n_estimators=100, \n",
    "                             learning_rate = 0.2, random_state=20)\n",
    "adalasso_overall.fit(Xtraino_mms, ytraino.values.ravel())"
   ]
  },
  {
   "cell_type": "code",
   "execution_count": 74,
   "metadata": {},
   "outputs": [
    {
     "name": "stdout",
     "output_type": "stream",
     "text": [
      "Accuracy Adaboost Lasso Cooling (Train): 0.9007\n",
      "Accuracy Adaboost Lasso Cooling (Test): 0.8905\n"
     ]
    }
   ],
   "source": [
    "print('Accuracy Adaboost Lasso Cooling (Train): {:.4f}'.format(adalasso_overall.score(Xtraino_mms, ytraino)))\n",
    "print('Accuracy Adaboost Lasso Cooling (Test): {:.4f}'.format(adalasso_overall.score(Xtesto_mms, ytesto)))"
   ]
  },
  {
   "cell_type": "markdown",
   "metadata": {},
   "source": [
    "## 5. Modelling with Supervised Algorithms for Classification\n",
    "<a id=\"ModClass\"></a>"
   ]
  },
  {
   "cell_type": "markdown",
   "metadata": {},
   "source": [
    "## 5.1 DecicionTree\n",
    "<a id=\"Tree\"></a>"
   ]
  },
  {
   "cell_type": "markdown",
   "metadata": {},
   "source": [
    "### 5.1.1 Decision Tree for Heating\n",
    "<a id=\"TreeHeat\"></a>"
   ]
  },
  {
   "cell_type": "code",
   "execution_count": 75,
   "metadata": {
    "collapsed": true
   },
   "outputs": [],
   "source": [
    "bag=pd.DataFrame(columns=['Model', 'Train Score', 'Test Score', 'oob_score', 'Test(Bagging)'])"
   ]
  },
  {
   "cell_type": "code",
   "execution_count": 76,
   "metadata": {},
   "outputs": [
    {
     "name": "stdout",
     "output_type": "stream",
     "text": [
      "Best Parameters: {'max_depth': 8.0, 'min_samples_split': 8}\n",
      "Best cross-validation R Square: 0.9642\n",
      "Best estimator:\n",
      "DecisionTreeClassifier(class_weight=None, criterion='gini', max_depth=8.0,\n",
      "            max_features=None, max_leaf_nodes=None,\n",
      "            min_impurity_decrease=0.0, min_impurity_split=None,\n",
      "            min_samples_leaf=1, min_samples_split=8,\n",
      "            min_weight_fraction_leaf=0.0, presort=False, random_state=10,\n",
      "            splitter='best')\n"
     ]
    }
   ],
   "source": [
    "tree_heat_grid=DecisionTreeClassifier(random_state=10)\n",
    "\n",
    "max_depths = np.linspace(1, 32, 32, endpoint=True)\n",
    "# min_samples_splits = np.linspace(0.1, 1.0, 10, endpoint=True)\n",
    "\n",
    "treeparam = {\"max_depth\":max_depths,\n",
    "          'min_samples_split':[2, 4, 6, 8, 10]}\n",
    "\n",
    "kfold=KFold(n_splits=5, random_state=10)\n",
    "tree_heat_grid=GridSearchCV(tree_heat_grid, treeparam, cv=kfold, scoring= 'accuracy')\n",
    "\n",
    "#Fitting\n",
    "tree_heat_grid.fit(Xtrain3_mms, ytrain3)\n",
    "\n",
    "#Printing reports\n",
    "print(\"Best Parameters: {}\".format(tree_heat_grid.best_params_))\n",
    "print(\"Best cross-validation R Square: {:.4f}\".format(tree_heat_grid.best_score_))\n",
    "print(\"Best estimator:\\n{}\".format(tree_heat_grid.best_estimator_))"
   ]
  },
  {
   "cell_type": "code",
   "execution_count": 77,
   "metadata": {},
   "outputs": [
    {
     "name": "stdout",
     "output_type": "stream",
     "text": [
      "R Square(Train): 0.9805\n",
      "R Square(Test): 0.9935\n"
     ]
    }
   ],
   "source": [
    "tree_heat_class=DecisionTreeClassifier(max_depth = 8.0 , min_samples_split = 8, random_state=10)\n",
    "tree_heat_class.fit(Xtrain3_mms, ytrain3)\n",
    "\n",
    "best_tree_train_heat=tree_heat_class.score(Xtrain3_mms, ytrain3)\n",
    "best_tree_test_heat=tree_heat_class.score(Xtest3_mms, ytest3)\n",
    "\n",
    "print('R Square(Train): {:.4f}'.format(best_tree_train_heat))\n",
    "print('R Square(Test): {:.4f}'.format(best_tree_test_heat))"
   ]
  },
  {
   "cell_type": "markdown",
   "metadata": {},
   "source": [
    "#### Ensemble the tree classifier using bagging"
   ]
  },
  {
   "cell_type": "code",
   "execution_count": 78,
   "metadata": {},
   "outputs": [
    {
     "name": "stdout",
     "output_type": "stream",
     "text": [
      "Best Parameters: {'max_features': 1.0, 'max_samples': 0.8, 'n_estimators': 5}\n",
      "Best cross-validation R Square: 0.9674\n",
      "Best estimator:\n",
      "BaggingClassifier(base_estimator=DecisionTreeClassifier(class_weight=None, criterion='gini', max_depth=8.0,\n",
      "            max_features=None, max_leaf_nodes=None,\n",
      "            min_impurity_decrease=0.0, min_impurity_split=None,\n",
      "            min_samples_leaf=1, min_samples_split=8,\n",
      "            min_weight_fraction_leaf=0.0, presort=False, random_state=10,\n",
      "            splitter='best'),\n",
      "         bootstrap=True, bootstrap_features=False, max_features=1.0,\n",
      "         max_samples=0.8, n_estimators=5, n_jobs=1, oob_score=False,\n",
      "         random_state=10, verbose=0, warm_start=False)\n"
     ]
    }
   ],
   "source": [
    "bagging_tree_heat_class = BaggingClassifier(tree_heat_class, random_state=10)\n",
    "\n",
    "\n",
    "bagging_tree_grid = {'n_estimators':[5 ,10, 15, 20],\n",
    "                 \"max_samples\": [0.5, 0.8, 1.0],\n",
    "                 \"max_features\": [0.5, 0.8, 1.0]}\n",
    "\n",
    "\n",
    "kfold=KFold(n_splits=5, random_state=10)\n",
    "\n",
    "bagging_tree_heat_class = GridSearchCV(bagging_tree_heat_class, bagging_tree_grid, cv=kfold, scoring= 'accuracy')\n",
    "\n",
    "bagging_tree_heat_class = bagging_tree_heat_class.fit(Xtrain3_mms, ytrain3)\n",
    "\n",
    "print(\"Best Parameters: {}\".format(bagging_tree_heat_class.best_params_))\n",
    "print(\"Best cross-validation R Square: {:.4f}\".format(bagging_tree_heat_class.best_score_))\n",
    "print(\"Best estimator:\\n{}\".format(bagging_tree_heat_class.best_estimator_))"
   ]
  },
  {
   "cell_type": "code",
   "execution_count": 79,
   "metadata": {},
   "outputs": [
    {
     "name": "stdout",
     "output_type": "stream",
     "text": [
      "R Square(Train): 0.9821\n",
      "R Square(Out of Bag): 0.9202\n",
      "R Square(Test): 0.9935\n"
     ]
    }
   ],
   "source": [
    "Bagging_tree_heat_class=BaggingClassifier(tree_heat_class, max_features=1.0, max_samples=0.8, \n",
    "                                   n_estimators=5,bootstrap=True, oob_score=True, random_state=10)\n",
    "\n",
    "Bagging_tree_heat_class.fit(Xtrain3_mms, ytrain3)\n",
    "\n",
    "bestbagging_tree_oob_heat=Bagging_tree_heat_class.oob_score_\n",
    "bestbagging_tree_test_heat=Bagging_tree_heat_class.score(Xtest3_mms, ytest3)\n",
    "\n",
    "print(\"R Square(Train): {:.4f}\".format(Bagging_tree_heat_class.score(Xtrain3_mms, ytrain3)))\n",
    "print(\"R Square(Out of Bag): {:.4f}\".format(bestbagging_tree_oob_heat))\n",
    "print('R Square(Test): {:.4f}'.format(bestbagging_tree_test_heat))"
   ]
  },
  {
   "cell_type": "code",
   "execution_count": 80,
   "metadata": {
    "collapsed": true
   },
   "outputs": [],
   "source": [
    "bag.loc[len(bag)]=['Tree Heat',best_tree_train_heat,best_tree_test_heat,\n",
    "            bestbagging_tree_oob_heat,bestbagging_tree_test_heat]"
   ]
  },
  {
   "cell_type": "markdown",
   "metadata": {},
   "source": [
    "### 5.1.2 Decision Tree for Cooling\n",
    "<a id=\"TreeCool\"></a>"
   ]
  },
  {
   "cell_type": "code",
   "execution_count": 81,
   "metadata": {},
   "outputs": [
    {
     "name": "stdout",
     "output_type": "stream",
     "text": [
      "Best Parameters: {'max_depth': 5.0, 'min_samples_split': 2}\n",
      "Best cross-validation R Square: 0.9902\n",
      "Best estimator:\n",
      "DecisionTreeClassifier(class_weight=None, criterion='gini', max_depth=5.0,\n",
      "            max_features=None, max_leaf_nodes=None,\n",
      "            min_impurity_decrease=0.0, min_impurity_split=None,\n",
      "            min_samples_leaf=1, min_samples_split=2,\n",
      "            min_weight_fraction_leaf=0.0, presort=False, random_state=10,\n",
      "            splitter='best')\n"
     ]
    }
   ],
   "source": [
    "tree_cool_grid=DecisionTreeClassifier(random_state=10)\n",
    "\n",
    "max_depths = np.linspace(1, 32, 32, endpoint=True)\n",
    "# min_samples_splits = np.linspace(0.1, 1.0, 10, endpoint=True)\n",
    "\n",
    "treeparam = {\"max_depth\":max_depths,\n",
    "          'min_samples_split':[2, 4, 6, 8, 10]}\n",
    "\n",
    "kfold=KFold(n_splits=5, random_state=10)\n",
    "tree_cool_grid=GridSearchCV(tree_cool_grid, treeparam, cv=kfold, scoring= 'accuracy')\n",
    "\n",
    "#Fitting\n",
    "tree_cool_grid.fit(Xtrain4_mms, ytrain4)\n",
    "\n",
    "#Printing reports\n",
    "print(\"Best Parameters: {}\".format(tree_cool_grid.best_params_))\n",
    "print(\"Best cross-validation R Square: {:.4f}\".format(tree_cool_grid.best_score_))\n",
    "print(\"Best estimator:\\n{}\".format(tree_cool_grid.best_estimator_))"
   ]
  },
  {
   "cell_type": "code",
   "execution_count": 82,
   "metadata": {},
   "outputs": [
    {
     "name": "stdout",
     "output_type": "stream",
     "text": [
      "R Square(Train): 0.9951\n",
      "R Square(Test): 0.9545\n"
     ]
    }
   ],
   "source": [
    "tree_cool_class=DecisionTreeClassifier(max_depth = 5.0 , min_samples_split = 2, random_state=10)\n",
    "tree_cool_class.fit(Xtrain4_mms, ytrain4)\n",
    "\n",
    "best_tree_train_cool=tree_cool_class.score(Xtrain4_mms, ytrain4)\n",
    "best_tree_test_cool=tree_cool_class.score(Xtest4_mms, ytest4)\n",
    "\n",
    "print('R Square(Train): {:.4f}'.format(best_tree_train_cool))\n",
    "print('R Square(Test): {:.4f}'.format(best_tree_test_cool))"
   ]
  },
  {
   "cell_type": "markdown",
   "metadata": {},
   "source": [
    "#### Ensemble the tree classifier using bagging"
   ]
  },
  {
   "cell_type": "code",
   "execution_count": 83,
   "metadata": {},
   "outputs": [
    {
     "name": "stdout",
     "output_type": "stream",
     "text": [
      "Best Parameters: {'max_features': 0.5, 'max_samples': 1.0, 'n_estimators': 15}\n",
      "Best cross-validation R Square: 0.9902\n",
      "Best estimator:\n",
      "BaggingClassifier(base_estimator=DecisionTreeClassifier(class_weight=None, criterion='gini', max_depth=5.0,\n",
      "            max_features=None, max_leaf_nodes=None,\n",
      "            min_impurity_decrease=0.0, min_impurity_split=None,\n",
      "            min_samples_leaf=1, min_samples_split=2,\n",
      "            min_weight_fraction_leaf=0.0, presort=False, random_state=10,\n",
      "            splitter='best'),\n",
      "         bootstrap=True, bootstrap_features=False, max_features=0.5,\n",
      "         max_samples=1.0, n_estimators=15, n_jobs=1, oob_score=False,\n",
      "         random_state=10, verbose=0, warm_start=False)\n"
     ]
    }
   ],
   "source": [
    "bagging_tree_cool_class = BaggingClassifier(tree_cool_class, random_state=10)\n",
    "\n",
    "\n",
    "bagging_tree_grid = {'n_estimators':[5 ,10, 15, 20],\n",
    "                 \"max_samples\": [0.5, 0.8, 1.0],\n",
    "                 \"max_features\": [0.5, 0.8, 1.0]}\n",
    "\n",
    "\n",
    "kfold=KFold(n_splits=5, random_state=10)\n",
    "\n",
    "bagging_tree_cool_class = GridSearchCV(bagging_tree_cool_class, bagging_tree_grid, cv=kfold, scoring= 'accuracy')\n",
    "\n",
    "bagging_tree_cool_class = bagging_tree_cool_class.fit(Xtrain4_mms, ytrain4)\n",
    "\n",
    "print(\"Best Parameters: {}\".format(bagging_tree_cool_class.best_params_))\n",
    "print(\"Best cross-validation R Square: {:.4f}\".format(bagging_tree_cool_class.best_score_))\n",
    "print(\"Best estimator:\\n{}\".format(bagging_tree_cool_class.best_estimator_))"
   ]
  },
  {
   "cell_type": "code",
   "execution_count": 84,
   "metadata": {},
   "outputs": [
    {
     "name": "stdout",
     "output_type": "stream",
     "text": [
      "R Square(Train): 0.9935\n",
      "R Square(Out of Bag): 0.9853\n",
      "R Square(Test): 0.9675\n"
     ]
    }
   ],
   "source": [
    "Bagging_tree_cool_class=BaggingClassifier(tree_cool_class, max_features=0.5, max_samples=1.0, \n",
    "                                   n_estimators=15,bootstrap=True, oob_score=True, random_state=10)\n",
    "\n",
    "Bagging_tree_cool_class.fit(Xtrain4_mms, ytrain4)\n",
    "\n",
    "bestbagging_tree_oob_cool=Bagging_tree_cool_class.oob_score_\n",
    "bestbagging_tree_test_cool=Bagging_tree_cool_class.score(Xtest4_mms, ytest4)\n",
    "\n",
    "print(\"R Square(Train): {:.4f}\".format(Bagging_tree_cool_class.score(Xtrain4_mms, ytrain4)))\n",
    "print(\"R Square(Out of Bag): {:.4f}\".format(bestbagging_tree_oob_cool))\n",
    "print('R Square(Test): {:.4f}'.format(bestbagging_tree_test_cool))"
   ]
  },
  {
   "cell_type": "code",
   "execution_count": 85,
   "metadata": {
    "collapsed": true
   },
   "outputs": [],
   "source": [
    "bag.loc[len(bag)]=['Tree Cool',best_tree_train_cool,best_tree_test_cool,\n",
    "            bestbagging_tree_oob_cool,bestbagging_tree_test_cool]"
   ]
  },
  {
   "cell_type": "markdown",
   "metadata": {},
   "source": [
    "### 5.1.3 Decision Tree for Overall\n",
    "<a id=\"TreeOver\"></a>"
   ]
  },
  {
   "cell_type": "code",
   "execution_count": 86,
   "metadata": {},
   "outputs": [
    {
     "name": "stdout",
     "output_type": "stream",
     "text": [
      "Best Parameters: {'max_depth': 4.0, 'min_samples_split': 2}\n",
      "Best cross-validation R Square: 0.9878\n",
      "Best estimator:\n",
      "DecisionTreeClassifier(class_weight=None, criterion='gini', max_depth=4.0,\n",
      "            max_features=None, max_leaf_nodes=None,\n",
      "            min_impurity_decrease=0.0, min_impurity_split=None,\n",
      "            min_samples_leaf=1, min_samples_split=2,\n",
      "            min_weight_fraction_leaf=0.0, presort=False, random_state=10,\n",
      "            splitter='best')\n"
     ]
    }
   ],
   "source": [
    "tree_overall_grid=DecisionTreeClassifier(random_state=10)\n",
    "\n",
    "max_depths = np.linspace(1, 32, 32, endpoint=True)\n",
    "# min_samples_splits = np.linspace(0.1, 1.0, 10, endpoint=True)\n",
    "\n",
    "treeparam = {\"max_depth\":max_depths,\n",
    "          'min_samples_split':[2, 4, 6, 8, 10]}\n",
    "\n",
    "kfold=KFold(n_splits=5, random_state=10)\n",
    "tree_overall_grid=GridSearchCV(tree_overall_grid, treeparam, cv=kfold, scoring= 'accuracy')\n",
    "\n",
    "#Fitting\n",
    "tree_overall_grid.fit(Xtraino_cat_mms, ytraino_cat)\n",
    "\n",
    "#Printing reports\n",
    "print(\"Best Parameters: {}\".format(tree_overall_grid.best_params_))\n",
    "print(\"Best cross-validation R Square: {:.4f}\".format(tree_overall_grid.best_score_))\n",
    "print(\"Best estimator:\\n{}\".format(tree_overall_grid.best_estimator_))"
   ]
  },
  {
   "cell_type": "code",
   "execution_count": 87,
   "metadata": {},
   "outputs": [
    {
     "name": "stdout",
     "output_type": "stream",
     "text": [
      "R Square(Train): 0.9913\n",
      "R Square(Test): 0.9792\n"
     ]
    }
   ],
   "source": [
    "tree_overall_class=DecisionTreeClassifier(max_depth = 4.0 , min_samples_split = 2, \n",
    "                                          random_state=10)\n",
    "tree_overall_class.fit(Xtraino_cat_mms, ytraino_cat)\n",
    "\n",
    "best_tree_train_overall=tree_overall_class.score(Xtraino_cat_mms, ytraino_cat)\n",
    "best_tree_test_overall=tree_overall_class.score(Xtesto_cat_mms, ytesto_cat)\n",
    "\n",
    "print('R Square(Train): {:.4f}'.format(best_tree_train_overall))\n",
    "print('R Square(Test): {:.4f}'.format(best_tree_test_overall))"
   ]
  },
  {
   "cell_type": "markdown",
   "metadata": {},
   "source": [
    "#### Ensemble the tree classifier using bagging"
   ]
  },
  {
   "cell_type": "code",
   "execution_count": 88,
   "metadata": {},
   "outputs": [
    {
     "name": "stdout",
     "output_type": "stream",
     "text": [
      "Best Parameters: {'max_features': 1.0, 'max_samples': 1.0, 'n_estimators': 15}\n",
      "Best cross-validation R Square: 0.9913\n",
      "Best estimator:\n",
      "BaggingClassifier(base_estimator=DecisionTreeClassifier(class_weight=None, criterion='gini', max_depth=4.0,\n",
      "            max_features=None, max_leaf_nodes=None,\n",
      "            min_impurity_decrease=0.0, min_impurity_split=None,\n",
      "            min_samples_leaf=1, min_samples_split=2,\n",
      "            min_weight_fraction_leaf=0.0, presort=False, random_state=10,\n",
      "            splitter='best'),\n",
      "         bootstrap=True, bootstrap_features=False, max_features=1.0,\n",
      "         max_samples=1.0, n_estimators=15, n_jobs=1, oob_score=False,\n",
      "         random_state=10, verbose=0, warm_start=False)\n"
     ]
    }
   ],
   "source": [
    "bagging_tree_overall_class = BaggingClassifier(tree_overall_class, random_state=10)\n",
    "\n",
    "\n",
    "bagging_tree_grid = {'n_estimators':[5 ,10, 15, 20],\n",
    "                 \"max_samples\": [0.5, 0.8, 1.0],\n",
    "                 \"max_features\": [0.5, 0.8, 1.0]}\n",
    "\n",
    "\n",
    "kfold=KFold(n_splits=5, random_state=10)\n",
    "\n",
    "bagging_tree_overall_class = GridSearchCV(bagging_tree_overall_class, bagging_tree_grid, cv=kfold, scoring= 'accuracy')\n",
    "\n",
    "bagging_tree_overall_class = bagging_tree_overall_class.fit(Xtraino_cat_mms, ytraino_cat)\n",
    "\n",
    "print(\"Best Parameters: {}\".format(bagging_tree_overall_class.best_params_))\n",
    "print(\"Best cross-validation R Square: {:.4f}\".format(bagging_tree_overall_class.best_score_))\n",
    "print(\"Best estimator:\\n{}\".format(bagging_tree_overall_class.best_estimator_))"
   ]
  },
  {
   "cell_type": "code",
   "execution_count": 89,
   "metadata": {},
   "outputs": [
    {
     "name": "stdout",
     "output_type": "stream",
     "text": [
      "R Square(Train): 0.9913\n",
      "R Square(Out of Bag): 0.9896\n",
      "R Square(Test): 0.9792\n"
     ]
    }
   ],
   "source": [
    "Bagging_tree_overall_class=BaggingClassifier(tree_overall_class, max_features=1.0, max_samples=1.0, \n",
    "                                   n_estimators=15,bootstrap=True, oob_score=True, random_state=10)\n",
    "\n",
    "Bagging_tree_overall_class.fit(Xtraino_cat_mms, ytraino_cat)\n",
    "\n",
    "bestbagging_tree_oob_overall=Bagging_tree_overall_class.oob_score_\n",
    "bestbagging_tree_test_overall=Bagging_tree_overall_class.score(Xtesto_cat_mms, ytesto_cat)\n",
    "\n",
    "print(\"R Square(Train): {:.4f}\".format(Bagging_tree_overall_class.score(Xtraino_cat_mms, ytraino_cat)))\n",
    "print(\"R Square(Out of Bag): {:.4f}\".format(bestbagging_tree_oob_overall))\n",
    "print('R Square(Test): {:.4f}'.format(bestbagging_tree_test_overall))"
   ]
  },
  {
   "cell_type": "code",
   "execution_count": 90,
   "metadata": {
    "collapsed": true
   },
   "outputs": [],
   "source": [
    "bag.loc[len(bag)]=['Tree Overall',best_tree_train_overall,best_tree_test_overall,\n",
    "            bestbagging_tree_oob_overall,bestbagging_tree_test_overall]"
   ]
  },
  {
   "cell_type": "markdown",
   "metadata": {},
   "source": [
    "## 5.2 Support Vector Classification SVC\n",
    "<a id=\"SVC\"></a>"
   ]
  },
  {
   "cell_type": "markdown",
   "metadata": {},
   "source": [
    "### 5.2.1 Support Vector Classification for Heating\n",
    "<a id=\"SVCHeat\"></a>"
   ]
  },
  {
   "cell_type": "code",
   "execution_count": 91,
   "metadata": {},
   "outputs": [
    {
     "name": "stdout",
     "output_type": "stream",
     "text": [
      "Best K: {'C': 100, 'gamma': 1, 'kernel': 'poly'}\n",
      "Best cross-validation Accuracy: 0.9528\n",
      "Best estimator:\n",
      "SVC(C=100, cache_size=200, class_weight=None, coef0=0.0,\n",
      "  decision_function_shape='ovr', degree=3, gamma=1, kernel='poly',\n",
      "  max_iter=-1, probability=False, random_state=None, shrinking=True,\n",
      "  tol=0.001, verbose=False)\n"
     ]
    }
   ],
   "source": [
    "svr_kernal_grid=SVC()\n",
    "\n",
    "param_grid={'kernel':['poly', 'rbf', 'sigmoid'],\n",
    "            'C':[1,10,100,1000],\n",
    "            'gamma':[0,0.01,0.1,0.125,0.5,1]\n",
    "}\n",
    "\n",
    "kfold=KFold(n_splits=5, random_state=10)\n",
    "svr_kernal_grid=GridSearchCV(svr_kernal_grid, param_grid, cv=kfold, scoring= 'accuracy')\n",
    "\n",
    "#Fitting\n",
    "svr_kernal_grid.fit(Xtrain3_mms, ytrain3.values.ravel()) #Used ravel for warnings\n",
    "\n",
    "#Printing reports\n",
    "print(\"Best K: {}\".format(svr_kernal_grid.best_params_))\n",
    "print(\"Best cross-validation Accuracy: {:.4f}\".format(svr_kernal_grid.best_score_))\n",
    "print(\"Best estimator:\\n{}\".format(svr_kernal_grid.best_estimator_))"
   ]
  },
  {
   "cell_type": "code",
   "execution_count": 92,
   "metadata": {},
   "outputs": [
    {
     "name": "stdout",
     "output_type": "stream",
     "text": [
      "Accuracy(Train): 0.9788\n",
      "Accuracy(Test): 0.9740\n"
     ]
    }
   ],
   "source": [
    "svr_heat_class=SVC(kernel='poly', C=100, gamma=1)\n",
    "svr_heat_class.fit(Xtrain3_mms, ytrain3.values.ravel())\n",
    "print('Accuracy(Train): {:.4f}'.format(svr_heat_class.score(Xtrain3_mms, ytrain3)))\n",
    "print('Accuracy(Test): {:.4f}'.format(svr_heat_class.score(Xtest3_mms, ytest3)))"
   ]
  },
  {
   "cell_type": "markdown",
   "metadata": {},
   "source": [
    "#### Ensemble the SVM classifier using bagging"
   ]
  },
  {
   "cell_type": "code",
   "execution_count": 93,
   "metadata": {},
   "outputs": [
    {
     "name": "stdout",
     "output_type": "stream",
     "text": [
      "Best Parameters: {'max_features': 1.0, 'max_samples': 1.0, 'n_estimators': 15}\n",
      "Best cross-validation R Square: 0.9544\n",
      "Best estimator:\n",
      "BaggingClassifier(base_estimator=SVC(C=100, cache_size=200, class_weight=None, coef0=0.0,\n",
      "  decision_function_shape='ovr', degree=3, gamma=1, kernel='poly',\n",
      "  max_iter=-1, probability=False, random_state=None, shrinking=True,\n",
      "  tol=0.001, verbose=False),\n",
      "         bootstrap=True, bootstrap_features=False, max_features=1.0,\n",
      "         max_samples=1.0, n_estimators=15, n_jobs=1, oob_score=False,\n",
      "         random_state=10, verbose=0, warm_start=False)\n"
     ]
    }
   ],
   "source": [
    "bagging_svr_heat_class = BaggingClassifier(svr_heat_class, random_state=10)\n",
    "\n",
    "\n",
    "bagging_svr_grid = {'n_estimators':[5 ,10, 15, 20],\n",
    "                 \"max_samples\": [0.5, 0.8, 1.0],\n",
    "                 \"max_features\": [0.5, 0.8, 1.0]}\n",
    "\n",
    "\n",
    "kfold=KFold(n_splits=5, random_state=10)\n",
    "\n",
    "bagging_svr_heat_class = GridSearchCV(bagging_svr_heat_class, bagging_svr_grid, cv=kfold, scoring= 'accuracy')\n",
    "\n",
    "bagging_svr_heat_class = bagging_svr_heat_class.fit(Xtrain3_mms, ytrain3)\n",
    "\n",
    "print(\"Best Parameters: {}\".format(bagging_svr_heat_class.best_params_))\n",
    "print(\"Best cross-validation R Square: {:.4f}\".format(bagging_svr_heat_class.best_score_))\n",
    "print(\"Best estimator:\\n{}\".format(bagging_svr_heat_class.best_estimator_))"
   ]
  },
  {
   "cell_type": "code",
   "execution_count": 94,
   "metadata": {},
   "outputs": [
    {
     "name": "stdout",
     "output_type": "stream",
     "text": [
      "R Square(Train): 0.9805\n",
      "R Square(Out of Bag): 0.9414\n",
      "R Square(Test): 0.9740\n"
     ]
    }
   ],
   "source": [
    "Bagging_svr_heat_class=BaggingClassifier(svr_heat_class, max_features=1.0, max_samples=1.0, \n",
    "                                   n_estimators=15,bootstrap=True, oob_score=True, random_state=10)\n",
    "\n",
    "Bagging_svr_heat_class.fit(Xtrain3_mms, ytrain3)\n",
    "\n",
    "bestbagging_svr_oob_heat=Bagging_svr_heat_class.oob_score_\n",
    "bestbagging_svr_test_heat=Bagging_svr_heat_class.score(Xtest3_mms, ytest3)\n",
    "\n",
    "print(\"R Square(Train): {:.4f}\".format(Bagging_svr_heat_class.score(Xtrain3_mms, ytrain3)))\n",
    "print(\"R Square(Out of Bag): {:.4f}\".format(bestbagging_svr_oob_heat))\n",
    "print('R Square(Test): {:.4f}'.format(bestbagging_svr_test_heat))"
   ]
  },
  {
   "cell_type": "code",
   "execution_count": 95,
   "metadata": {
    "collapsed": true
   },
   "outputs": [],
   "source": [
    "bag.loc[len(bag)]=['SVM Heat',svr_heat_class.score(Xtrain3_mms, ytrain3),svr_heat_class.score(Xtest3_mms, ytest3),\n",
    "            bestbagging_svr_oob_heat,bestbagging_svr_test_heat]"
   ]
  },
  {
   "cell_type": "markdown",
   "metadata": {},
   "source": [
    "### 5.2.2 Support Vector Classification for Cooling\n",
    "<a id=\"SVCCool\"></a>"
   ]
  },
  {
   "cell_type": "code",
   "execution_count": 96,
   "metadata": {},
   "outputs": [
    {
     "name": "stdout",
     "output_type": "stream",
     "text": [
      "Best K: {'C': 1000, 'gamma': 0.125, 'kernel': 'poly'}\n",
      "Best cross-validation Accuracy: 0.9853\n",
      "Best estimator:\n",
      "SVC(C=1000, cache_size=200, class_weight=None, coef0=0.0,\n",
      "  decision_function_shape='ovr', degree=3, gamma=0.125, kernel='poly',\n",
      "  max_iter=-1, probability=False, random_state=None, shrinking=True,\n",
      "  tol=0.001, verbose=False)\n"
     ]
    }
   ],
   "source": [
    "svr_kernal_grid=SVC()\n",
    "\n",
    "param_grid={'kernel':['poly', 'rbf', 'sigmoid'],\n",
    "            'C':[1,10,100,1000],\n",
    "            'gamma':[0,0.01,0.1,0.125,0.5,1]\n",
    "}\n",
    "\n",
    "kfold=KFold(n_splits=5, random_state=10)\n",
    "svr_kernal_grid=GridSearchCV(svr_kernal_grid, param_grid, cv=kfold, scoring= 'accuracy')\n",
    "\n",
    "#Fitting\n",
    "svr_kernal_grid.fit(Xtrain4_mms, ytrain4.values.ravel())\n",
    "\n",
    "#Printing reports\n",
    "print(\"Best K: {}\".format(svr_kernal_grid.best_params_))\n",
    "print(\"Best cross-validation Accuracy: {:.4f}\".format(svr_kernal_grid.best_score_))\n",
    "print(\"Best estimator:\\n{}\".format(svr_kernal_grid.best_estimator_))"
   ]
  },
  {
   "cell_type": "code",
   "execution_count": 97,
   "metadata": {},
   "outputs": [
    {
     "name": "stdout",
     "output_type": "stream",
     "text": [
      "Accuracy(Train): 0.9886\n",
      "Accuracy(Test): 0.9610\n"
     ]
    }
   ],
   "source": [
    "svr_cool_class=SVC(kernel='poly', C=1000, gamma=0.125)\n",
    "svr_cool_class.fit(Xtrain4_mms, ytrain4.values.ravel())\n",
    "print('Accuracy(Train): {:.4f}'.format(svr_cool_class.score(Xtrain4_mms, ytrain4)))\n",
    "print('Accuracy(Test): {:.4f}'.format(svr_cool_class.score(Xtest4_mms, ytest4)))"
   ]
  },
  {
   "cell_type": "markdown",
   "metadata": {},
   "source": [
    "#### Ensemble the SVM classifier using bagging"
   ]
  },
  {
   "cell_type": "code",
   "execution_count": 98,
   "metadata": {},
   "outputs": [
    {
     "name": "stdout",
     "output_type": "stream",
     "text": [
      "Best Parameters: {'max_features': 1.0, 'max_samples': 1.0, 'n_estimators': 15}\n",
      "Best cross-validation R Square: 0.9837\n",
      "Best estimator:\n",
      "BaggingClassifier(base_estimator=SVC(C=1000, cache_size=200, class_weight=None, coef0=0.0,\n",
      "  decision_function_shape='ovr', degree=3, gamma=0.125, kernel='poly',\n",
      "  max_iter=-1, probability=False, random_state=None, shrinking=True,\n",
      "  tol=0.001, verbose=False),\n",
      "         bootstrap=True, bootstrap_features=False, max_features=1.0,\n",
      "         max_samples=1.0, n_estimators=15, n_jobs=1, oob_score=False,\n",
      "         random_state=10, verbose=0, warm_start=False)\n"
     ]
    }
   ],
   "source": [
    "bagging_svr_cool_class = BaggingClassifier(svr_cool_class, random_state=10)\n",
    "\n",
    "\n",
    "bagging_svr_grid = {'n_estimators':[5 ,10, 15, 20],\n",
    "                 \"max_samples\": [0.5, 0.8, 1.0],\n",
    "                 \"max_features\": [0.5, 0.8, 1.0]}\n",
    "\n",
    "\n",
    "kfold=KFold(n_splits=5, random_state=10)\n",
    "\n",
    "bagging_svr_cool_class = GridSearchCV(bagging_svr_cool_class, bagging_svr_grid, cv=kfold, scoring= 'accuracy')\n",
    "\n",
    "bagging_svr_cool_class = bagging_svr_cool_class.fit(Xtrain4_mms, ytrain4)\n",
    "\n",
    "print(\"Best Parameters: {}\".format(bagging_svr_cool_class.best_params_))\n",
    "print(\"Best cross-validation R Square: {:.4f}\".format(bagging_svr_cool_class.best_score_))\n",
    "print(\"Best estimator:\\n{}\".format(bagging_svr_cool_class.best_estimator_))"
   ]
  },
  {
   "cell_type": "code",
   "execution_count": 99,
   "metadata": {},
   "outputs": [
    {
     "name": "stdout",
     "output_type": "stream",
     "text": [
      "R Square(Train): 0.9870\n",
      "R Square(Out of Bag): 0.9788\n",
      "R Square(Test): 0.9545\n"
     ]
    }
   ],
   "source": [
    "Bagging_svr_cool_class=BaggingClassifier(svr_cool_class, max_features=1.0, max_samples=1.0, \n",
    "                                   n_estimators=15,bootstrap=True, oob_score=True, random_state=10)\n",
    "\n",
    "Bagging_svr_cool_class.fit(Xtrain4_mms, ytrain4)\n",
    "\n",
    "bestbagging_svr_oob_cool=Bagging_svr_cool_class.oob_score_\n",
    "bestbagging_svr_test_cool=Bagging_svr_cool_class.score(Xtest4_mms, ytest4)\n",
    "\n",
    "print(\"R Square(Train): {:.4f}\".format(Bagging_svr_cool_class.score(Xtrain4_mms, ytrain4)))\n",
    "print(\"R Square(Out of Bag): {:.4f}\".format(bestbagging_svr_oob_cool))\n",
    "print('R Square(Test): {:.4f}'.format(bestbagging_svr_test_cool))"
   ]
  },
  {
   "cell_type": "code",
   "execution_count": 100,
   "metadata": {
    "collapsed": true
   },
   "outputs": [],
   "source": [
    "bag.loc[len(bag)]=['SVM Cool',svr_cool_class.score(Xtrain4_mms, ytrain4),svr_cool_class.score(Xtest4_mms, ytest4),\n",
    "            bestbagging_svr_oob_cool,bestbagging_svr_test_cool]"
   ]
  },
  {
   "cell_type": "markdown",
   "metadata": {},
   "source": [
    "### 5.2.3 SVC for overall\n",
    "<a id=\"SVCOver\"></a>"
   ]
  },
  {
   "cell_type": "code",
   "execution_count": 101,
   "metadata": {},
   "outputs": [
    {
     "name": "stdout",
     "output_type": "stream",
     "text": [
      "Best K: {'C': 1000, 'gamma': 0.01, 'kernel': 'rbf'}\n",
      "Best cross-validation Accuracy: 0.9740\n",
      "Best estimator:\n",
      "SVC(C=1000, cache_size=200, class_weight=None, coef0=0.0,\n",
      "  decision_function_shape='ovr', degree=3, gamma=0.01, kernel='rbf',\n",
      "  max_iter=-1, probability=False, random_state=None, shrinking=True,\n",
      "  tol=0.001, verbose=False)\n"
     ]
    }
   ],
   "source": [
    "svr_kernal_grid=SVC()\n",
    "\n",
    "param_grid={'kernel':['poly', 'rbf', 'sigmoid'],\n",
    "            'C':[1,10,100,1000],\n",
    "            'gamma':[0,0.01,0.1,0.125,0.5,1]\n",
    "}\n",
    "\n",
    "kfold=KFold(n_splits=5, random_state=10)\n",
    "svr_kernal_grid=GridSearchCV(svr_kernal_grid, param_grid, cv=kfold, scoring= 'accuracy')\n",
    "\n",
    "#Fitting\n",
    "svr_kernal_grid.fit(Xtraino_cat_mms, ytraino_cat.values.ravel())\n",
    "\n",
    "#Printing reports\n",
    "print(\"Best K: {}\".format(svr_kernal_grid.best_params_))\n",
    "print(\"Best cross-validation Accuracy: {:.4f}\".format(svr_kernal_grid.best_score_))\n",
    "print(\"Best estimator:\\n{}\".format(svr_kernal_grid.best_estimator_))"
   ]
  },
  {
   "cell_type": "code",
   "execution_count": 102,
   "metadata": {},
   "outputs": [
    {
     "name": "stdout",
     "output_type": "stream",
     "text": [
      "Accuracy(Train): 0.9844\n",
      "Accuracy(Test): 0.9531\n"
     ]
    }
   ],
   "source": [
    "svr_overall_class=SVC(kernel='rbf', C=1000, gamma=0.01)\n",
    "svr_overall_class.fit(Xtraino_cat_mms, ytraino_cat.values.ravel())\n",
    "print('Accuracy(Train): {:.4f}'.format(svr_overall_class.score(Xtraino_cat_mms, ytraino_cat)))\n",
    "print('Accuracy(Test): {:.4f}'.format(svr_overall_class.score(Xtesto_cat_mms, ytesto_cat)))"
   ]
  },
  {
   "cell_type": "markdown",
   "metadata": {},
   "source": [
    "#### Ensemble the SVM classifier using bagging"
   ]
  },
  {
   "cell_type": "code",
   "execution_count": 103,
   "metadata": {},
   "outputs": [
    {
     "name": "stdout",
     "output_type": "stream",
     "text": [
      "Best Parameters: {'max_features': 0.8, 'max_samples': 0.8, 'n_estimators': 10}\n",
      "Best cross-validation R Square: 0.9705\n",
      "Best estimator:\n",
      "BaggingClassifier(base_estimator=SVC(C=1000, cache_size=200, class_weight=None, coef0=0.0,\n",
      "  decision_function_shape='ovr', degree=3, gamma=0.01, kernel='rbf',\n",
      "  max_iter=-1, probability=False, random_state=None, shrinking=True,\n",
      "  tol=0.001, verbose=False),\n",
      "         bootstrap=True, bootstrap_features=False, max_features=0.8,\n",
      "         max_samples=0.8, n_estimators=10, n_jobs=1, oob_score=False,\n",
      "         random_state=10, verbose=0, warm_start=False)\n"
     ]
    }
   ],
   "source": [
    "bagging_svr_overall_class = BaggingClassifier(svr_overall_class, random_state=10)\n",
    "\n",
    "\n",
    "bagging_svr_grid = {'n_estimators':[5 ,10, 15, 20],\n",
    "                 \"max_samples\": [0.5, 0.8, 1.0],\n",
    "                 \"max_features\": [0.5, 0.8, 1.0]}\n",
    "\n",
    "\n",
    "kfold=KFold(n_splits=5, random_state=10)\n",
    "\n",
    "bagging_svr_overall_class = GridSearchCV(bagging_svr_overall_class, bagging_svr_grid, cv=kfold, scoring= 'accuracy')\n",
    "\n",
    "bagging_svr_overall_class = bagging_svr_overall_class.fit(Xtraino_cat_mms, ytraino_cat)\n",
    "\n",
    "print(\"Best Parameters: {}\".format(bagging_svr_overall_class.best_params_))\n",
    "print(\"Best cross-validation R Square: {:.4f}\".format(bagging_svr_overall_class.best_score_))\n",
    "print(\"Best estimator:\\n{}\".format(bagging_svr_overall_class.best_estimator_))"
   ]
  },
  {
   "cell_type": "code",
   "execution_count": 104,
   "metadata": {},
   "outputs": [
    {
     "name": "stdout",
     "output_type": "stream",
     "text": [
      "R Square(Train): 0.9826\n",
      "R Square(Out of Bag): 0.9635\n",
      "R Square(Test): 0.9635\n"
     ]
    }
   ],
   "source": [
    "Bagging_svr_overall_class=BaggingClassifier(svr_overall_class, max_features=0.8, max_samples=0.8, \n",
    "                                   n_estimators=10,bootstrap=True, oob_score=True, random_state=10)\n",
    "\n",
    "Bagging_svr_overall_class.fit(Xtraino_cat_mms, ytraino_cat)\n",
    "\n",
    "bestbagging_svr_oob_overall=Bagging_svr_overall_class.oob_score_\n",
    "bestbagging_svr_test_overall=Bagging_svr_overall_class.score(Xtesto_cat_mms, ytesto_cat)\n",
    "\n",
    "print(\"R Square(Train): {:.4f}\".format(Bagging_svr_overall_class.score(Xtraino_cat_mms, ytraino_cat)))\n",
    "print(\"R Square(Out of Bag): {:.4f}\".format(bestbagging_svr_oob_overall))\n",
    "print('R Square(Test): {:.4f}'.format(bestbagging_svr_test_overall))"
   ]
  },
  {
   "cell_type": "code",
   "execution_count": 105,
   "metadata": {
    "collapsed": true
   },
   "outputs": [],
   "source": [
    "bag.loc[len(bag)]=['SVM Overall',svr_overall_class.score(Xtraino_cat_mms, ytraino_cat),svr_overall_class.score(Xtesto_cat_mms, ytesto_cat),\n",
    "            bestbagging_svr_oob_overall,bestbagging_svr_test_overall]"
   ]
  },
  {
   "cell_type": "markdown",
   "metadata": {},
   "source": [
    "## 5.3 Random Forest Classification\n",
    "<a id=\"RandomClass\"></a>"
   ]
  },
  {
   "cell_type": "markdown",
   "metadata": {
    "collapsed": true
   },
   "source": [
    "### 5.3.1 Random Forest Classification for heating\n",
    "<a id=\"RandomHeat\"></a>"
   ]
  },
  {
   "cell_type": "code",
   "execution_count": 106,
   "metadata": {},
   "outputs": [
    {
     "name": "stdout",
     "output_type": "stream",
     "text": [
      "Best Parameters: {'max_features': 4, 'min_samples_split': 20, 'n_estimators': 22}\n",
      "Best cross-validation Accuracy: 0.9674\n",
      "Best estimator:\n",
      "RandomForestClassifier(bootstrap=True, class_weight=None, criterion='gini',\n",
      "            max_depth=None, max_features=4, max_leaf_nodes=None,\n",
      "            min_impurity_decrease=0.0, min_impurity_split=None,\n",
      "            min_samples_leaf=1, min_samples_split=20,\n",
      "            min_weight_fraction_leaf=0.0, n_estimators=22, n_jobs=1,\n",
      "            oob_score=False, random_state=10, verbose=0, warm_start=False)\n"
     ]
    }
   ],
   "source": [
    "randomforest_heat_grid=RandomForestClassifier(random_state=10)\n",
    "\n",
    "grid_param={'n_estimators':[10, 18, 22],\n",
    "    'max_features': [3, 4, 5, 6, 7, 'auto'],\n",
    "    'min_samples_split': [2, 10, 20, 30]\n",
    "}\n",
    "kfold=KFold(n_splits=5, random_state=10)\n",
    "randomforest_heat_grid=GridSearchCV(randomforest_heat_grid, grid_param, cv=kfold, scoring= 'accuracy')\n",
    "\n",
    "#Fitting\n",
    "randomforest_heat_grid.fit(Xtrain3_mms, ytrain3.values.ravel())\n",
    "\n",
    "#Printing reports\n",
    "print(\"Best Parameters: {}\".format(randomforest_heat_grid.best_params_))\n",
    "print(\"Best cross-validation Accuracy: {:.4f}\".format(randomforest_heat_grid.best_score_))\n",
    "print(\"Best estimator:\\n{}\".format(randomforest_heat_grid.best_estimator_))"
   ]
  },
  {
   "cell_type": "code",
   "execution_count": 107,
   "metadata": {},
   "outputs": [
    {
     "name": "stdout",
     "output_type": "stream",
     "text": [
      "Out of Bag Score of the Training Dataset: 0.9609\n",
      "Accuracy(Train): 0.9788\n",
      "Accuracy(Test): 0.9870\n"
     ]
    }
   ],
   "source": [
    "randomforest_heat_class=RandomForestClassifier(max_features=4, min_samples_split=20, \n",
    "                                        n_estimators=22, random_state=10, oob_score=True)\n",
    "randomforest_heat_class.fit(Xtrain3_mms, ytrain3.values.ravel())\n",
    "print('Out of Bag Score of the Training Dataset: {:.4f}'.format(randomforest_heat_class.oob_score_))\n",
    "print('Accuracy(Train): {:.4f}'.format(randomforest_heat_class.score(Xtrain3_mms, ytrain3)))\n",
    "print('Accuracy(Test): {:.4f}'.format(randomforest_heat_class.score(Xtest3_mms, ytest3)))"
   ]
  },
  {
   "cell_type": "markdown",
   "metadata": {},
   "source": [
    "### 5.3.2 Random Forest Classification for cooling\n",
    "<a id=\"RandomCool\"></a>"
   ]
  },
  {
   "cell_type": "code",
   "execution_count": 108,
   "metadata": {},
   "outputs": [
    {
     "name": "stdout",
     "output_type": "stream",
     "text": [
      "Best Parameters: {'max_features': 'auto', 'min_samples_split': 2, 'n_estimators': 22}\n",
      "Best cross-validation Accuracy: 0.9870\n",
      "Best estimator:\n",
      "RandomForestClassifier(bootstrap=True, class_weight=None, criterion='gini',\n",
      "            max_depth=None, max_features='auto', max_leaf_nodes=None,\n",
      "            min_impurity_decrease=0.0, min_impurity_split=None,\n",
      "            min_samples_leaf=1, min_samples_split=2,\n",
      "            min_weight_fraction_leaf=0.0, n_estimators=22, n_jobs=1,\n",
      "            oob_score=False, random_state=10, verbose=0, warm_start=False)\n"
     ]
    }
   ],
   "source": [
    "randomforest_cool_grid=RandomForestClassifier(random_state=10)\n",
    "\n",
    "grid_param={'n_estimators':[10, 18, 22],\n",
    "    'max_features': [3, 4, 5, 6, 7, 'auto'],\n",
    "    'min_samples_split': [2, 10, 20, 30]\n",
    "}\n",
    "kfold=KFold(n_splits=5, random_state=10)\n",
    "randomforest_cool_grid=GridSearchCV(randomforest_cool_grid, grid_param, cv=kfold, scoring= 'accuracy')\n",
    "\n",
    "#Fitting\n",
    "randomforest_cool_grid.fit(Xtrain4_mms, ytrain4.values.ravel())\n",
    "\n",
    "#Printing reports\n",
    "print(\"Best Parameters: {}\".format(randomforest_cool_grid.best_params_))\n",
    "print(\"Best cross-validation Accuracy: {:.4f}\".format(randomforest_cool_grid.best_score_))\n",
    "print(\"Best estimator:\\n{}\".format(randomforest_cool_grid.best_estimator_))"
   ]
  },
  {
   "cell_type": "code",
   "execution_count": 109,
   "metadata": {},
   "outputs": [
    {
     "name": "stdout",
     "output_type": "stream",
     "text": [
      "Out of Bag Score of the Training Dataset: 0.9608\n",
      "Accuracy(Train): 0.9955\n",
      "Accuracy(Test): 0.8901\n"
     ]
    }
   ],
   "source": [
    "randomforest_cool_class=RandomForestRegressor(max_features='auto', min_samples_split=2, \n",
    "                                        n_estimators=22, random_state=10, oob_score=True)\n",
    "randomforest_cool_class.fit(Xtrain4_mms, ytrain4.values.ravel())\n",
    "print('Out of Bag Score of the Training Dataset: {:.4f}'.format(randomforest_cool_class.oob_score_))\n",
    "print('Accuracy(Train): {:.4f}'.format(randomforest_cool_class.score(Xtrain4_mms, ytrain4)))\n",
    "print('Accuracy(Test): {:.4f}'.format(randomforest_cool_class.score(Xtest4_mms, ytest4)))"
   ]
  },
  {
   "cell_type": "markdown",
   "metadata": {},
   "source": [
    "### 5.3.3 Random Forest Classification for overall\n",
    "<a id=\"RandomOver\"></a>"
   ]
  },
  {
   "cell_type": "code",
   "execution_count": 110,
   "metadata": {},
   "outputs": [
    {
     "name": "stdout",
     "output_type": "stream",
     "text": [
      "Best Parameters: {'max_features': 3, 'min_samples_split': 2, 'n_estimators': 18}\n",
      "Best cross-validation Accuracy: 0.9844\n",
      "Best estimator:\n",
      "RandomForestClassifier(bootstrap=True, class_weight=None, criterion='gini',\n",
      "            max_depth=None, max_features=3, max_leaf_nodes=None,\n",
      "            min_impurity_decrease=0.0, min_impurity_split=None,\n",
      "            min_samples_leaf=1, min_samples_split=2,\n",
      "            min_weight_fraction_leaf=0.0, n_estimators=18, n_jobs=1,\n",
      "            oob_score=False, random_state=10, verbose=0, warm_start=False)\n"
     ]
    }
   ],
   "source": [
    "randomforest_overall_grid=RandomForestClassifier(random_state=10)\n",
    "\n",
    "grid_param={'n_estimators':[10, 18, 22],\n",
    "    'max_features': [3, 4, 5, 6, 7, 'auto'],\n",
    "    'min_samples_split': [2, 10, 20, 30]\n",
    "}\n",
    "kfold=KFold(n_splits=5, random_state=10)\n",
    "randomforest_overall_grid=GridSearchCV(randomforest_overall_grid, grid_param, cv=kfold, scoring= 'accuracy')\n",
    "\n",
    "#Fitting\n",
    "randomforest_overall_grid.fit(Xtraino_cat_mms, ytraino_cat.values.ravel())\n",
    "\n",
    "#Printing reports\n",
    "print(\"Best Parameters: {}\".format(randomforest_overall_grid.best_params_))\n",
    "print(\"Best cross-validation Accuracy: {:.4f}\".format(randomforest_overall_grid.best_score_))\n",
    "print(\"Best estimator:\\n{}\".format(randomforest_overall_grid.best_estimator_))"
   ]
  },
  {
   "cell_type": "code",
   "execution_count": 111,
   "metadata": {},
   "outputs": [
    {
     "name": "stdout",
     "output_type": "stream",
     "text": [
      "Out of Bag Score of the Training Dataset: 0.9844\n",
      "Accuracy(Train): 1.0000\n",
      "Accuracy(Test): 0.9740\n"
     ]
    }
   ],
   "source": [
    "randomforest_overall_class=RandomForestClassifier(max_features='auto', min_samples_split=2, \n",
    "                                        n_estimators=22, random_state=10, oob_score=True)\n",
    "randomforest_overall_class.fit(Xtraino_cat_mms, ytraino_cat.values.ravel())\n",
    "print('Out of Bag Score of the Training Dataset: {:.4f}'.format(randomforest_overall_class.oob_score_))\n",
    "print('Accuracy(Train): {:.4f}'.format(randomforest_overall_class.score(Xtraino_cat_mms, ytraino_cat)))\n",
    "print('Accuracy(Test): {:.4f}'.format(randomforest_overall_class.score(Xtesto_cat_mms, ytesto_cat)))"
   ]
  },
  {
   "cell_type": "markdown",
   "metadata": {},
   "source": [
    "## 5.4 Gradient Boosting Classification\n",
    "<a id=\"AdaboostFor\"></a>"
   ]
  },
  {
   "cell_type": "markdown",
   "metadata": {
    "collapsed": true
   },
   "source": [
    "### 5.4.1 Gradient Boosting Classification for Heating\n",
    "<a id=\"GradientHeat\"></a>"
   ]
  },
  {
   "cell_type": "code",
   "execution_count": 112,
   "metadata": {},
   "outputs": [
    {
     "name": "stdout",
     "output_type": "stream",
     "text": [
      "Best Parameters: {'learning_rate': 0.1, 'max_features': 'log2', 'n_estimators': 50, 'subsample': 0.9}\n",
      "Best cross-validation Accuracy: 0.9707\n",
      "Best estimator:\n",
      "GradientBoostingClassifier(criterion='friedman_mse', init=None,\n",
      "              learning_rate=0.1, loss='deviance', max_depth=3,\n",
      "              max_features='log2', max_leaf_nodes=None,\n",
      "              min_impurity_decrease=0.0, min_impurity_split=None,\n",
      "              min_samples_leaf=1, min_samples_split=2,\n",
      "              min_weight_fraction_leaf=0.0, n_estimators=50,\n",
      "              presort='auto', random_state=10, subsample=0.9, verbose=0,\n",
      "              warm_start=False)\n"
     ]
    }
   ],
   "source": [
    "grid_GBM_heat_class = GradientBoostingClassifier(random_state=10)\n",
    "\n",
    "param_grid={\"learning_rate\":[0.01, 0.1, 0.2, 0.3],\n",
    "           \"n_estimators\":[50, 60, 70, 80, 100],\n",
    "           'subsample':[0.7, 0.8, 0.9, 1],\n",
    "           'max_features':['auto', 'sqrt', 'log2']}\n",
    "\n",
    "k=KFold(n_splits=5, random_state= 10)\n",
    "\n",
    "grid_GBM_heat_class = GridSearchCV(grid_GBM_heat_class, param_grid, scoring='accuracy', cv=k)\n",
    "grid_GBM_heat_class = grid_GBM_heat_class.fit(Xtrain3_mms, ytrain3.values.ravel())\n",
    "\n",
    "print(\"Best Parameters: {}\".format(grid_GBM_heat_class.best_params_))\n",
    "print(\"Best cross-validation Accuracy: {:.4f}\".format(grid_GBM_heat_class.best_score_))\n",
    "print(\"Best estimator:\\n{}\".format(grid_GBM_heat_class.best_estimator_))"
   ]
  },
  {
   "cell_type": "code",
   "execution_count": 113,
   "metadata": {},
   "outputs": [
    {
     "name": "stdout",
     "output_type": "stream",
     "text": [
      "Accuracy(Train): 0.9772\n",
      "Accuracy(Test): 0.9935\n"
     ]
    }
   ],
   "source": [
    "GBM_heat_class = GradientBoostingClassifier(learning_rate=0.1, max_features='log2', \n",
    "                                n_estimators=50 ,subsample=0.9, random_state=10).fit(Xtrain3_mms, ytrain3.values.ravel())\n",
    "print('Accuracy(Train): {:.4f}'.format(GBM_heat_class.score(Xtrain3_mms, ytrain3)))\n",
    "print('Accuracy(Test): {:.4f}'.format(GBM_heat_class.score(Xtest3_mms, ytest3)))"
   ]
  },
  {
   "cell_type": "markdown",
   "metadata": {},
   "source": [
    "### 5.4.2 Gradient Boosting Classification for Cooling\n",
    "<a id=\"GradientCool\"></a>"
   ]
  },
  {
   "cell_type": "code",
   "execution_count": 114,
   "metadata": {},
   "outputs": [
    {
     "name": "stdout",
     "output_type": "stream",
     "text": [
      "Best Parameters: {'learning_rate': 0.1, 'max_features': 'sqrt', 'n_estimators': 50, 'subsample': 0.7}\n",
      "Best cross-validation Accuracy: 0.9919\n",
      "Best estimator:\n",
      "GradientBoostingClassifier(criterion='friedman_mse', init=None,\n",
      "              learning_rate=0.1, loss='deviance', max_depth=3,\n",
      "              max_features='sqrt', max_leaf_nodes=None,\n",
      "              min_impurity_decrease=0.0, min_impurity_split=None,\n",
      "              min_samples_leaf=1, min_samples_split=2,\n",
      "              min_weight_fraction_leaf=0.0, n_estimators=50,\n",
      "              presort='auto', random_state=10, subsample=0.7, verbose=0,\n",
      "              warm_start=False)\n"
     ]
    }
   ],
   "source": [
    "grid_GBM_cool_class = GradientBoostingClassifier(random_state=10)\n",
    "\n",
    "param_grid={\"learning_rate\":[0.01, 0.1, 0.2, 0.3],\n",
    "           \"n_estimators\":[50, 60, 70, 80, 100],\n",
    "           'subsample':[0.7, 0.8, 0.9, 1],\n",
    "           'max_features':['auto', 'sqrt', 'log2']}\n",
    "\n",
    "k=KFold(n_splits=5, random_state= 10)\n",
    "\n",
    "grid_GBM_cool_class = GridSearchCV(grid_GBM_cool_class, param_grid, scoring='accuracy', cv=k)\n",
    "grid_GBM_cool_class = grid_GBM_cool_class.fit(Xtrain4_mms, ytrain4.values.ravel())\n",
    "\n",
    "print(\"Best Parameters: {}\".format(grid_GBM_cool_class.best_params_))\n",
    "print(\"Best cross-validation Accuracy: {:.4f}\".format(grid_GBM_cool_class.best_score_))\n",
    "print(\"Best estimator:\\n{}\".format(grid_GBM_cool_class.best_estimator_))"
   ]
  },
  {
   "cell_type": "code",
   "execution_count": 115,
   "metadata": {},
   "outputs": [
    {
     "name": "stdout",
     "output_type": "stream",
     "text": [
      "Accuracy(Train): 0.9967\n",
      "Accuracy(Test): 0.9610\n"
     ]
    }
   ],
   "source": [
    "GBM_cool_class = GradientBoostingClassifier(learning_rate=0.1, max_features='sqrt', n_estimators=50,\n",
    "                                            subsample=0.7, random_state=10).fit(Xtrain4_mms, ytrain4.values.ravel())\n",
    "print('Accuracy(Train): {:.4f}'.format(GBM_cool_class.score(Xtrain4_mms, ytrain4)))\n",
    "print('Accuracy(Test): {:.4f}'.format(GBM_cool_class.score(Xtest4_mms, ytest4)))"
   ]
  },
  {
   "cell_type": "markdown",
   "metadata": {},
   "source": [
    "### 5.4.3 Gradient Boosting Classification for Overall\n",
    "<a id=\"GradientOver\"></a>"
   ]
  },
  {
   "cell_type": "code",
   "execution_count": 116,
   "metadata": {},
   "outputs": [
    {
     "name": "stdout",
     "output_type": "stream",
     "text": [
      "Best Parameters: {'learning_rate': 0.2, 'max_features': 'sqrt', 'n_estimators': 50, 'subsample': 0.8}\n",
      "Best cross-validation Accuracy: 0.9878\n",
      "Best estimator:\n",
      "GradientBoostingClassifier(criterion='friedman_mse', init=None,\n",
      "              learning_rate=0.2, loss='deviance', max_depth=3,\n",
      "              max_features='sqrt', max_leaf_nodes=None,\n",
      "              min_impurity_decrease=0.0, min_impurity_split=None,\n",
      "              min_samples_leaf=1, min_samples_split=2,\n",
      "              min_weight_fraction_leaf=0.0, n_estimators=50,\n",
      "              presort='auto', random_state=10, subsample=0.8, verbose=0,\n",
      "              warm_start=False)\n"
     ]
    }
   ],
   "source": [
    "grid_GBM_overall_class = GradientBoostingClassifier(random_state=10)\n",
    "\n",
    "param_grid={\"learning_rate\":[0.01, 0.1, 0.2, 0.3],\n",
    "           \"n_estimators\":[50, 60, 70, 80, 100],\n",
    "           'subsample':[0.7, 0.8, 0.9, 1],\n",
    "           'max_features':['auto', 'sqrt', 'log2']}\n",
    "\n",
    "k=KFold(n_splits=5, random_state= 10)\n",
    "\n",
    "grid_GBM_overall_class = GridSearchCV(grid_GBM_cool_class, param_grid, scoring='accuracy', cv=k)\n",
    "grid_GBM_overall_class = grid_GBM_cool_class.fit(Xtraino_cat_mms, ytraino_cat.values.ravel())\n",
    "\n",
    "print(\"Best Parameters: {}\".format(grid_GBM_overall_class.best_params_))\n",
    "print(\"Best cross-validation Accuracy: {:.4f}\".format(grid_GBM_overall_class.best_score_))\n",
    "print(\"Best estimator:\\n{}\".format(grid_GBM_overall_class.best_estimator_))"
   ]
  },
  {
   "cell_type": "code",
   "execution_count": 117,
   "metadata": {},
   "outputs": [
    {
     "name": "stdout",
     "output_type": "stream",
     "text": [
      "Accuracy(Train): 0.9965\n",
      "Accuracy(Test): 0.9740\n"
     ]
    }
   ],
   "source": [
    "GBM_overall_class = GradientBoostingClassifier(learning_rate=0.2, max_features='sqrt', n_estimators=50,\n",
    "                                            subsample=0.8, random_state=10).fit(Xtraino_cat_mms, ytraino_cat.values.ravel())\n",
    "print('Accuracy(Train): {:.4f}'.format(GBM_overall_class.score(Xtraino_cat_mms, ytraino_cat)))\n",
    "print('Accuracy(Test): {:.4f}'.format(GBM_overall_class.score(Xtesto_cat_mms, ytesto_cat)))"
   ]
  },
  {
   "cell_type": "markdown",
   "metadata": {},
   "source": [
    "## 6. Modeling with Deep Learning (dependent variable continuos)\n",
    "\n",
    "<a id=\"ModDeep\"></a>"
   ]
  },
  {
   "cell_type": "markdown",
   "metadata": {},
   "source": [
    "## 6.1. Defining model\n",
    "\n",
    "<a id=\"Deep11\"></a>"
   ]
  },
  {
   "cell_type": "code",
   "execution_count": 118,
   "metadata": {
    "collapsed": true
   },
   "outputs": [],
   "source": [
    "#Create model\n",
    "modelc=Sequential()\n",
    "modelc.add(Dense(8, input_dim=8, kernel_initializer=\"normal\", activation=\"relu\")) #First layer 8 nodes\n",
    "modelc.add(Dense(5, kernel_initializer=\"normal\", activation=\"relu\")) #Second layer 5 nodes\n",
    "modelc.add(Dense(1, kernel_initializer=\"normal\"))\n"
   ]
  },
  {
   "cell_type": "markdown",
   "metadata": {},
   "source": [
    "## 6.2. Compile model \n",
    "\n",
    "<a id=\"Deep12\"></a>"
   ]
  },
  {
   "cell_type": "code",
   "execution_count": 119,
   "metadata": {
    "collapsed": true
   },
   "outputs": [],
   "source": [
    "modelc.compile(loss='mse', optimizer='adam' , metrics = ['mse'])"
   ]
  },
  {
   "cell_type": "markdown",
   "metadata": {},
   "source": [
    "## 6.3 Fit and evaluate the model for overall\n",
    "<a id=\"Deep13\"></a>"
   ]
  },
  {
   "cell_type": "markdown",
   "metadata": {},
   "source": [
    "### 6.3.1  Grid search to find best epoc and batch size for overall load"
   ]
  },
  {
   "cell_type": "code",
   "execution_count": 120,
   "metadata": {
    "collapsed": true
   },
   "outputs": [],
   "source": [
    "def create_model_over():    \n",
    "    #Defining the model\n",
    "    model_over=Sequential()\n",
    "    model_over.add(Dense(8, input_dim=8, activation=\"relu\"))\n",
    "    model_over.add(Dense(4, activation=\"relu\"))\n",
    "    model_over.add(Dense(1, activation=\"relu\"))\n",
    "    \n",
    "    #Compiling the model\n",
    "    model_over.compile(loss=\"mse\", optimizer=\"adam\", metrics=[\"accuracy\"])\n",
    "    return model_over"
   ]
  },
  {
   "cell_type": "code",
   "execution_count": 121,
   "metadata": {
    "collapsed": true
   },
   "outputs": [],
   "source": [
    "# param_neurona_over={\"epochs\":[10,50,100],\n",
    "#               \"batch_size\":[10,20,50,100]}\n",
    "# modelo_over=KerasClassifier(build_fn=create_model_over, verbose=0)\n",
    "\n",
    "# grid_neurona_over=GridSearchCV(modelo_over, param_neurona_over, cv=5)\n",
    "# grid_neurona_over.fit(Xtraino_mms, ytraino)"
   ]
  },
  {
   "cell_type": "code",
   "execution_count": 122,
   "metadata": {
    "collapsed": true
   },
   "outputs": [],
   "source": [
    "# grid_neurona_over.best_params_"
   ]
  },
  {
   "cell_type": "markdown",
   "metadata": {},
   "source": [
    "### 6.3.2 Running the best model for overall (continuos dependent variable)"
   ]
  },
  {
   "cell_type": "code",
   "execution_count": 123,
   "metadata": {},
   "outputs": [
    {
     "name": "stdout",
     "output_type": "stream",
     "text": [
      "Epoch 1/100\n",
      "576/576 [==============================] - 0s 616us/step - loss: 2606.0401 - mean_squared_error: 2606.0401\n",
      "Epoch 2/100\n",
      "576/576 [==============================] - 0s 287us/step - loss: 2592.3451 - mean_squared_error: 2592.3451\n",
      "Epoch 3/100\n",
      "576/576 [==============================] - 0s 320us/step - loss: 2549.9049 - mean_squared_error: 2549.9049\n",
      "Epoch 4/100\n",
      "576/576 [==============================] - 0s 293us/step - loss: 2449.0545 - mean_squared_error: 2449.0545\n",
      "Epoch 5/100\n",
      "576/576 [==============================] - 0s 295us/step - loss: 2270.1714 - mean_squared_error: 2270.1714\n",
      "Epoch 6/100\n",
      "576/576 [==============================] - 0s 299us/step - loss: 2004.0177 - mean_squared_error: 2004.0177\n",
      "Epoch 7/100\n",
      "576/576 [==============================] - 0s 293us/step - loss: 1667.7900 - mean_squared_error: 1667.7900\n",
      "Epoch 8/100\n",
      "576/576 [==============================] - 0s 288us/step - loss: 1295.9963 - mean_squared_error: 1295.9963\n",
      "Epoch 9/100\n",
      "576/576 [==============================] - 0s 280us/step - loss: 942.3670 - mean_squared_error: 942.3670\n",
      "Epoch 10/100\n",
      "576/576 [==============================] - 0s 301us/step - loss: 656.8434 - mean_squared_error: 656.8434\n",
      "Epoch 11/100\n",
      "576/576 [==============================] - 0s 286us/step - loss: 463.1170 - mean_squared_error: 463.1170\n",
      "Epoch 12/100\n",
      "576/576 [==============================] - 0s 299us/step - loss: 354.7166 - mean_squared_error: 354.7166\n",
      "Epoch 13/100\n",
      "576/576 [==============================] - 0s 293us/step - loss: 298.9350 - mean_squared_error: 298.9350\n",
      "Epoch 14/100\n",
      "576/576 [==============================] - 0s 294us/step - loss: 268.0528 - mean_squared_error: 268.0528\n",
      "Epoch 15/100\n",
      "576/576 [==============================] - 0s 247us/step - loss: 245.9723 - mean_squared_error: 245.9723\n",
      "Epoch 16/100\n",
      "576/576 [==============================] - 0s 149us/step - loss: 228.0823 - mean_squared_error: 228.0823\n",
      "Epoch 17/100\n",
      "576/576 [==============================] - 0s 209us/step - loss: 211.4953 - mean_squared_error: 211.4953\n",
      "Epoch 18/100\n",
      "576/576 [==============================] - 0s 143us/step - loss: 196.5878 - mean_squared_error: 196.5878\n",
      "Epoch 19/100\n",
      "576/576 [==============================] - 0s 232us/step - loss: 183.1535 - mean_squared_error: 183.1535\n",
      "Epoch 20/100\n",
      "576/576 [==============================] - 0s 139us/step - loss: 170.1532 - mean_squared_error: 170.1532\n",
      "Epoch 21/100\n",
      "576/576 [==============================] - 0s 207us/step - loss: 158.2201 - mean_squared_error: 158.2201\n",
      "Epoch 22/100\n",
      "576/576 [==============================] - 0s 140us/step - loss: 147.1437 - mean_squared_error: 147.1437\n",
      "Epoch 23/100\n",
      "576/576 [==============================] - 0s 206us/step - loss: 137.0794 - mean_squared_error: 137.0794\n",
      "Epoch 24/100\n",
      "576/576 [==============================] - 0s 262us/step - loss: 127.6908 - mean_squared_error: 127.6908\n",
      "Epoch 25/100\n",
      "576/576 [==============================] - 0s 294us/step - loss: 119.0947 - mean_squared_error: 119.0947\n",
      "Epoch 26/100\n",
      "576/576 [==============================] - 0s 305us/step - loss: 111.1734 - mean_squared_error: 111.1734\n",
      "Epoch 27/100\n",
      "576/576 [==============================] - 0s 276us/step - loss: 103.8671 - mean_squared_error: 103.8671\n",
      "Epoch 28/100\n",
      "576/576 [==============================] - 0s 285us/step - loss: 97.3964 - mean_squared_error: 97.3964\n",
      "Epoch 29/100\n",
      "576/576 [==============================] - 0s 287us/step - loss: 91.5119 - mean_squared_error: 91.5119\n",
      "Epoch 30/100\n",
      "576/576 [==============================] - 0s 295us/step - loss: 86.3486 - mean_squared_error: 86.3486\n",
      "Epoch 31/100\n",
      "576/576 [==============================] - 0s 299us/step - loss: 81.5719 - mean_squared_error: 81.5719\n",
      "Epoch 32/100\n",
      "576/576 [==============================] - 0s 301us/step - loss: 77.4292 - mean_squared_error: 77.4292\n",
      "Epoch 33/100\n",
      "576/576 [==============================] - 0s 296us/step - loss: 73.8072 - mean_squared_error: 73.8072\n",
      "Epoch 34/100\n",
      "576/576 [==============================] - 0s 297us/step - loss: 70.7999 - mean_squared_error: 70.7999\n",
      "Epoch 35/100\n",
      "576/576 [==============================] - 0s 300us/step - loss: 67.8309 - mean_squared_error: 67.8309\n",
      "Epoch 36/100\n",
      "576/576 [==============================] - 0s 285us/step - loss: 65.4184 - mean_squared_error: 65.4184\n",
      "Epoch 37/100\n",
      "576/576 [==============================] - 0s 303us/step - loss: 63.3566 - mean_squared_error: 63.3566\n",
      "Epoch 38/100\n",
      "576/576 [==============================] - 0s 292us/step - loss: 61.3823 - mean_squared_error: 61.3823\n",
      "Epoch 39/100\n",
      "576/576 [==============================] - 0s 243us/step - loss: 59.7999 - mean_squared_error: 59.7999\n",
      "Epoch 40/100\n",
      "576/576 [==============================] - 0s 244us/step - loss: 58.3735 - mean_squared_error: 58.3735\n",
      "Epoch 41/100\n",
      "576/576 [==============================] - 0s 243us/step - loss: 57.1955 - mean_squared_error: 57.1955\n",
      "Epoch 42/100\n",
      "576/576 [==============================] - 0s 222us/step - loss: 56.0441 - mean_squared_error: 56.0441\n",
      "Epoch 43/100\n",
      "576/576 [==============================] - 0s 307us/step - loss: 55.0312 - mean_squared_error: 55.0312\n",
      "Epoch 44/100\n",
      "576/576 [==============================] - 0s 290us/step - loss: 54.1324 - mean_squared_error: 54.1324\n",
      "Epoch 45/100\n",
      "576/576 [==============================] - 0s 299us/step - loss: 53.3273 - mean_squared_error: 53.3273\n",
      "Epoch 46/100\n",
      "576/576 [==============================] - 0s 307us/step - loss: 52.6323 - mean_squared_error: 52.6323\n",
      "Epoch 47/100\n",
      "576/576 [==============================] - 0s 305us/step - loss: 51.8476 - mean_squared_error: 51.8476\n",
      "Epoch 48/100\n",
      "576/576 [==============================] - 0s 300us/step - loss: 51.2966 - mean_squared_error: 51.2966\n",
      "Epoch 49/100\n",
      "576/576 [==============================] - 0s 264us/step - loss: 50.6587 - mean_squared_error: 50.6587\n",
      "Epoch 50/100\n",
      "576/576 [==============================] - 0s 182us/step - loss: 50.1153 - mean_squared_error: 50.1153\n",
      "Epoch 51/100\n",
      "576/576 [==============================] - 0s 196us/step - loss: 49.5655 - mean_squared_error: 49.5655\n",
      "Epoch 52/100\n",
      "576/576 [==============================] - 0s 302us/step - loss: 49.0311 - mean_squared_error: 49.0311\n",
      "Epoch 53/100\n",
      "576/576 [==============================] - 0s 303us/step - loss: 48.6774 - mean_squared_error: 48.6774\n",
      "Epoch 54/100\n",
      "576/576 [==============================] - 0s 296us/step - loss: 48.1704 - mean_squared_error: 48.1704\n",
      "Epoch 55/100\n",
      "576/576 [==============================] - 0s 302us/step - loss: 47.6840 - mean_squared_error: 47.6840\n",
      "Epoch 56/100\n",
      "576/576 [==============================] - 0s 299us/step - loss: 47.2624 - mean_squared_error: 47.2624\n",
      "Epoch 57/100\n",
      "576/576 [==============================] - 0s 307us/step - loss: 46.9078 - mean_squared_error: 46.9078\n",
      "Epoch 58/100\n",
      "576/576 [==============================] - 0s 294us/step - loss: 46.4514 - mean_squared_error: 46.4514\n",
      "Epoch 59/100\n",
      "576/576 [==============================] - 0s 299us/step - loss: 46.1022 - mean_squared_error: 46.1022\n",
      "Epoch 60/100\n",
      "576/576 [==============================] - 0s 300us/step - loss: 45.8747 - mean_squared_error: 45.8747\n",
      "Epoch 61/100\n",
      "576/576 [==============================] - 0s 306us/step - loss: 45.6837 - mean_squared_error: 45.6837\n",
      "Epoch 62/100\n",
      "576/576 [==============================] - 0s 174us/step - loss: 45.2259 - mean_squared_error: 45.2259\n",
      "Epoch 63/100\n",
      "576/576 [==============================] - 0s 168us/step - loss: 44.9329 - mean_squared_error: 44.9329\n",
      "Epoch 64/100\n",
      "576/576 [==============================] - 0s 171us/step - loss: 44.7284 - mean_squared_error: 44.7284\n",
      "Epoch 65/100\n",
      "576/576 [==============================] - 0s 178us/step - loss: 44.4611 - mean_squared_error: 44.4611\n",
      "Epoch 66/100\n",
      "576/576 [==============================] - 0s 195us/step - loss: 44.1804 - mean_squared_error: 44.1804\n",
      "Epoch 67/100\n",
      "576/576 [==============================] - 0s 204us/step - loss: 43.9277 - mean_squared_error: 43.9277\n",
      "Epoch 68/100\n",
      "576/576 [==============================] - 0s 238us/step - loss: 43.7542 - mean_squared_error: 43.7542\n",
      "Epoch 69/100\n",
      "576/576 [==============================] - 0s 199us/step - loss: 43.5302 - mean_squared_error: 43.5302\n",
      "Epoch 70/100\n",
      "576/576 [==============================] - 0s 168us/step - loss: 43.3830 - mean_squared_error: 43.3830\n",
      "Epoch 71/100\n"
     ]
    },
    {
     "name": "stdout",
     "output_type": "stream",
     "text": [
      "576/576 [==============================] - 0s 225us/step - loss: 43.2777 - mean_squared_error: 43.2777\n",
      "Epoch 72/100\n",
      "576/576 [==============================] - 0s 175us/step - loss: 43.0988 - mean_squared_error: 43.0988\n",
      "Epoch 73/100\n",
      "576/576 [==============================] - 0s 163us/step - loss: 42.9238 - mean_squared_error: 42.9238\n",
      "Epoch 74/100\n",
      "576/576 [==============================] - 0s 198us/step - loss: 42.8344 - mean_squared_error: 42.8344\n",
      "Epoch 75/100\n",
      "576/576 [==============================] - 0s 193us/step - loss: 42.7012 - mean_squared_error: 42.7012\n",
      "Epoch 76/100\n",
      "576/576 [==============================] - 0s 245us/step - loss: 42.4598 - mean_squared_error: 42.4598\n",
      "Epoch 77/100\n",
      "576/576 [==============================] - 0s 208us/step - loss: 42.2960 - mean_squared_error: 42.2960\n",
      "Epoch 78/100\n",
      "576/576 [==============================] - 0s 181us/step - loss: 42.2494 - mean_squared_error: 42.2494\n",
      "Epoch 79/100\n",
      "576/576 [==============================] - 0s 294us/step - loss: 42.1261 - mean_squared_error: 42.1261\n",
      "Epoch 80/100\n",
      "576/576 [==============================] - 0s 333us/step - loss: 41.9788 - mean_squared_error: 41.9788\n",
      "Epoch 81/100\n",
      "576/576 [==============================] - 0s 317us/step - loss: 41.8603 - mean_squared_error: 41.8603\n",
      "Epoch 82/100\n",
      "576/576 [==============================] - 0s 320us/step - loss: 41.9397 - mean_squared_error: 41.9397\n",
      "Epoch 83/100\n",
      "576/576 [==============================] - 0s 303us/step - loss: 41.9920 - mean_squared_error: 41.9920\n",
      "Epoch 84/100\n",
      "576/576 [==============================] - 0s 234us/step - loss: 41.6542 - mean_squared_error: 41.6542\n",
      "Epoch 85/100\n",
      "576/576 [==============================] - 0s 219us/step - loss: 41.6950 - mean_squared_error: 41.6950\n",
      "Epoch 86/100\n",
      "576/576 [==============================] - 0s 252us/step - loss: 41.4708 - mean_squared_error: 41.4708\n",
      "Epoch 87/100\n",
      "576/576 [==============================] - 0s 183us/step - loss: 41.4664 - mean_squared_error: 41.4664\n",
      "Epoch 88/100\n",
      "576/576 [==============================] - 0s 321us/step - loss: 41.5370 - mean_squared_error: 41.5370\n",
      "Epoch 89/100\n",
      "576/576 [==============================] - 0s 288us/step - loss: 41.2311 - mean_squared_error: 41.2311\n",
      "Epoch 90/100\n",
      "576/576 [==============================] - 0s 223us/step - loss: 41.2292 - mean_squared_error: 41.2292\n",
      "Epoch 91/100\n",
      "576/576 [==============================] - 0s 180us/step - loss: 41.2718 - mean_squared_error: 41.2718\n",
      "Epoch 92/100\n",
      "576/576 [==============================] - 0s 260us/step - loss: 41.1824 - mean_squared_error: 41.1824\n",
      "Epoch 93/100\n",
      "576/576 [==============================] - 0s 203us/step - loss: 41.0057 - mean_squared_error: 41.0057\n",
      "Epoch 94/100\n",
      "576/576 [==============================] - 0s 266us/step - loss: 40.9373 - mean_squared_error: 40.9373\n",
      "Epoch 95/100\n",
      "576/576 [==============================] - 0s 299us/step - loss: 40.8764 - mean_squared_error: 40.8764\n",
      "Epoch 96/100\n",
      "576/576 [==============================] - 0s 314us/step - loss: 40.8364 - mean_squared_error: 40.8364\n",
      "Epoch 97/100\n",
      "576/576 [==============================] - 0s 296us/step - loss: 40.7571 - mean_squared_error: 40.7571\n",
      "Epoch 98/100\n",
      "576/576 [==============================] - 0s 296us/step - loss: 40.6625 - mean_squared_error: 40.6625\n",
      "Epoch 99/100\n",
      "576/576 [==============================] - 0s 301us/step - loss: 40.7156 - mean_squared_error: 40.7156\n",
      "Epoch 100/100\n",
      "576/576 [==============================] - 0s 293us/step - loss: 40.7442 - mean_squared_error: 40.7442\n"
     ]
    },
    {
     "data": {
      "text/plain": [
       "<keras.callbacks.History at 0x1111009e8>"
      ]
     },
     "execution_count": 123,
     "metadata": {},
     "output_type": "execute_result"
    }
   ],
   "source": [
    "modelc.fit(Xtraino_mms, ytraino, epochs = 100, batch_size = 10)"
   ]
  },
  {
   "cell_type": "markdown",
   "metadata": {},
   "source": [
    "### 6.3.3 Evaluate model for Oveall Load"
   ]
  },
  {
   "cell_type": "code",
   "execution_count": 124,
   "metadata": {},
   "outputs": [
    {
     "name": "stdout",
     "output_type": "stream",
     "text": [
      "Train R2: 0.89\n",
      "Test R2: 0.89\n"
     ]
    }
   ],
   "source": [
    "from sklearn.metrics import r2_score\n",
    "\n",
    "ytrainpredict_neurona_overall = modelc.predict(Xtraino_mms)\n",
    "ytestpredict_neurona_overall= modelc.predict(Xtesto_mms)\n",
    "\n",
    "print('Train R2: {:.2f}'.format(r2_score(ytraino, ytrainpredict_neurona_overall)))\n",
    "print('Test R2: {:.2f}'.format(r2_score(ytesto, ytestpredict_neurona_overall)))"
   ]
  },
  {
   "cell_type": "markdown",
   "metadata": {},
   "source": [
    "## 6.4 Fit and evaluate the model for heating\n",
    "<a id=\"Deep14\"></a>"
   ]
  },
  {
   "cell_type": "markdown",
   "metadata": {},
   "source": [
    "### 6.4.1  Grid search to find best epoc and batch size for heating load"
   ]
  },
  {
   "cell_type": "code",
   "execution_count": 125,
   "metadata": {
    "collapsed": true
   },
   "outputs": [],
   "source": [
    "def create_model_heating():    \n",
    "    #Defining the model\n",
    "    model_heating=Sequential()\n",
    "    model_heating.add(Dense(8, input_dim=8, activation=\"relu\"))\n",
    "    model_heating.add(Dense(4, activation=\"relu\"))\n",
    "    model_heating.add(Dense(1, activation=\"relu\"))\n",
    "    \n",
    "    #Compiling the model\n",
    "    model_heating.compile(loss=\"mse\", optimizer=\"adam\", metrics=[\"accuracy\"])\n",
    "    return model_heating"
   ]
  },
  {
   "cell_type": "code",
   "execution_count": 126,
   "metadata": {
    "collapsed": true
   },
   "outputs": [],
   "source": [
    "# param_neurona_heating={\"epochs\":[10,50,100],\n",
    "#               \"batch_size\":[10,20,50,100]}\n",
    "# modelo_heating=KerasClassifier(build_fn=create_model_heating, verbose=0)\n",
    "\n",
    "# grid_neurona_heating=GridSearchCV(modelo_over, param_neurona_heating, cv=5)\n",
    "# grid_neurona_heating.fit(Xtrain_mms, ytrain)"
   ]
  },
  {
   "cell_type": "code",
   "execution_count": 127,
   "metadata": {
    "collapsed": true
   },
   "outputs": [],
   "source": [
    "#grid_neurona_heating.best_params_"
   ]
  },
  {
   "cell_type": "markdown",
   "metadata": {},
   "source": [
    "### 6.4.2 Running the best model for heating load (continuos dependent variable)"
   ]
  },
  {
   "cell_type": "code",
   "execution_count": 128,
   "metadata": {},
   "outputs": [
    {
     "name": "stdout",
     "output_type": "stream",
     "text": [
      "Epoch 1/100\n",
      "614/614 [==============================] - 0s 259us/step - loss: 263.7527 - mean_squared_error: 263.7527\n",
      "Epoch 2/100\n",
      "614/614 [==============================] - 0s 285us/step - loss: 31.4217 - mean_squared_error: 31.4217\n",
      "Epoch 3/100\n",
      "614/614 [==============================] - 0s 287us/step - loss: 17.3861 - mean_squared_error: 17.3861\n",
      "Epoch 4/100\n",
      "614/614 [==============================] - 0s 317us/step - loss: 14.5419 - mean_squared_error: 14.5419\n",
      "Epoch 5/100\n",
      "614/614 [==============================] - 0s 296us/step - loss: 13.3337 - mean_squared_error: 13.3337\n",
      "Epoch 6/100\n",
      "614/614 [==============================] - 0s 301us/step - loss: 12.5463 - mean_squared_error: 12.5463\n",
      "Epoch 7/100\n",
      "614/614 [==============================] - 0s 299us/step - loss: 11.9611 - mean_squared_error: 11.9611\n",
      "Epoch 8/100\n",
      "614/614 [==============================] - 0s 283us/step - loss: 11.5222 - mean_squared_error: 11.5222\n",
      "Epoch 9/100\n",
      "614/614 [==============================] - 0s 289us/step - loss: 11.1601 - mean_squared_error: 11.1601\n",
      "Epoch 10/100\n",
      "614/614 [==============================] - 0s 297us/step - loss: 10.8950 - mean_squared_error: 10.8950\n",
      "Epoch 11/100\n",
      "614/614 [==============================] - 0s 229us/step - loss: 10.6865 - mean_squared_error: 10.6865\n",
      "Epoch 12/100\n",
      "614/614 [==============================] - 0s 167us/step - loss: 10.5316 - mean_squared_error: 10.5316\n",
      "Epoch 13/100\n",
      "614/614 [==============================] - 0s 201us/step - loss: 10.4293 - mean_squared_error: 10.4293\n",
      "Epoch 14/100\n",
      "614/614 [==============================] - 0s 151us/step - loss: 10.3093 - mean_squared_error: 10.3093\n",
      "Epoch 15/100\n",
      "614/614 [==============================] - 0s 227us/step - loss: 10.2359 - mean_squared_error: 10.2359\n",
      "Epoch 16/100\n",
      "614/614 [==============================] - 0s 307us/step - loss: 10.1700 - mean_squared_error: 10.1700\n",
      "Epoch 17/100\n",
      "614/614 [==============================] - 0s 321us/step - loss: 10.1237 - mean_squared_error: 10.1237\n",
      "Epoch 18/100\n",
      "614/614 [==============================] - 0s 262us/step - loss: 10.0805 - mean_squared_error: 10.0805\n",
      "Epoch 19/100\n",
      "614/614 [==============================] - 0s 278us/step - loss: 10.0525 - mean_squared_error: 10.0525\n",
      "Epoch 20/100\n",
      "614/614 [==============================] - 0s 235us/step - loss: 10.0183 - mean_squared_error: 10.0183\n",
      "Epoch 21/100\n",
      "614/614 [==============================] - 0s 189us/step - loss: 10.0010 - mean_squared_error: 10.0010\n",
      "Epoch 22/100\n",
      "614/614 [==============================] - 0s 160us/step - loss: 9.9803 - mean_squared_error: 9.9803\n",
      "Epoch 23/100\n",
      "614/614 [==============================] - 0s 207us/step - loss: 9.9591 - mean_squared_error: 9.9591\n",
      "Epoch 24/100\n",
      "614/614 [==============================] - 0s 264us/step - loss: 9.9427 - mean_squared_error: 9.9427\n",
      "Epoch 25/100\n",
      "614/614 [==============================] - 0s 315us/step - loss: 9.9382 - mean_squared_error: 9.9382\n",
      "Epoch 26/100\n",
      "614/614 [==============================] - 0s 282us/step - loss: 9.9096 - mean_squared_error: 9.9096\n",
      "Epoch 27/100\n",
      "614/614 [==============================] - 0s 286us/step - loss: 9.9146 - mean_squared_error: 9.9146\n",
      "Epoch 28/100\n",
      "614/614 [==============================] - 0s 200us/step - loss: 9.8818 - mean_squared_error: 9.8818\n",
      "Epoch 29/100\n",
      "614/614 [==============================] - 0s 143us/step - loss: 9.8733 - mean_squared_error: 9.8733\n",
      "Epoch 30/100\n",
      "614/614 [==============================] - 0s 245us/step - loss: 9.8774 - mean_squared_error: 9.8774\n",
      "Epoch 31/100\n",
      "614/614 [==============================] - 0s 167us/step - loss: 9.8574 - mean_squared_error: 9.8574\n",
      "Epoch 32/100\n",
      "614/614 [==============================] - 0s 205us/step - loss: 9.8484 - mean_squared_error: 9.8484\n",
      "Epoch 33/100\n",
      "614/614 [==============================] - 0s 207us/step - loss: 9.8328 - mean_squared_error: 9.8328\n",
      "Epoch 34/100\n",
      "614/614 [==============================] - 0s 316us/step - loss: 9.8254 - mean_squared_error: 9.8254\n",
      "Epoch 35/100\n",
      "614/614 [==============================] - 0s 284us/step - loss: 9.8162 - mean_squared_error: 9.8162\n",
      "Epoch 36/100\n",
      "614/614 [==============================] - 0s 312us/step - loss: 9.8378 - mean_squared_error: 9.8378\n",
      "Epoch 37/100\n",
      "614/614 [==============================] - 0s 263us/step - loss: 9.7977 - mean_squared_error: 9.7977\n",
      "Epoch 38/100\n",
      "614/614 [==============================] - 0s 285us/step - loss: 9.7809 - mean_squared_error: 9.7809\n",
      "Epoch 39/100\n",
      "614/614 [==============================] - 0s 281us/step - loss: 9.7928 - mean_squared_error: 9.7928\n",
      "Epoch 40/100\n",
      "614/614 [==============================] - 0s 168us/step - loss: 9.7594 - mean_squared_error: 9.7594\n",
      "Epoch 41/100\n",
      "614/614 [==============================] - 0s 192us/step - loss: 9.7380 - mean_squared_error: 9.7380\n",
      "Epoch 42/100\n",
      "614/614 [==============================] - 0s 193us/step - loss: 9.7330 - mean_squared_error: 9.7330\n",
      "Epoch 43/100\n",
      "614/614 [==============================] - 0s 322us/step - loss: 9.7262 - mean_squared_error: 9.7262\n",
      "Epoch 44/100\n",
      "614/614 [==============================] - 0s 337us/step - loss: 9.7080 - mean_squared_error: 9.7080\n",
      "Epoch 45/100\n",
      "614/614 [==============================] - 0s 352us/step - loss: 9.7084 - mean_squared_error: 9.7084\n",
      "Epoch 46/100\n",
      "614/614 [==============================] - 0s 233us/step - loss: 9.6840 - mean_squared_error: 9.6840\n",
      "Epoch 47/100\n",
      "614/614 [==============================] - 0s 291us/step - loss: 9.7025 - mean_squared_error: 9.7025\n",
      "Epoch 48/100\n",
      "614/614 [==============================] - 0s 226us/step - loss: 9.6718 - mean_squared_error: 9.6718\n",
      "Epoch 49/100\n",
      "614/614 [==============================] - 0s 228us/step - loss: 9.6893 - mean_squared_error: 9.6893\n",
      "Epoch 50/100\n",
      "614/614 [==============================] - 0s 247us/step - loss: 9.6565 - mean_squared_error: 9.6565\n",
      "Epoch 51/100\n",
      "614/614 [==============================] - 0s 273us/step - loss: 9.6558 - mean_squared_error: 9.6558\n",
      "Epoch 52/100\n",
      "614/614 [==============================] - 0s 224us/step - loss: 9.6306 - mean_squared_error: 9.6306\n",
      "Epoch 53/100\n",
      "614/614 [==============================] - 0s 195us/step - loss: 9.6235 - mean_squared_error: 9.6235\n",
      "Epoch 54/100\n",
      "614/614 [==============================] - 0s 275us/step - loss: 9.6081 - mean_squared_error: 9.6081\n",
      "Epoch 55/100\n",
      "614/614 [==============================] - 0s 307us/step - loss: 9.6289 - mean_squared_error: 9.6289\n",
      "Epoch 56/100\n",
      "614/614 [==============================] - 0s 310us/step - loss: 9.5947 - mean_squared_error: 9.5947\n",
      "Epoch 57/100\n",
      "614/614 [==============================] - 0s 307us/step - loss: 9.6046 - mean_squared_error: 9.6046\n",
      "Epoch 58/100\n",
      "614/614 [==============================] - 0s 302us/step - loss: 9.6052 - mean_squared_error: 9.6052\n",
      "Epoch 59/100\n",
      "614/614 [==============================] - 0s 297us/step - loss: 9.6112 - mean_squared_error: 9.6112\n",
      "Epoch 60/100\n",
      "614/614 [==============================] - 0s 221us/step - loss: 9.5831 - mean_squared_error: 9.5831\n",
      "Epoch 61/100\n",
      "614/614 [==============================] - 0s 213us/step - loss: 9.5530 - mean_squared_error: 9.5530\n",
      "Epoch 62/100\n",
      "614/614 [==============================] - 0s 300us/step - loss: 9.5595 - mean_squared_error: 9.5595\n",
      "Epoch 63/100\n",
      "614/614 [==============================] - 0s 301us/step - loss: 9.5686 - mean_squared_error: 9.5686\n",
      "Epoch 64/100\n",
      "614/614 [==============================] - 0s 297us/step - loss: 9.5745 - mean_squared_error: 9.5745\n",
      "Epoch 65/100\n",
      "614/614 [==============================] - 0s 300us/step - loss: 9.5543 - mean_squared_error: 9.5543\n",
      "Epoch 66/100\n",
      "614/614 [==============================] - 0s 296us/step - loss: 9.5258 - mean_squared_error: 9.5258\n",
      "Epoch 67/100\n",
      "614/614 [==============================] - 0s 311us/step - loss: 9.5296 - mean_squared_error: 9.5296\n",
      "Epoch 68/100\n",
      "614/614 [==============================] - 0s 291us/step - loss: 9.5249 - mean_squared_error: 9.5249\n",
      "Epoch 69/100\n",
      "614/614 [==============================] - 0s 292us/step - loss: 9.4982 - mean_squared_error: 9.4982\n",
      "Epoch 70/100\n",
      "614/614 [==============================] - 0s 253us/step - loss: 9.5055 - mean_squared_error: 9.5055\n",
      "Epoch 71/100\n",
      "614/614 [==============================] - 0s 167us/step - loss: 9.5403 - mean_squared_error: 9.5403\n",
      "Epoch 72/100\n"
     ]
    },
    {
     "name": "stdout",
     "output_type": "stream",
     "text": [
      "614/614 [==============================] - 0s 167us/step - loss: 9.4505 - mean_squared_error: 9.4505\n",
      "Epoch 73/100\n",
      "614/614 [==============================] - 0s 258us/step - loss: 9.4636 - mean_squared_error: 9.4636\n",
      "Epoch 74/100\n",
      "614/614 [==============================] - 0s 295us/step - loss: 9.4568 - mean_squared_error: 9.4568\n",
      "Epoch 75/100\n",
      "614/614 [==============================] - 0s 301us/step - loss: 9.4754 - mean_squared_error: 9.4754\n",
      "Epoch 76/100\n",
      "614/614 [==============================] - 0s 291us/step - loss: 9.4675 - mean_squared_error: 9.4675\n",
      "Epoch 77/100\n",
      "614/614 [==============================] - 0s 172us/step - loss: 9.4328 - mean_squared_error: 9.4328\n",
      "Epoch 78/100\n",
      "614/614 [==============================] - 0s 196us/step - loss: 9.4459 - mean_squared_error: 9.4459\n",
      "Epoch 79/100\n",
      "614/614 [==============================] - 0s 249us/step - loss: 9.4049 - mean_squared_error: 9.4049\n",
      "Epoch 80/100\n",
      "614/614 [==============================] - 0s 223us/step - loss: 9.3959 - mean_squared_error: 9.3959\n",
      "Epoch 81/100\n",
      "614/614 [==============================] - 0s 192us/step - loss: 9.4833 - mean_squared_error: 9.4833\n",
      "Epoch 82/100\n",
      "614/614 [==============================] - 0s 187us/step - loss: 9.3992 - mean_squared_error: 9.3992\n",
      "Epoch 83/100\n",
      "614/614 [==============================] - 0s 166us/step - loss: 9.3979 - mean_squared_error: 9.3979\n",
      "Epoch 84/100\n",
      "614/614 [==============================] - 0s 187us/step - loss: 9.3955 - mean_squared_error: 9.3955\n",
      "Epoch 85/100\n",
      "614/614 [==============================] - 0s 199us/step - loss: 9.3756 - mean_squared_error: 9.3756\n",
      "Epoch 86/100\n",
      "614/614 [==============================] - 0s 218us/step - loss: 9.3685 - mean_squared_error: 9.3685\n",
      "Epoch 87/100\n",
      "614/614 [==============================] - 0s 304us/step - loss: 9.3929 - mean_squared_error: 9.3929\n",
      "Epoch 88/100\n",
      "614/614 [==============================] - 0s 302us/step - loss: 9.3879 - mean_squared_error: 9.3879\n",
      "Epoch 89/100\n",
      "614/614 [==============================] - 0s 289us/step - loss: 9.3453 - mean_squared_error: 9.3453\n",
      "Epoch 90/100\n",
      "614/614 [==============================] - 0s 298us/step - loss: 9.3330 - mean_squared_error: 9.3330\n",
      "Epoch 91/100\n",
      "614/614 [==============================] - 0s 230us/step - loss: 9.3327 - mean_squared_error: 9.3327\n",
      "Epoch 92/100\n",
      "614/614 [==============================] - 0s 210us/step - loss: 9.3921 - mean_squared_error: 9.3921\n",
      "Epoch 93/100\n",
      "614/614 [==============================] - 0s 293us/step - loss: 9.3395 - mean_squared_error: 9.3395\n",
      "Epoch 94/100\n",
      "614/614 [==============================] - ETA: 0s - loss: 9.5778 - mean_squared_error: 9.57 - 0s 323us/step - loss: 9.3141 - mean_squared_error: 9.3141\n",
      "Epoch 95/100\n",
      "614/614 [==============================] - 0s 303us/step - loss: 9.2959 - mean_squared_error: 9.2959\n",
      "Epoch 96/100\n",
      "614/614 [==============================] - 0s 303us/step - loss: 9.3412 - mean_squared_error: 9.3412\n",
      "Epoch 97/100\n",
      "614/614 [==============================] - 0s 255us/step - loss: 9.3335 - mean_squared_error: 9.3335\n",
      "Epoch 98/100\n",
      "614/614 [==============================] - 0s 296us/step - loss: 9.2801 - mean_squared_error: 9.2801\n",
      "Epoch 99/100\n",
      "614/614 [==============================] - 0s 316us/step - loss: 9.3069 - mean_squared_error: 9.3069\n",
      "Epoch 100/100\n",
      "614/614 [==============================] - 0s 303us/step - loss: 9.3070 - mean_squared_error: 9.3070\n"
     ]
    },
    {
     "data": {
      "text/plain": [
       "<keras.callbacks.History at 0x114020048>"
      ]
     },
     "execution_count": 128,
     "metadata": {},
     "output_type": "execute_result"
    }
   ],
   "source": [
    "modelc.fit(Xtrain_mms, ytrain, epochs = 100, batch_size = 10)"
   ]
  },
  {
   "cell_type": "markdown",
   "metadata": {},
   "source": [
    "### 6.4.3 Evaluate model for Heating load (conitunuos dependent variable)"
   ]
  },
  {
   "cell_type": "code",
   "execution_count": 129,
   "metadata": {},
   "outputs": [
    {
     "name": "stdout",
     "output_type": "stream",
     "text": [
      "Train R2: 0.91\n",
      "Test R2: 0.90\n"
     ]
    }
   ],
   "source": [
    "from sklearn.metrics import r2_score\n",
    "\n",
    "ytrainpredict_neurona_heating = modelc.predict(Xtrain_mms)\n",
    "ytestpredict_neurona_heating= modelc.predict(Xtest_mms)\n",
    "\n",
    "\n",
    "print('Train R2: {:.2f}'.format(r2_score(ytrain, ytrainpredict_neurona_heating)))\n",
    "print('Test R2: {:.2f}'.format(r2_score(ytest, ytestpredict_neurona_heating)))"
   ]
  },
  {
   "cell_type": "markdown",
   "metadata": {},
   "source": [
    "Note: Without scaling the power prediction is TrainR2=0.71, TestR2=0.66 "
   ]
  },
  {
   "cell_type": "markdown",
   "metadata": {},
   "source": [
    "## 6.5 Fit and evaluate the model for cooling\n",
    "<a id=\"Deep15\"></a>"
   ]
  },
  {
   "cell_type": "markdown",
   "metadata": {},
   "source": [
    "### 6.5.1  Grid search to find best epoc and batch size for cooling load"
   ]
  },
  {
   "cell_type": "code",
   "execution_count": 130,
   "metadata": {
    "collapsed": true
   },
   "outputs": [],
   "source": [
    "def create_model_cooling():    \n",
    "    #Defining the model\n",
    "    model_cooling=Sequential()\n",
    "    model_cooling.add(Dense(8, input_dim=8, activation=\"relu\"))\n",
    "    model_cooling.add(Dense(4, activation=\"relu\"))\n",
    "    model_cooling.add(Dense(1, activation=\"relu\"))\n",
    "    \n",
    "    #Compiling the model\n",
    "    model_cooling.compile(loss=\"mse\", optimizer=\"adam\", metrics=[\"accuracy\"])\n",
    "    return model_cooling"
   ]
  },
  {
   "cell_type": "code",
   "execution_count": 131,
   "metadata": {
    "collapsed": true
   },
   "outputs": [],
   "source": [
    "# param_neurona_cooling={\"epochs\":[10,50,100],\n",
    "#               \"batch_size\":[10,20,50,100]}\n",
    "# modelo_cooling=KerasClassifier(build_fn=create_model_cooling, verbose=0)\n",
    "\n",
    "# grid_neurona_cooling=GridSearchCV(modelo_over, param_neurona_cooling, cv=5)\n",
    "# grid_neurona_cooling.fit(Xtrain2_mms, ytrain2)"
   ]
  },
  {
   "cell_type": "code",
   "execution_count": 132,
   "metadata": {
    "collapsed": true
   },
   "outputs": [],
   "source": [
    "# grid_neurona_cooling.best_params_"
   ]
  },
  {
   "cell_type": "markdown",
   "metadata": {},
   "source": [
    "### 6.5.2 Running the best model for cooling load (continuos dependent variable)"
   ]
  },
  {
   "cell_type": "code",
   "execution_count": 133,
   "metadata": {},
   "outputs": [
    {
     "name": "stdout",
     "output_type": "stream",
     "text": [
      "Train on 429 samples, validate on 185 samples\n",
      "Epoch 1/100\n",
      "429/429 [==============================] - 0s 205us/step - loss: 16.1774 - mean_squared_error: 16.1774 - val_loss: 12.1012 - val_mean_squared_error: 12.1012\n",
      "Epoch 2/100\n",
      "429/429 [==============================] - 0s 176us/step - loss: 13.6081 - mean_squared_error: 13.6081 - val_loss: 11.4830 - val_mean_squared_error: 11.4830\n",
      "Epoch 3/100\n",
      "429/429 [==============================] - 0s 161us/step - loss: 13.3146 - mean_squared_error: 13.3146 - val_loss: 11.1838 - val_mean_squared_error: 11.1838\n",
      "Epoch 4/100\n",
      "429/429 [==============================] - 0s 172us/step - loss: 13.1113 - mean_squared_error: 13.1113 - val_loss: 11.0015 - val_mean_squared_error: 11.0015\n",
      "Epoch 5/100\n",
      "429/429 [==============================] - 0s 195us/step - loss: 13.0083 - mean_squared_error: 13.0083 - val_loss: 10.8574 - val_mean_squared_error: 10.8574\n",
      "Epoch 6/100\n",
      "429/429 [==============================] - 0s 165us/step - loss: 12.9220 - mean_squared_error: 12.9220 - val_loss: 10.7556 - val_mean_squared_error: 10.7556\n",
      "Epoch 7/100\n",
      "429/429 [==============================] - 0s 86us/step - loss: 12.8723 - mean_squared_error: 12.8723 - val_loss: 10.6758 - val_mean_squared_error: 10.6758\n",
      "Epoch 8/100\n",
      "429/429 [==============================] - 0s 93us/step - loss: 12.7619 - mean_squared_error: 12.7619 - val_loss: 10.5764 - val_mean_squared_error: 10.5764\n",
      "Epoch 9/100\n",
      "429/429 [==============================] - 0s 175us/step - loss: 12.7081 - mean_squared_error: 12.7081 - val_loss: 10.5009 - val_mean_squared_error: 10.5009\n",
      "Epoch 10/100\n",
      "429/429 [==============================] - 0s 128us/step - loss: 12.6868 - mean_squared_error: 12.6868 - val_loss: 10.4389 - val_mean_squared_error: 10.4389\n",
      "Epoch 11/100\n",
      "429/429 [==============================] - 0s 91us/step - loss: 12.6763 - mean_squared_error: 12.6763 - val_loss: 10.3746 - val_mean_squared_error: 10.3746\n",
      "Epoch 12/100\n",
      "429/429 [==============================] - 0s 97us/step - loss: 12.5663 - mean_squared_error: 12.5663 - val_loss: 10.3399 - val_mean_squared_error: 10.3399\n",
      "Epoch 13/100\n",
      "429/429 [==============================] - 0s 168us/step - loss: 12.5309 - mean_squared_error: 12.5309 - val_loss: 10.2818 - val_mean_squared_error: 10.2818\n",
      "Epoch 14/100\n",
      "429/429 [==============================] - 0s 177us/step - loss: 12.5100 - mean_squared_error: 12.5100 - val_loss: 10.2304 - val_mean_squared_error: 10.2304\n",
      "Epoch 15/100\n",
      "429/429 [==============================] - 0s 163us/step - loss: 12.5054 - mean_squared_error: 12.5054 - val_loss: 10.1876 - val_mean_squared_error: 10.1876\n",
      "Epoch 16/100\n",
      "429/429 [==============================] - 0s 161us/step - loss: 12.4548 - mean_squared_error: 12.4548 - val_loss: 10.1555 - val_mean_squared_error: 10.1555\n",
      "Epoch 17/100\n",
      "429/429 [==============================] - 0s 162us/step - loss: 12.4057 - mean_squared_error: 12.4057 - val_loss: 10.1162 - val_mean_squared_error: 10.1162\n",
      "Epoch 18/100\n",
      "429/429 [==============================] - 0s 163us/step - loss: 12.4166 - mean_squared_error: 12.4166 - val_loss: 10.1093 - val_mean_squared_error: 10.1093\n",
      "Epoch 19/100\n",
      "429/429 [==============================] - 0s 165us/step - loss: 12.3563 - mean_squared_error: 12.3563 - val_loss: 10.0661 - val_mean_squared_error: 10.0661\n",
      "Epoch 20/100\n",
      "429/429 [==============================] - 0s 171us/step - loss: 12.3702 - mean_squared_error: 12.3702 - val_loss: 10.0248 - val_mean_squared_error: 10.0248\n",
      "Epoch 21/100\n",
      "429/429 [==============================] - 0s 183us/step - loss: 12.3238 - mean_squared_error: 12.3238 - val_loss: 9.9991 - val_mean_squared_error: 9.9991\n",
      "Epoch 22/100\n",
      "429/429 [==============================] - 0s 167us/step - loss: 12.2848 - mean_squared_error: 12.2848 - val_loss: 10.0019 - val_mean_squared_error: 10.0019\n",
      "Epoch 23/100\n",
      "429/429 [==============================] - 0s 168us/step - loss: 12.2406 - mean_squared_error: 12.2406 - val_loss: 9.9439 - val_mean_squared_error: 9.9439\n",
      "Epoch 24/100\n",
      "429/429 [==============================] - 0s 163us/step - loss: 12.2624 - mean_squared_error: 12.2624 - val_loss: 9.9188 - val_mean_squared_error: 9.9188\n",
      "Epoch 25/100\n",
      "429/429 [==============================] - 0s 195us/step - loss: 12.2114 - mean_squared_error: 12.2114 - val_loss: 9.8958 - val_mean_squared_error: 9.8958\n",
      "Epoch 26/100\n",
      "429/429 [==============================] - 0s 162us/step - loss: 12.1859 - mean_squared_error: 12.1859 - val_loss: 9.9161 - val_mean_squared_error: 9.9161\n",
      "Epoch 27/100\n",
      "429/429 [==============================] - 0s 161us/step - loss: 12.1578 - mean_squared_error: 12.1578 - val_loss: 9.8629 - val_mean_squared_error: 9.8629\n",
      "Epoch 28/100\n",
      "429/429 [==============================] - 0s 178us/step - loss: 12.1441 - mean_squared_error: 12.1441 - val_loss: 9.8232 - val_mean_squared_error: 9.8232\n",
      "Epoch 29/100\n",
      "429/429 [==============================] - 0s 167us/step - loss: 12.1212 - mean_squared_error: 12.1212 - val_loss: 9.8131 - val_mean_squared_error: 9.8131\n",
      "Epoch 30/100\n",
      "429/429 [==============================] - 0s 160us/step - loss: 12.1110 - mean_squared_error: 12.1110 - val_loss: 9.7943 - val_mean_squared_error: 9.7943\n",
      "Epoch 31/100\n",
      "429/429 [==============================] - 0s 202us/step - loss: 12.0875 - mean_squared_error: 12.0875 - val_loss: 9.7848 - val_mean_squared_error: 9.7848\n",
      "Epoch 32/100\n",
      "429/429 [==============================] - 0s 154us/step - loss: 12.1187 - mean_squared_error: 12.1187 - val_loss: 9.7866 - val_mean_squared_error: 9.7866\n",
      "Epoch 33/100\n",
      "429/429 [==============================] - 0s 137us/step - loss: 12.0373 - mean_squared_error: 12.0373 - val_loss: 9.7390 - val_mean_squared_error: 9.7390\n",
      "Epoch 34/100\n",
      "429/429 [==============================] - 0s 144us/step - loss: 12.0692 - mean_squared_error: 12.0692 - val_loss: 9.7325 - val_mean_squared_error: 9.7325\n",
      "Epoch 35/100\n",
      "429/429 [==============================] - 0s 115us/step - loss: 12.0585 - mean_squared_error: 12.0585 - val_loss: 9.6935 - val_mean_squared_error: 9.6935\n",
      "Epoch 36/100\n",
      "429/429 [==============================] - 0s 182us/step - loss: 12.0367 - mean_squared_error: 12.0367 - val_loss: 9.7070 - val_mean_squared_error: 9.7070\n",
      "Epoch 37/100\n",
      "429/429 [==============================] - 0s 193us/step - loss: 12.0127 - mean_squared_error: 12.0127 - val_loss: 9.6849 - val_mean_squared_error: 9.6849\n",
      "Epoch 38/100\n",
      "429/429 [==============================] - 0s 165us/step - loss: 11.9976 - mean_squared_error: 11.9976 - val_loss: 9.6527 - val_mean_squared_error: 9.6527\n",
      "Epoch 39/100\n",
      "429/429 [==============================] - 0s 197us/step - loss: 11.9755 - mean_squared_error: 11.9755 - val_loss: 9.6744 - val_mean_squared_error: 9.6744\n",
      "Epoch 40/100\n",
      "429/429 [==============================] - 0s 164us/step - loss: 12.0654 - mean_squared_error: 12.0654 - val_loss: 9.6997 - val_mean_squared_error: 9.6997\n",
      "Epoch 41/100\n",
      "429/429 [==============================] - 0s 170us/step - loss: 12.0046 - mean_squared_error: 12.0046 - val_loss: 9.6374 - val_mean_squared_error: 9.6374\n",
      "Epoch 42/100\n",
      "429/429 [==============================] - 0s 177us/step - loss: 11.9362 - mean_squared_error: 11.9362 - val_loss: 9.6243 - val_mean_squared_error: 9.6243\n",
      "Epoch 43/100\n",
      "429/429 [==============================] - 0s 167us/step - loss: 11.9361 - mean_squared_error: 11.9361 - val_loss: 9.6382 - val_mean_squared_error: 9.6382\n",
      "Epoch 44/100\n",
      "429/429 [==============================] - 0s 169us/step - loss: 11.9258 - mean_squared_error: 11.9258 - val_loss: 9.5859 - val_mean_squared_error: 9.5859\n",
      "Epoch 45/100\n",
      "429/429 [==============================] - 0s 176us/step - loss: 11.8969 - mean_squared_error: 11.8969 - val_loss: 9.5760 - val_mean_squared_error: 9.5760\n",
      "Epoch 46/100\n",
      "429/429 [==============================] - 0s 172us/step - loss: 11.8818 - mean_squared_error: 11.8818 - val_loss: 9.5765 - val_mean_squared_error: 9.5765\n",
      "Epoch 47/100\n",
      "429/429 [==============================] - 0s 166us/step - loss: 11.8784 - mean_squared_error: 11.8784 - val_loss: 9.5767 - val_mean_squared_error: 9.5767\n",
      "Epoch 48/100\n",
      "429/429 [==============================] - 0s 175us/step - loss: 11.9108 - mean_squared_error: 11.9108 - val_loss: 9.5508 - val_mean_squared_error: 9.5508\n",
      "Epoch 49/100\n"
     ]
    },
    {
     "name": "stdout",
     "output_type": "stream",
     "text": [
      "429/429 [==============================] - 0s 167us/step - loss: 11.8734 - mean_squared_error: 11.8734 - val_loss: 9.5322 - val_mean_squared_error: 9.5322\n",
      "Epoch 50/100\n",
      "429/429 [==============================] - 0s 182us/step - loss: 11.8653 - mean_squared_error: 11.8653 - val_loss: 9.5158 - val_mean_squared_error: 9.5158\n",
      "Epoch 51/100\n",
      "429/429 [==============================] - 0s 166us/step - loss: 11.8629 - mean_squared_error: 11.8629 - val_loss: 9.5170 - val_mean_squared_error: 9.5170\n",
      "Epoch 52/100\n",
      "429/429 [==============================] - 0s 174us/step - loss: 11.8344 - mean_squared_error: 11.8344 - val_loss: 9.5082 - val_mean_squared_error: 9.5082\n",
      "Epoch 53/100\n",
      "429/429 [==============================] - 0s 170us/step - loss: 11.8271 - mean_squared_error: 11.8271 - val_loss: 9.5200 - val_mean_squared_error: 9.5200\n",
      "Epoch 54/100\n",
      "429/429 [==============================] - 0s 170us/step - loss: 11.8214 - mean_squared_error: 11.8214 - val_loss: 9.4938 - val_mean_squared_error: 9.4938\n",
      "Epoch 55/100\n",
      "429/429 [==============================] - 0s 171us/step - loss: 11.8326 - mean_squared_error: 11.8326 - val_loss: 9.4859 - val_mean_squared_error: 9.4859\n",
      "Epoch 56/100\n",
      "429/429 [==============================] - 0s 160us/step - loss: 11.8137 - mean_squared_error: 11.8137 - val_loss: 9.5229 - val_mean_squared_error: 9.5229\n",
      "Epoch 57/100\n",
      "429/429 [==============================] - 0s 178us/step - loss: 11.7870 - mean_squared_error: 11.7870 - val_loss: 9.4696 - val_mean_squared_error: 9.4696\n",
      "Epoch 58/100\n",
      "429/429 [==============================] - 0s 171us/step - loss: 11.7822 - mean_squared_error: 11.7822 - val_loss: 9.4586 - val_mean_squared_error: 9.4586\n",
      "Epoch 59/100\n",
      "429/429 [==============================] - 0s 167us/step - loss: 11.7725 - mean_squared_error: 11.7725 - val_loss: 9.4596 - val_mean_squared_error: 9.4596\n",
      "Epoch 60/100\n",
      "429/429 [==============================] - 0s 160us/step - loss: 11.8111 - mean_squared_error: 11.8111 - val_loss: 9.4562 - val_mean_squared_error: 9.4562\n",
      "Epoch 61/100\n",
      "429/429 [==============================] - 0s 188us/step - loss: 11.8056 - mean_squared_error: 11.8056 - val_loss: 9.4302 - val_mean_squared_error: 9.4302\n",
      "Epoch 62/100\n",
      "429/429 [==============================] - 0s 170us/step - loss: 11.7514 - mean_squared_error: 11.7514 - val_loss: 9.4374 - val_mean_squared_error: 9.4374\n",
      "Epoch 63/100\n",
      "429/429 [==============================] - 0s 172us/step - loss: 11.7340 - mean_squared_error: 11.7340 - val_loss: 9.4391 - val_mean_squared_error: 9.4391\n",
      "Epoch 64/100\n",
      "429/429 [==============================] - 0s 177us/step - loss: 11.7573 - mean_squared_error: 11.7573 - val_loss: 9.4201 - val_mean_squared_error: 9.4201\n",
      "Epoch 65/100\n",
      "429/429 [==============================] - 0s 175us/step - loss: 11.7379 - mean_squared_error: 11.7379 - val_loss: 9.4183 - val_mean_squared_error: 9.4183\n",
      "Epoch 66/100\n",
      "429/429 [==============================] - 0s 179us/step - loss: 11.7900 - mean_squared_error: 11.7900 - val_loss: 9.4591 - val_mean_squared_error: 9.4591\n",
      "Epoch 67/100\n",
      "429/429 [==============================] - 0s 166us/step - loss: 11.7180 - mean_squared_error: 11.7180 - val_loss: 9.3947 - val_mean_squared_error: 9.3947\n",
      "Epoch 68/100\n",
      "429/429 [==============================] - 0s 180us/step - loss: 11.7274 - mean_squared_error: 11.7274 - val_loss: 9.3993 - val_mean_squared_error: 9.3993\n",
      "Epoch 69/100\n",
      "429/429 [==============================] - 0s 165us/step - loss: 11.7267 - mean_squared_error: 11.7267 - val_loss: 9.4084 - val_mean_squared_error: 9.4084\n",
      "Epoch 70/100\n",
      "429/429 [==============================] - 0s 172us/step - loss: 11.7136 - mean_squared_error: 11.7136 - val_loss: 9.4074 - val_mean_squared_error: 9.4074\n",
      "Epoch 71/100\n",
      "429/429 [==============================] - 0s 167us/step - loss: 11.6929 - mean_squared_error: 11.6929 - val_loss: 9.3686 - val_mean_squared_error: 9.3686\n",
      "Epoch 72/100\n",
      "429/429 [==============================] - 0s 183us/step - loss: 11.7251 - mean_squared_error: 11.7251 - val_loss: 9.4072 - val_mean_squared_error: 9.4072\n",
      "Epoch 73/100\n",
      "429/429 [==============================] - 0s 163us/step - loss: 11.6648 - mean_squared_error: 11.6648 - val_loss: 9.3573 - val_mean_squared_error: 9.3573\n",
      "Epoch 74/100\n",
      "429/429 [==============================] - 0s 173us/step - loss: 11.6945 - mean_squared_error: 11.6945 - val_loss: 9.3446 - val_mean_squared_error: 9.3446\n",
      "Epoch 75/100\n",
      "429/429 [==============================] - 0s 178us/step - loss: 11.6706 - mean_squared_error: 11.6706 - val_loss: 9.3575 - val_mean_squared_error: 9.3575\n",
      "Epoch 76/100\n",
      "429/429 [==============================] - 0s 179us/step - loss: 11.6882 - mean_squared_error: 11.6882 - val_loss: 9.3348 - val_mean_squared_error: 9.3348\n",
      "Epoch 77/100\n",
      "429/429 [==============================] - 0s 99us/step - loss: 11.6821 - mean_squared_error: 11.6821 - val_loss: 9.3638 - val_mean_squared_error: 9.3638\n",
      "Epoch 78/100\n",
      "429/429 [==============================] - ETA: 0s - loss: 13.4847 - mean_squared_error: 13.48 - 0s 124us/step - loss: 11.6735 - mean_squared_error: 11.6735 - val_loss: 9.3311 - val_mean_squared_error: 9.3311\n",
      "Epoch 79/100\n",
      "429/429 [==============================] - 0s 127us/step - loss: 11.6753 - mean_squared_error: 11.6753 - val_loss: 9.3668 - val_mean_squared_error: 9.3668\n",
      "Epoch 80/100\n",
      "429/429 [==============================] - 0s 180us/step - loss: 11.6615 - mean_squared_error: 11.6615 - val_loss: 9.3444 - val_mean_squared_error: 9.3444\n",
      "Epoch 81/100\n",
      "429/429 [==============================] - 0s 98us/step - loss: 11.7000 - mean_squared_error: 11.7000 - val_loss: 9.3090 - val_mean_squared_error: 9.3090\n",
      "Epoch 82/100\n",
      "429/429 [==============================] - 0s 130us/step - loss: 11.6608 - mean_squared_error: 11.6608 - val_loss: 9.3330 - val_mean_squared_error: 9.3330\n",
      "Epoch 83/100\n",
      "429/429 [==============================] - 0s 104us/step - loss: 11.6660 - mean_squared_error: 11.6660 - val_loss: 9.3158 - val_mean_squared_error: 9.3158\n",
      "Epoch 84/100\n",
      "429/429 [==============================] - 0s 112us/step - loss: 11.7504 - mean_squared_error: 11.7504 - val_loss: 9.3274 - val_mean_squared_error: 9.3274\n",
      "Epoch 85/100\n",
      "429/429 [==============================] - 0s 120us/step - loss: 11.6709 - mean_squared_error: 11.6709 - val_loss: 9.3096 - val_mean_squared_error: 9.3096\n",
      "Epoch 86/100\n",
      "429/429 [==============================] - 0s 116us/step - loss: 11.6122 - mean_squared_error: 11.6122 - val_loss: 9.2968 - val_mean_squared_error: 9.2968\n",
      "Epoch 87/100\n",
      "429/429 [==============================] - 0s 137us/step - loss: 11.6309 - mean_squared_error: 11.6309 - val_loss: 9.2957 - val_mean_squared_error: 9.2957\n",
      "Epoch 88/100\n",
      "429/429 [==============================] - 0s 103us/step - loss: 11.6357 - mean_squared_error: 11.6357 - val_loss: 9.2947 - val_mean_squared_error: 9.2947\n",
      "Epoch 89/100\n",
      "429/429 [==============================] - 0s 141us/step - loss: 11.6058 - mean_squared_error: 11.6058 - val_loss: 9.2901 - val_mean_squared_error: 9.2901\n",
      "Epoch 90/100\n",
      "429/429 [==============================] - 0s 110us/step - loss: 11.6150 - mean_squared_error: 11.6150 - val_loss: 9.2711 - val_mean_squared_error: 9.2711\n",
      "Epoch 91/100\n",
      "429/429 [==============================] - 0s 134us/step - loss: 11.6533 - mean_squared_error: 11.6533 - val_loss: 9.3041 - val_mean_squared_error: 9.3041\n",
      "Epoch 92/100\n",
      "429/429 [==============================] - 0s 172us/step - loss: 11.5960 - mean_squared_error: 11.5960 - val_loss: 9.2678 - val_mean_squared_error: 9.2678\n",
      "Epoch 93/100\n",
      "429/429 [==============================] - 0s 185us/step - loss: 11.5891 - mean_squared_error: 11.5891 - val_loss: 9.2673 - val_mean_squared_error: 9.2673\n",
      "Epoch 94/100\n",
      "429/429 [==============================] - 0s 167us/step - loss: 11.6032 - mean_squared_error: 11.6032 - val_loss: 9.2636 - val_mean_squared_error: 9.2636\n",
      "Epoch 95/100\n",
      "429/429 [==============================] - 0s 172us/step - loss: 11.5831 - mean_squared_error: 11.5831 - val_loss: 9.2639 - val_mean_squared_error: 9.2639\n",
      "Epoch 96/100\n",
      "429/429 [==============================] - 0s 161us/step - loss: 11.5801 - mean_squared_error: 11.5801 - val_loss: 9.2941 - val_mean_squared_error: 9.2941\n",
      "Epoch 97/100\n"
     ]
    },
    {
     "name": "stdout",
     "output_type": "stream",
     "text": [
      "429/429 [==============================] - 0s 137us/step - loss: 11.5660 - mean_squared_error: 11.5660 - val_loss: 9.2620 - val_mean_squared_error: 9.2620\n",
      "Epoch 98/100\n",
      "429/429 [==============================] - 0s 174us/step - loss: 11.6161 - mean_squared_error: 11.6161 - val_loss: 9.2683 - val_mean_squared_error: 9.2683\n",
      "Epoch 99/100\n",
      "429/429 [==============================] - 0s 99us/step - loss: 11.5720 - mean_squared_error: 11.5720 - val_loss: 9.3113 - val_mean_squared_error: 9.3113\n",
      "Epoch 100/100\n",
      "429/429 [==============================] - 0s 117us/step - loss: 11.5738 - mean_squared_error: 11.5738 - val_loss: 9.2528 - val_mean_squared_error: 9.2528\n"
     ]
    },
    {
     "data": {
      "text/plain": [
       "<keras.callbacks.History at 0x11401d320>"
      ]
     },
     "execution_count": 133,
     "metadata": {},
     "output_type": "execute_result"
    }
   ],
   "source": [
    "modelc.fit(Xtrain2_mms, ytrain2, epochs = 100, batch_size = 20, validation_split=0.3)"
   ]
  },
  {
   "cell_type": "markdown",
   "metadata": {},
   "source": [
    "### 6.5.3 Evaluate model for Cooling load (continuos dependent variable)"
   ]
  },
  {
   "cell_type": "code",
   "execution_count": 134,
   "metadata": {},
   "outputs": [
    {
     "name": "stdout",
     "output_type": "stream",
     "text": [
      "Train R2: 0.88\n",
      "Test R2: 0.87\n"
     ]
    }
   ],
   "source": [
    "from sklearn.metrics import r2_score\n",
    "\n",
    "ytrainpredict_neurona_cooling = modelc.predict(Xtrain2_mms)\n",
    "ytestpredict_neurona_cooling= modelc.predict(Xtest2_mms)\n",
    "\n",
    "print('Train R2: {:.2f}'.format(r2_score(ytrain2, ytrainpredict_neurona_cooling)))\n",
    "print('Test R2: {:.2f}'.format(r2_score(ytest2, ytestpredict_neurona_cooling)))"
   ]
  },
  {
   "cell_type": "markdown",
   "metadata": {},
   "source": [
    "## 7. Modelling with Deep Learning (dependent variable categorical)\n",
    "\n",
    "<a id=\"ModDeep2\"></a>"
   ]
  },
  {
   "cell_type": "markdown",
   "metadata": {
    "collapsed": true
   },
   "source": [
    "Divide cooling and heating load n three classes. Then, we can apply softmax as activatio function"
   ]
  },
  {
   "cell_type": "markdown",
   "metadata": {},
   "source": [
    "## 7.1 Define model \n",
    "\n",
    "<a id=\"Deep21\"></a>"
   ]
  },
  {
   "cell_type": "code",
   "execution_count": 135,
   "metadata": {
    "collapsed": true
   },
   "outputs": [],
   "source": [
    "neurona_cat=Sequential()\n",
    "neurona_cat.add(Dense(8, input_dim=8, activation=\"relu\"))\n",
    "neurona_cat.add(Dense(4, activation=\"relu\"))\n",
    "neurona_cat.add(Dense(3, activation=\"softmax\"))"
   ]
  },
  {
   "cell_type": "markdown",
   "metadata": {
    "collapsed": true
   },
   "source": [
    "## 7.2 Compile model\n",
    "<a id=\"Deep22\"></a>"
   ]
  },
  {
   "cell_type": "code",
   "execution_count": 136,
   "metadata": {
    "collapsed": true
   },
   "outputs": [],
   "source": [
    "neurona_cat.compile(optimizer=\"adam\", loss=\"categorical_crossentropy\", metrics=[\"accuracy\"])"
   ]
  },
  {
   "cell_type": "markdown",
   "metadata": {},
   "source": [
    "## 7.3 Fitting and evaluating the model for overall load \n",
    "<a id=\"Deep23\"></a>"
   ]
  },
  {
   "cell_type": "markdown",
   "metadata": {},
   "source": [
    "### 7.3.1  Grid search to find best epoc and batch size for overall load"
   ]
  },
  {
   "cell_type": "code",
   "execution_count": 137,
   "metadata": {
    "collapsed": true
   },
   "outputs": [],
   "source": [
    "ytraino_cat_vector=to_categorical(ytraino_cat)"
   ]
  },
  {
   "cell_type": "code",
   "execution_count": 138,
   "metadata": {
    "collapsed": true
   },
   "outputs": [],
   "source": [
    "def create_model_over():    \n",
    "    #Defining the model\n",
    "    model_over=Sequential()\n",
    "    model_over.add(Dense(8, input_dim=8, activation=\"relu\"))\n",
    "    model_over.add(Dense(4, activation=\"relu\"))\n",
    "    model_over.add(Dense(3, activation=\"softmax\"))\n",
    "    \n",
    "    #Compiling the model\n",
    "    model_over.compile(loss=\"categorical_crossentropy\", optimizer=\"adam\", metrics=[\"accuracy\"])\n",
    "    return model_over"
   ]
  },
  {
   "cell_type": "code",
   "execution_count": 139,
   "metadata": {
    "collapsed": true
   },
   "outputs": [],
   "source": [
    "# param_neurona_overcat={\"epochs\":[10,50,100],\n",
    "#               \"batch_size\":[10,20,50,100]}\n",
    "# modelo_overcat=KerasClassifier(build_fn=create_model_over, verbose=0)\n",
    "\n",
    "# grid_neurona_overcat=GridSearchCV(modelo_overcat, param_neurona_overcat, cv=5)\n",
    "# grid_neurona_overcat.fit(Xtraino_cat_mms, ytraino_cat_vector)"
   ]
  },
  {
   "cell_type": "code",
   "execution_count": 140,
   "metadata": {
    "collapsed": true
   },
   "outputs": [],
   "source": [
    "# grid_neurona_overcat.best_params_"
   ]
  },
  {
   "cell_type": "markdown",
   "metadata": {},
   "source": [
    "### 7.3.2 Running the best model for overall"
   ]
  },
  {
   "cell_type": "code",
   "execution_count": 141,
   "metadata": {},
   "outputs": [
    {
     "name": "stdout",
     "output_type": "stream",
     "text": [
      "Epoch 1/100\n",
      "576/576 [==============================] - 0s 546us/step - loss: 0.8787 - acc: 0.5764\n",
      "Epoch 2/100\n",
      "576/576 [==============================] - 0s 329us/step - loss: 0.7709 - acc: 0.8003\n",
      "Epoch 3/100\n",
      "576/576 [==============================] - 0s 321us/step - loss: 0.6833 - acc: 0.8924\n",
      "Epoch 4/100\n",
      "576/576 [==============================] - 0s 314us/step - loss: 0.5795 - acc: 0.9236\n",
      "Epoch 5/100\n",
      "576/576 [==============================] - 0s 323us/step - loss: 0.4697 - acc: 0.9306\n",
      "Epoch 6/100\n",
      "576/576 [==============================] - 0s 299us/step - loss: 0.3834 - acc: 0.9306\n",
      "Epoch 7/100\n",
      "576/576 [==============================] - 0s 326us/step - loss: 0.3260 - acc: 0.9306\n",
      "Epoch 8/100\n",
      "576/576 [==============================] - 0s 252us/step - loss: 0.2903 - acc: 0.9306\n",
      "Epoch 9/100\n",
      "576/576 [==============================] - 0s 229us/step - loss: 0.2671 - acc: 0.9306\n",
      "Epoch 10/100\n",
      "576/576 [==============================] - 0s 267us/step - loss: 0.2506 - acc: 0.9306\n",
      "Epoch 11/100\n",
      "576/576 [==============================] - 0s 335us/step - loss: 0.2375 - acc: 0.9306\n",
      "Epoch 12/100\n",
      "576/576 [==============================] - 0s 317us/step - loss: 0.2259 - acc: 0.9306\n",
      "Epoch 13/100\n",
      "576/576 [==============================] - 0s 274us/step - loss: 0.2160 - acc: 0.9306\n",
      "Epoch 14/100\n",
      "576/576 [==============================] - 0s 373us/step - loss: 0.2067 - acc: 0.9306\n",
      "Epoch 15/100\n",
      "576/576 [==============================] - 0s 244us/step - loss: 0.1982 - acc: 0.9306\n",
      "Epoch 16/100\n",
      "576/576 [==============================] - 0s 278us/step - loss: 0.1901 - acc: 0.9306\n",
      "Epoch 17/100\n",
      "576/576 [==============================] - 0s 223us/step - loss: 0.1830 - acc: 0.9306\n",
      "Epoch 18/100\n",
      "576/576 [==============================] - 0s 290us/step - loss: 0.1761 - acc: 0.9306\n",
      "Epoch 19/100\n",
      "576/576 [==============================] - 0s 205us/step - loss: 0.1702 - acc: 0.9306\n",
      "Epoch 20/100\n",
      "576/576 [==============================] - 0s 276us/step - loss: 0.1639 - acc: 0.9306\n",
      "Epoch 21/100\n",
      "576/576 [==============================] - 0s 190us/step - loss: 0.1587 - acc: 0.9306\n",
      "Epoch 22/100\n",
      "576/576 [==============================] - 0s 282us/step - loss: 0.1533 - acc: 0.9323\n",
      "Epoch 23/100\n",
      "576/576 [==============================] - 0s 177us/step - loss: 0.1487 - acc: 0.9323\n",
      "Epoch 24/100\n",
      "576/576 [==============================] - 0s 163us/step - loss: 0.1445 - acc: 0.9358\n",
      "Epoch 25/100\n",
      "576/576 [==============================] - 0s 220us/step - loss: 0.1407 - acc: 0.9375\n",
      "Epoch 26/100\n",
      "576/576 [==============================] - 0s 204us/step - loss: 0.1367 - acc: 0.9358\n",
      "Epoch 27/100\n",
      "576/576 [==============================] - 0s 210us/step - loss: 0.1327 - acc: 0.9462\n",
      "Epoch 28/100\n",
      "576/576 [==============================] - 0s 206us/step - loss: 0.1291 - acc: 0.9479\n",
      "Epoch 29/100\n",
      "576/576 [==============================] - 0s 325us/step - loss: 0.1261 - acc: 0.9497\n",
      "Epoch 30/100\n",
      "576/576 [==============================] - 0s 303us/step - loss: 0.1235 - acc: 0.9497\n",
      "Epoch 31/100\n",
      "576/576 [==============================] - 0s 336us/step - loss: 0.1209 - acc: 0.9514\n",
      "Epoch 32/100\n",
      "576/576 [==============================] - 0s 310us/step - loss: 0.1181 - acc: 0.9514\n",
      "Epoch 33/100\n",
      "576/576 [==============================] - 0s 322us/step - loss: 0.1158 - acc: 0.9566\n",
      "Epoch 34/100\n",
      "576/576 [==============================] - 0s 298us/step - loss: 0.1138 - acc: 0.9566\n",
      "Epoch 35/100\n",
      "576/576 [==============================] - 0s 321us/step - loss: 0.1127 - acc: 0.9566\n",
      "Epoch 36/100\n",
      "576/576 [==============================] - 0s 326us/step - loss: 0.1104 - acc: 0.9583\n",
      "Epoch 37/100\n",
      "576/576 [==============================] - 0s 302us/step - loss: 0.1084 - acc: 0.9601\n",
      "Epoch 38/100\n",
      "576/576 [==============================] - 0s 327us/step - loss: 0.1067 - acc: 0.9618\n",
      "Epoch 39/100\n",
      "576/576 [==============================] - 0s 223us/step - loss: 0.1050 - acc: 0.9618\n",
      "Epoch 40/100\n",
      "576/576 [==============================] - 0s 208us/step - loss: 0.1032 - acc: 0.9670\n",
      "Epoch 41/100\n",
      "576/576 [==============================] - 0s 203us/step - loss: 0.1018 - acc: 0.9653\n",
      "Epoch 42/100\n",
      "576/576 [==============================] - 0s 215us/step - loss: 0.1010 - acc: 0.9687\n",
      "Epoch 43/100\n",
      "576/576 [==============================] - 0s 210us/step - loss: 0.0990 - acc: 0.9687\n",
      "Epoch 44/100\n",
      "576/576 [==============================] - 0s 219us/step - loss: 0.0982 - acc: 0.9705\n",
      "Epoch 45/100\n",
      "576/576 [==============================] - 0s 160us/step - loss: 0.0961 - acc: 0.9687\n",
      "Epoch 46/100\n",
      "576/576 [==============================] - 0s 209us/step - loss: 0.0953 - acc: 0.9740\n",
      "Epoch 47/100\n",
      "576/576 [==============================] - 0s 194us/step - loss: 0.0938 - acc: 0.9740\n",
      "Epoch 48/100\n",
      "576/576 [==============================] - 0s 209us/step - loss: 0.0926 - acc: 0.9722\n",
      "Epoch 49/100\n",
      "576/576 [==============================] - 0s 204us/step - loss: 0.0921 - acc: 0.9740\n",
      "Epoch 50/100\n",
      "576/576 [==============================] - 0s 199us/step - loss: 0.0908 - acc: 0.9826\n",
      "Epoch 51/100\n",
      "576/576 [==============================] - 0s 202us/step - loss: 0.0899 - acc: 0.9740\n",
      "Epoch 52/100\n",
      "576/576 [==============================] - 0s 210us/step - loss: 0.0888 - acc: 0.9809\n",
      "Epoch 53/100\n",
      "576/576 [==============================] - 0s 316us/step - loss: 0.0885 - acc: 0.9740\n",
      "Epoch 54/100\n",
      "576/576 [==============================] - 0s 337us/step - loss: 0.0875 - acc: 0.9878\n",
      "Epoch 55/100\n",
      "576/576 [==============================] - 0s 325us/step - loss: 0.0859 - acc: 0.9792\n",
      "Epoch 56/100\n",
      "576/576 [==============================] - 0s 246us/step - loss: 0.0852 - acc: 0.9809\n",
      "Epoch 57/100\n",
      "576/576 [==============================] - 0s 208us/step - loss: 0.0844 - acc: 0.9844\n",
      "Epoch 58/100\n",
      "576/576 [==============================] - 0s 199us/step - loss: 0.0840 - acc: 0.9844\n",
      "Epoch 59/100\n",
      "576/576 [==============================] - 0s 213us/step - loss: 0.0831 - acc: 0.9809\n",
      "Epoch 60/100\n",
      "576/576 [==============================] - 0s 221us/step - loss: 0.0821 - acc: 0.9878\n",
      "Epoch 61/100\n",
      "576/576 [==============================] - 0s 326us/step - loss: 0.0821 - acc: 0.9844\n",
      "Epoch 62/100\n",
      "576/576 [==============================] - 0s 313us/step - loss: 0.0810 - acc: 0.9809\n",
      "Epoch 63/100\n",
      "576/576 [==============================] - 0s 323us/step - loss: 0.0799 - acc: 0.9844\n",
      "Epoch 64/100\n",
      "576/576 [==============================] - 0s 316us/step - loss: 0.0794 - acc: 0.9861\n",
      "Epoch 65/100\n",
      "576/576 [==============================] - 0s 331us/step - loss: 0.0787 - acc: 0.9861\n",
      "Epoch 66/100\n",
      "576/576 [==============================] - 0s 315us/step - loss: 0.0778 - acc: 0.9878\n",
      "Epoch 67/100\n",
      "576/576 [==============================] - 0s 314us/step - loss: 0.0773 - acc: 0.9861\n",
      "Epoch 68/100\n",
      "576/576 [==============================] - 0s 338us/step - loss: 0.0775 - acc: 0.9878\n",
      "Epoch 69/100\n",
      "576/576 [==============================] - 0s 321us/step - loss: 0.0764 - acc: 0.9878\n",
      "Epoch 70/100\n",
      "576/576 [==============================] - 0s 298us/step - loss: 0.0757 - acc: 0.9878\n",
      "Epoch 71/100\n",
      "576/576 [==============================] - 0s 309us/step - loss: 0.0749 - acc: 0.9878\n",
      "Epoch 72/100\n",
      "576/576 [==============================] - 0s 315us/step - loss: 0.0747 - acc: 0.9861\n",
      "Epoch 73/100\n",
      "576/576 [==============================] - 0s 316us/step - loss: 0.0751 - acc: 0.9861\n",
      "Epoch 74/100\n",
      "576/576 [==============================] - 0s 323us/step - loss: 0.0740 - acc: 0.9878\n",
      "Epoch 75/100\n",
      "576/576 [==============================] - 0s 332us/step - loss: 0.0733 - acc: 0.9861\n",
      "Epoch 76/100\n",
      "576/576 [==============================] - 0s 323us/step - loss: 0.0726 - acc: 0.9861\n",
      "Epoch 77/100\n",
      "576/576 [==============================] - 0s 326us/step - loss: 0.0724 - acc: 0.9878\n",
      "Epoch 78/100\n",
      "576/576 [==============================] - 0s 234us/step - loss: 0.0717 - acc: 0.9861\n",
      "Epoch 79/100\n",
      "576/576 [==============================] - 0s 213us/step - loss: 0.0713 - acc: 0.9861\n",
      "Epoch 80/100\n",
      "576/576 [==============================] - 0s 197us/step - loss: 0.0713 - acc: 0.9878\n",
      "Epoch 81/100\n",
      "576/576 [==============================] - 0s 242us/step - loss: 0.0706 - acc: 0.9861\n",
      "Epoch 82/100\n",
      "576/576 [==============================] - 0s 328us/step - loss: 0.0700 - acc: 0.9878\n",
      "Epoch 83/100\n"
     ]
    },
    {
     "name": "stdout",
     "output_type": "stream",
     "text": [
      "576/576 [==============================] - 0s 268us/step - loss: 0.0696 - acc: 0.9861\n",
      "Epoch 84/100\n",
      "576/576 [==============================] - 0s 156us/step - loss: 0.0690 - acc: 0.9878\n",
      "Epoch 85/100\n",
      "576/576 [==============================] - 0s 213us/step - loss: 0.0694 - acc: 0.9844\n",
      "Epoch 86/100\n",
      "576/576 [==============================] - 0s 211us/step - loss: 0.0699 - acc: 0.9844\n",
      "Epoch 87/100\n",
      "576/576 [==============================] - 0s 214us/step - loss: 0.0679 - acc: 0.9844\n",
      "Epoch 88/100\n",
      "576/576 [==============================] - 0s 250us/step - loss: 0.0679 - acc: 0.9861\n",
      "Epoch 89/100\n",
      "576/576 [==============================] - 0s 181us/step - loss: 0.0676 - acc: 0.9861\n",
      "Epoch 90/100\n",
      "576/576 [==============================] - 0s 228us/step - loss: 0.0679 - acc: 0.9844\n",
      "Epoch 91/100\n",
      "576/576 [==============================] - 0s 336us/step - loss: 0.0667 - acc: 0.9861\n",
      "Epoch 92/100\n",
      "576/576 [==============================] - 0s 173us/step - loss: 0.0668 - acc: 0.9861\n",
      "Epoch 93/100\n",
      "576/576 [==============================] - 0s 229us/step - loss: 0.0664 - acc: 0.9844\n",
      "Epoch 94/100\n",
      "576/576 [==============================] - 0s 207us/step - loss: 0.0665 - acc: 0.9861\n",
      "Epoch 95/100\n",
      "576/576 [==============================] - 0s 216us/step - loss: 0.0656 - acc: 0.9844\n",
      "Epoch 96/100\n",
      "576/576 [==============================] - 0s 273us/step - loss: 0.0655 - acc: 0.9844\n",
      "Epoch 97/100\n",
      "576/576 [==============================] - 0s 234us/step - loss: 0.0649 - acc: 0.9844\n",
      "Epoch 98/100\n",
      "576/576 [==============================] - 0s 235us/step - loss: 0.0643 - acc: 0.9844\n",
      "Epoch 99/100\n",
      "576/576 [==============================] - 0s 322us/step - loss: 0.0644 - acc: 0.9861\n",
      "Epoch 100/100\n",
      "576/576 [==============================] - 0s 323us/step - loss: 0.0642 - acc: 0.9861\n"
     ]
    },
    {
     "data": {
      "text/plain": [
       "<keras.callbacks.History at 0x114067cf8>"
      ]
     },
     "execution_count": 141,
     "metadata": {},
     "output_type": "execute_result"
    }
   ],
   "source": [
    "neurona_cat.fit(Xtraino_cat_mms, ytraino_cat_vector,  epochs=100, batch_size=10)"
   ]
  },
  {
   "cell_type": "markdown",
   "metadata": {},
   "source": [
    "### 7.3.3 Evaluating the model for overall load"
   ]
  },
  {
   "cell_type": "code",
   "execution_count": 142,
   "metadata": {},
   "outputs": [
    {
     "data": {
      "text/plain": [
       "array([[7.69940962e-05, 9.99818742e-01, 1.04322433e-04],\n",
       "       [1.12967612e-02, 6.55766308e-01, 3.32936913e-01],\n",
       "       [1.13299151e-03, 9.98224199e-01, 6.42840809e-04],\n",
       "       [6.29496597e-08, 9.99998331e-01, 1.55246380e-06],\n",
       "       [2.99888309e-10, 8.77700746e-04, 9.99122322e-01],\n",
       "       [7.47678936e-01, 1.98062196e-01, 5.42589016e-02],\n",
       "       [1.09837475e-12, 1.00000000e+00, 1.17992718e-08],\n",
       "       [7.21792848e-10, 9.46441083e-04, 9.99053538e-01],\n",
       "       [5.27590811e-01, 4.29933071e-01, 4.24760729e-02],\n",
       "       [4.22598241e-04, 9.99253690e-01, 3.23673565e-04],\n",
       "       [1.26876385e-08, 9.99998569e-01, 1.44083833e-06],\n",
       "       [1.81010500e-01, 7.99500585e-01, 1.94889717e-02],\n",
       "       [4.52925906e-06, 9.97012667e-03, 9.90025401e-01],\n",
       "       [3.62439467e-10, 3.24846857e-04, 9.99675155e-01],\n",
       "       [3.82218923e-06, 9.98960435e-03, 9.90006566e-01],\n",
       "       [3.73839661e-08, 1.64644467e-03, 9.98353601e-01],\n",
       "       [3.92730204e-09, 9.99999166e-01, 8.62468255e-07],\n",
       "       [9.47468948e-07, 9.99992251e-01, 6.83035023e-06],\n",
       "       [2.14889496e-06, 6.35349145e-03, 9.93644357e-01],\n",
       "       [1.65072875e-03, 7.43601263e-01, 2.54748046e-01],\n",
       "       [1.33214821e-03, 9.97999489e-01, 6.68370223e-04],\n",
       "       [3.34495562e-03, 9.95246112e-01, 1.40885520e-03],\n",
       "       [9.75893921e-10, 4.59529256e-04, 9.99540448e-01],\n",
       "       [6.14262348e-08, 1.95884495e-03, 9.98041093e-01],\n",
       "       [1.15139619e-03, 1.37234554e-01, 8.61614048e-01],\n",
       "       [1.73725723e-09, 1.02056155e-03, 9.98979390e-01],\n",
       "       [1.61929720e-03, 9.97674882e-01, 7.05909333e-04],\n",
       "       [1.69851782e-03, 9.97839451e-01, 4.62020165e-04],\n",
       "       [5.22331521e-02, 8.30907524e-01, 1.16859384e-01],\n",
       "       [5.00097656e-07, 3.07088951e-03, 9.96928632e-01],\n",
       "       [7.95664668e-01, 1.47569925e-01, 5.67653924e-02],\n",
       "       [3.54480126e-11, 1.00000000e+00, 5.74547627e-08],\n",
       "       [2.30767328e-04, 9.99606311e-01, 1.62838362e-04],\n",
       "       [3.84500197e-07, 9.99994993e-01, 4.65740050e-06],\n",
       "       [6.85455959e-09, 6.75488729e-04, 9.99324560e-01],\n",
       "       [8.90931339e-12, 1.00000000e+00, 5.36801288e-08],\n",
       "       [6.53938986e-11, 9.99999881e-01, 1.21198781e-07],\n",
       "       [1.85174365e-08, 1.28759979e-03, 9.98712420e-01],\n",
       "       [8.42842324e-11, 3.76879761e-04, 9.99623060e-01],\n",
       "       [1.69968791e-06, 9.99987364e-01, 1.09724879e-05],\n",
       "       [1.49409018e-07, 2.46837107e-03, 9.97531414e-01],\n",
       "       [5.89507572e-08, 9.99997258e-01, 2.74201670e-06],\n",
       "       [8.42884784e-09, 9.99998569e-01, 1.45800050e-06],\n",
       "       [1.29603524e-11, 9.99999881e-01, 5.99304357e-08],\n",
       "       [7.74101228e-10, 1.10335699e-04, 9.99889612e-01],\n",
       "       [3.32515512e-04, 9.99487400e-01, 1.80041752e-04],\n",
       "       [2.38561057e-07, 9.99993801e-01, 6.01501824e-06],\n",
       "       [2.15501395e-08, 9.99998093e-01, 1.87588512e-06],\n",
       "       [1.32772280e-02, 6.29464030e-01, 3.57258767e-01],\n",
       "       [3.72569866e-06, 9.99980330e-01, 1.59144620e-05],\n",
       "       [8.67286104e-12, 2.02645152e-03, 9.97973502e-01],\n",
       "       [3.38189299e-09, 7.10069144e-04, 9.99289870e-01],\n",
       "       [2.98627099e-04, 9.99457419e-01, 2.44065872e-04],\n",
       "       [1.56433699e-10, 7.36545364e-04, 9.99263465e-01],\n",
       "       [5.97034633e-01, 3.57621551e-01, 4.53436971e-02],\n",
       "       [9.71467089e-05, 4.22527939e-02, 9.57650006e-01],\n",
       "       [1.13614377e-07, 2.42893607e-03, 9.97570932e-01],\n",
       "       [7.40670546e-12, 1.00000000e+00, 2.55881538e-08],\n",
       "       [5.02373976e-10, 3.64193344e-04, 9.99635816e-01],\n",
       "       [1.49431423e-06, 5.43680461e-03, 9.94561732e-01],\n",
       "       [8.79864022e-02, 9.04407859e-01, 7.60568306e-03],\n",
       "       [3.56067181e-01, 6.15668356e-01, 2.82645244e-02],\n",
       "       [2.15765042e-03, 3.14988673e-01, 6.82853699e-01],\n",
       "       [1.94603467e-09, 5.85151953e-04, 9.99414802e-01],\n",
       "       [2.32535943e-01, 7.48448789e-01, 1.90152600e-02],\n",
       "       [3.73015219e-09, 5.21001464e-04, 9.99478996e-01],\n",
       "       [3.39613222e-02, 9.58286285e-01, 7.75243109e-03],\n",
       "       [8.50127579e-10, 4.37856215e-04, 9.99562085e-01],\n",
       "       [1.81526509e-08, 1.27866538e-03, 9.98721302e-01],\n",
       "       [1.45275441e-11, 1.06703688e-03, 9.98932898e-01],\n",
       "       [3.44779352e-07, 9.99993682e-01, 5.99616305e-06],\n",
       "       [2.65363242e-09, 7.52152700e-04, 9.99247849e-01],\n",
       "       [1.84341680e-08, 1.28557102e-03, 9.98714447e-01],\n",
       "       [8.20816727e-04, 9.98662472e-01, 5.16706263e-04],\n",
       "       [3.51920115e-09, 7.20032025e-04, 9.99280035e-01],\n",
       "       [3.69589985e-03, 9.95271385e-01, 1.03263312e-03],\n",
       "       [4.21017995e-12, 1.00000000e+00, 4.30672671e-08],\n",
       "       [1.35825033e-07, 9.99997020e-01, 2.87767762e-06],\n",
       "       [1.25692328e-08, 9.99998927e-01, 1.08422614e-06],\n",
       "       [1.10937021e-04, 9.99788702e-01, 1.00379155e-04],\n",
       "       [1.56344659e-10, 2.41992326e-04, 9.99758065e-01],\n",
       "       [2.95512974e-01, 6.80705369e-01, 2.37816609e-02],\n",
       "       [2.68150288e-05, 9.99945045e-01, 2.81775883e-05],\n",
       "       [5.93624543e-04, 9.98989642e-01, 4.16659081e-04],\n",
       "       [9.29988921e-02, 8.97372365e-01, 9.62868985e-03],\n",
       "       [4.06147223e-08, 1.69489440e-03, 9.98305082e-01],\n",
       "       [6.25084722e-05, 9.99891043e-01, 4.65086487e-05],\n",
       "       [2.27103947e-10, 4.01525642e-04, 9.99598444e-01],\n",
       "       [3.74675803e-02, 9.56858933e-01, 5.67360409e-03],\n",
       "       [1.61351607e-04, 9.99690413e-01, 1.48289662e-04],\n",
       "       [5.61529712e-10, 9.99999523e-01, 4.58596475e-07],\n",
       "       [2.22631442e-08, 4.25751234e-04, 9.99574244e-01],\n",
       "       [1.96709607e-05, 9.99954820e-01, 2.55058585e-05],\n",
       "       [8.45251813e-10, 9.99999523e-01, 4.53198311e-07],\n",
       "       [3.73755065e-05, 1.50490059e-02, 9.84913647e-01],\n",
       "       [1.49782553e-01, 8.37641358e-01, 1.25760622e-02],\n",
       "       [2.99385865e-04, 5.15065640e-02, 9.48194027e-01],\n",
       "       [1.09295904e-07, 2.39623943e-03, 9.97603714e-01],\n",
       "       [1.95397646e-04, 9.99587238e-01, 2.17324661e-04],\n",
       "       [8.39956829e-06, 9.40845255e-03, 9.90583181e-01],\n",
       "       [3.63200530e-02, 8.66197050e-01, 9.74829346e-02],\n",
       "       [4.36144024e-02, 8.49509656e-01, 1.06875911e-01],\n",
       "       [2.90599985e-07, 3.37294070e-03, 9.96626854e-01],\n",
       "       [7.95664668e-01, 1.47569925e-01, 5.67653924e-02],\n",
       "       [4.49106738e-05, 9.99894738e-01, 6.03009867e-05],\n",
       "       [1.78867110e-09, 9.99999404e-01, 5.64879940e-07],\n",
       "       [5.97665135e-08, 1.92848488e-03, 9.98071492e-01],\n",
       "       [1.52679238e-08, 1.20351696e-03, 9.98796463e-01],\n",
       "       [6.17940005e-11, 1.74829824e-04, 9.99825180e-01],\n",
       "       [1.88779950e-10, 2.58507964e-04, 9.99741495e-01],\n",
       "       [4.55124205e-09, 4.68071026e-04, 9.99531984e-01],\n",
       "       [1.39900482e-08, 1.16725662e-03, 9.98832762e-01],\n",
       "       [1.78720526e-04, 9.99743521e-01, 7.76683082e-05],\n",
       "       [1.22613733e-08, 9.99998331e-01, 1.62776109e-06],\n",
       "       [5.77034552e-05, 9.99876380e-01, 6.59151920e-05],\n",
       "       [3.42189144e-09, 7.12998270e-04, 9.99287069e-01],\n",
       "       [1.36462674e-07, 1.37797650e-03, 9.98621941e-01],\n",
       "       [4.90357941e-08, 1.81038841e-03, 9.98189509e-01],\n",
       "       [1.20369773e-11, 1.00000000e+00, 3.20285061e-08],\n",
       "       [7.90384591e-01, 1.53109238e-01, 5.65061159e-02],\n",
       "       [4.66203680e-08, 1.77867489e-03, 9.98221219e-01],\n",
       "       [4.29119069e-08, 1.72783516e-03, 9.98272061e-01],\n",
       "       [1.06088805e-06, 5.24015585e-03, 9.94758785e-01],\n",
       "       [6.71270239e-09, 8.96832498e-04, 9.99103189e-01],\n",
       "       [5.89561377e-09, 9.99999404e-01, 6.15891906e-07],\n",
       "       [8.68042882e-09, 9.87675157e-04, 9.99012351e-01],\n",
       "       [4.80861253e-08, 1.79593533e-03, 9.98203993e-01],\n",
       "       [7.95664668e-01, 1.47569925e-01, 5.67653924e-02],\n",
       "       [6.06663743e-05, 1.20466828e-01, 8.79472435e-01],\n",
       "       [3.48169066e-04, 4.97895628e-02, 9.49862301e-01],\n",
       "       [1.18136893e-04, 9.99798238e-01, 8.36789841e-05],\n",
       "       [3.32021870e-07, 3.32715269e-03, 9.96672511e-01],\n",
       "       [1.49925927e-05, 1.17902383e-02, 9.88194823e-01],\n",
       "       [2.78577499e-08, 9.99997854e-01, 2.19990147e-06],\n",
       "       [2.20851452e-05, 4.97202612e-02, 9.50257719e-01],\n",
       "       [7.95664668e-01, 1.47569925e-01, 5.67653924e-02],\n",
       "       [4.06384126e-09, 9.99999285e-01, 7.63427920e-07],\n",
       "       [6.81437692e-03, 9.91491258e-01, 1.69430941e-03],\n",
       "       [1.36194389e-10, 2.30576828e-04, 9.99769390e-01],\n",
       "       [2.23391505e-09, 6.14111254e-04, 9.99385834e-01],\n",
       "       [1.95088216e-11, 1.00000000e+00, 5.92251190e-08],\n",
       "       [2.99228658e-03, 9.16626990e-01, 8.03808048e-02],\n",
       "       [1.20707919e-05, 1.09873544e-02, 9.89000559e-01],\n",
       "       [5.93560742e-07, 4.17595496e-03, 9.95823503e-01],\n",
       "       [1.74021206e-08, 1.24025892e-03, 9.98759747e-01],\n",
       "       [9.72369817e-05, 9.99813139e-01, 8.96780548e-05],\n",
       "       [6.87040142e-07, 4.54653148e-03, 9.95452762e-01],\n",
       "       [6.66150227e-05, 1.88311618e-02, 9.81102169e-01],\n",
       "       [6.37808681e-01, 3.14509928e-01, 4.76813652e-02],\n",
       "       [1.03458238e-03, 1.50985643e-01, 8.47979784e-01],\n",
       "       [2.45208474e-04, 9.99565542e-01, 1.89253959e-04],\n",
       "       [1.34108896e-11, 1.00000000e+00, 5.30483604e-08],\n",
       "       [1.64450065e-10, 2.46313866e-04, 9.99753654e-01],\n",
       "       [2.97473548e-08, 9.99998808e-01, 1.24552878e-06],\n",
       "       [4.10949106e-08, 1.70187815e-03, 9.98298109e-01],\n",
       "       [4.03977607e-09, 7.55661167e-04, 9.99244332e-01],\n",
       "       [9.36217076e-11, 9.99999881e-01, 9.00163641e-08],\n",
       "       [6.90942681e-09, 9.11852345e-04, 9.99088168e-01],\n",
       "       [7.95664668e-01, 1.47569925e-01, 5.67653924e-02],\n",
       "       [1.70677311e-06, 5.86642930e-03, 9.94131863e-01],\n",
       "       [1.68558270e-08, 9.99997735e-01, 2.23770098e-06],\n",
       "       [2.15677209e-09, 6.06601592e-04, 9.99393344e-01],\n",
       "       [3.56758349e-02, 9.57691252e-01, 6.63288543e-03],\n",
       "       [1.41720434e-07, 2.61367112e-03, 9.97386158e-01],\n",
       "       [3.83350562e-05, 9.99894857e-01, 6.67014247e-05],\n",
       "       [3.62677610e-10, 8.63629626e-04, 9.99136388e-01],\n",
       "       [4.29280713e-04, 9.99234796e-01, 3.35955119e-04],\n",
       "       [1.67610255e-04, 9.99679089e-01, 1.53400295e-04],\n",
       "       [1.89047024e-01, 7.94375062e-01, 1.65779218e-02],\n",
       "       [5.59329862e-07, 9.99994159e-01, 5.19968171e-06],\n",
       "       [4.32693014e-07, 9.99993324e-01, 6.19087859e-06],\n",
       "       [1.17296219e-01, 8.72720003e-01, 9.98380315e-03],\n",
       "       [3.75239262e-09, 7.14065158e-04, 9.99285996e-01],\n",
       "       [9.19323298e-11, 9.99999881e-01, 1.52865042e-07],\n",
       "       [2.76106060e-03, 2.68859804e-01, 7.28379071e-01],\n",
       "       [4.55756309e-12, 1.00000000e+00, 2.04428794e-08],\n",
       "       [2.01094736e-07, 9.99996305e-01, 3.46567526e-06],\n",
       "       [3.47412284e-03, 9.95797753e-01, 7.28170562e-04],\n",
       "       [1.63993889e-07, 9.99994516e-01, 5.38770382e-06],\n",
       "       [3.39372583e-08, 4.43353434e-04, 9.99556601e-01],\n",
       "       [4.95052332e-10, 1.41483237e-04, 9.99858499e-01],\n",
       "       [1.75216286e-08, 4.62277152e-04, 9.99537706e-01],\n",
       "       [2.94371261e-09, 6.76397001e-04, 9.99323606e-01],\n",
       "       [3.98957223e-01, 5.69662094e-01, 3.13806348e-02],\n",
       "       [6.64030608e-09, 9.99998927e-01, 1.07391895e-06],\n",
       "       [5.91394089e-09, 9.03787790e-04, 9.99096274e-01],\n",
       "       [1.01448017e-09, 4.65811259e-04, 9.99534249e-01],\n",
       "       [1.88660788e-11, 8.52659228e-04, 9.99147296e-01],\n",
       "       [1.06237941e-07, 9.99996424e-01, 3.43272905e-06],\n",
       "       [1.65402955e-10, 9.99999881e-01, 1.13184392e-07],\n",
       "       [4.27234481e-05, 9.99919653e-01, 3.76944663e-05],\n",
       "       [8.13653344e-07, 9.99993324e-01, 5.80509231e-06]], dtype=float32)"
      ]
     },
     "execution_count": 142,
     "metadata": {},
     "output_type": "execute_result"
    }
   ],
   "source": [
    "ytest_predict_neurona_overcat=neurona_cat.predict(Xtesto_cat_mms)\n",
    "ytest_predict_neurona_overcat"
   ]
  },
  {
   "cell_type": "markdown",
   "metadata": {},
   "source": [
    "##### Transforming numpy array to a dataframe for overall model"
   ]
  },
  {
   "cell_type": "code",
   "execution_count": 143,
   "metadata": {},
   "outputs": [
    {
     "data": {
      "text/html": [
       "<div>\n",
       "<style>\n",
       "    .dataframe thead tr:only-child th {\n",
       "        text-align: right;\n",
       "    }\n",
       "\n",
       "    .dataframe thead th {\n",
       "        text-align: left;\n",
       "    }\n",
       "\n",
       "    .dataframe tbody tr th {\n",
       "        vertical-align: top;\n",
       "    }\n",
       "</style>\n",
       "<table border=\"1\" class=\"dataframe\">\n",
       "  <thead>\n",
       "    <tr style=\"text-align: right;\">\n",
       "      <th></th>\n",
       "      <th>value0</th>\n",
       "      <th>value1</th>\n",
       "      <th>value2</th>\n",
       "      <th>HighScore</th>\n",
       "    </tr>\n",
       "  </thead>\n",
       "  <tbody>\n",
       "    <tr>\n",
       "      <th>0</th>\n",
       "      <td>7.699410e-05</td>\n",
       "      <td>0.999819</td>\n",
       "      <td>0.000104</td>\n",
       "      <td>0.999819</td>\n",
       "    </tr>\n",
       "    <tr>\n",
       "      <th>1</th>\n",
       "      <td>1.129676e-02</td>\n",
       "      <td>0.655766</td>\n",
       "      <td>0.332937</td>\n",
       "      <td>0.655766</td>\n",
       "    </tr>\n",
       "    <tr>\n",
       "      <th>2</th>\n",
       "      <td>1.132992e-03</td>\n",
       "      <td>0.998224</td>\n",
       "      <td>0.000643</td>\n",
       "      <td>0.998224</td>\n",
       "    </tr>\n",
       "    <tr>\n",
       "      <th>3</th>\n",
       "      <td>6.294966e-08</td>\n",
       "      <td>0.999998</td>\n",
       "      <td>0.000002</td>\n",
       "      <td>0.999998</td>\n",
       "    </tr>\n",
       "    <tr>\n",
       "      <th>4</th>\n",
       "      <td>2.998883e-10</td>\n",
       "      <td>0.000878</td>\n",
       "      <td>0.999122</td>\n",
       "      <td>0.999122</td>\n",
       "    </tr>\n",
       "  </tbody>\n",
       "</table>\n",
       "</div>"
      ],
      "text/plain": [
       "         value0    value1    value2  HighScore\n",
       "0  7.699410e-05  0.999819  0.000104   0.999819\n",
       "1  1.129676e-02  0.655766  0.332937   0.655766\n",
       "2  1.132992e-03  0.998224  0.000643   0.998224\n",
       "3  6.294966e-08  0.999998  0.000002   0.999998\n",
       "4  2.998883e-10  0.000878  0.999122   0.999122"
      ]
     },
     "execution_count": 143,
     "metadata": {},
     "output_type": "execute_result"
    }
   ],
   "source": [
    "#First Step: Transforming to a dataframe\n",
    "ytest_predict_neurona_overcatdf=pd.DataFrame(ytest_predict_neurona_overcat)\n",
    "ytest_predict_neurona_overcatdf=ytest_predict_neurona_overcatdf.rename(columns={0:\"value0\", 1:\"value1\", 2:\"value2\"})\n",
    "ytest_predict_neurona_overcatdf['HighScore'] = ytest_predict_neurona_overcatdf[[\"value0\", \"value1\", \"value2\"]].apply(max, axis=1)\n",
    "ytest_predict_neurona_overcatdf.head()"
   ]
  },
  {
   "cell_type": "markdown",
   "metadata": {},
   "source": [
    "#### Creating the predicted category based in probabilities for categorical overall model"
   ]
  },
  {
   "cell_type": "code",
   "execution_count": 144,
   "metadata": {
    "collapsed": true
   },
   "outputs": [],
   "source": [
    "#Creating a function to define one category\n",
    "def f(row):\n",
    "    if row['value0'] == row['HighScore']:\n",
    "        val = 0\n",
    "    elif row['value1'] == row['HighScore']:\n",
    "        val = 1\n",
    "    else:\n",
    "        val = 2\n",
    "    return val"
   ]
  },
  {
   "cell_type": "code",
   "execution_count": 145,
   "metadata": {},
   "outputs": [
    {
     "data": {
      "text/plain": [
       "1    95\n",
       "2    87\n",
       "0    10\n",
       "Name: Category, dtype: int64"
      ]
     },
     "execution_count": 145,
     "metadata": {},
     "output_type": "execute_result"
    }
   ],
   "source": [
    "ytest_predict_neurona_overcatdf[\"Category\"]=ytest_predict_neurona_overcatdf.apply(f, axis=1)\n",
    "ytest_predict_neurona_overcatdf.Category.value_counts()"
   ]
  },
  {
   "cell_type": "markdown",
   "metadata": {},
   "source": [
    "#### Applying confussion matrices for overall model"
   ]
  },
  {
   "cell_type": "code",
   "execution_count": 146,
   "metadata": {},
   "outputs": [
    {
     "name": "stdout",
     "output_type": "stream",
     "text": [
      "             precision    recall  f1-score   support\n",
      "\n",
      "          0       1.00      0.77      0.87        13\n",
      "          1       0.96      0.98      0.97        93\n",
      "          2       0.98      0.99      0.98        86\n",
      "\n",
      "avg / total       0.97      0.97      0.97       192\n",
      "\n"
     ]
    }
   ],
   "source": [
    "print(classification_report(ytesto_cat, ytest_predict_neurona_overcatdf.Category))"
   ]
  },
  {
   "cell_type": "code",
   "execution_count": 147,
   "metadata": {},
   "outputs": [
    {
     "data": {
      "text/plain": [
       "<matplotlib.axes._subplots.AxesSubplot at 0x11450ac50>"
      ]
     },
     "execution_count": 147,
     "metadata": {},
     "output_type": "execute_result"
    },
    {
     "data": {
      "image/png": "[encoded data removed]",
      "text/plain": [
       "<matplotlib.figure.Figure at 0x11450a6a0>"
      ]
     },
     "metadata": {},
     "output_type": "display_data"
    }
   ],
   "source": [
    "a=confusion_matrix(ytesto_cat, ytest_predict_neurona_overcatdf.Category)\n",
    "sns.heatmap(a, annot=True, fmt=\"d\",  cmap=\"YlGnBu\")"
   ]
  },
  {
   "cell_type": "code",
   "execution_count": 148,
   "metadata": {},
   "outputs": [
    {
     "data": {
      "text/plain": [
       "0.96875"
      ]
     },
     "execution_count": 148,
     "metadata": {},
     "output_type": "execute_result"
    }
   ],
   "source": [
    "neurona_overcat_accuracy=accuracy_score(ytesto_cat, ytest_predict_neurona_overcatdf.Category)\n",
    "neurona_overcat_accuracy"
   ]
  },
  {
   "cell_type": "markdown",
   "metadata": {},
   "source": [
    "## 7.4 Fitting and evaluating the model for heating\n",
    "\n",
    "<a id=\"Deep24\"></a>"
   ]
  },
  {
   "cell_type": "markdown",
   "metadata": {},
   "source": [
    "### 7.4.1 Grid search to find best epoc and batch size for heating"
   ]
  },
  {
   "cell_type": "code",
   "execution_count": 149,
   "metadata": {
    "collapsed": true
   },
   "outputs": [],
   "source": [
    "ytrain3_vector=to_categorical(ytrain3)"
   ]
  },
  {
   "cell_type": "code",
   "execution_count": 150,
   "metadata": {
    "collapsed": true
   },
   "outputs": [],
   "source": [
    "def create_model():    \n",
    "    #Defining the model\n",
    "    model=Sequential()\n",
    "    model.add(Dense(8, input_dim=8, activation=\"relu\"))\n",
    "    model.add(Dense(4, activation=\"relu\"))\n",
    "    model.add(Dense(3, activation=\"softmax\"))\n",
    "    \n",
    "    #Compiling the model\n",
    "    model.compile(loss=\"categorical_crossentropy\", optimizer=\"adam\", metrics=[\"accuracy\"])\n",
    "    return model"
   ]
  },
  {
   "cell_type": "code",
   "execution_count": 151,
   "metadata": {
    "collapsed": true
   },
   "outputs": [],
   "source": [
    "# param_neurona3={\"epochs\":[10,50,100],\n",
    "#               \"batch_size\":[10,20,50,100]}\n",
    "# modelo=KerasClassifier(build_fn=create_model, verbose=0)\n",
    "\n",
    "# grid_neurona3=GridSearchCV(modelo, param_neurona3, cv=5)\n",
    "# grid_neurona3.fit(Xtrain3_mms, ytrain3_vector)"
   ]
  },
  {
   "cell_type": "code",
   "execution_count": 152,
   "metadata": {
    "collapsed": true
   },
   "outputs": [],
   "source": [
    "# grid_neurona3.best_params_"
   ]
  },
  {
   "cell_type": "markdown",
   "metadata": {},
   "source": [
    "### 7.4.2 Running the best model for heating"
   ]
  },
  {
   "cell_type": "code",
   "execution_count": 153,
   "metadata": {},
   "outputs": [
    {
     "name": "stdout",
     "output_type": "stream",
     "text": [
      "Epoch 1/50\n",
      "614/614 [==============================] - 0s 320us/step - loss: 0.4375 - acc: 0.8599\n",
      "Epoch 2/50\n",
      "614/614 [==============================] - 0s 354us/step - loss: 0.2658 - acc: 0.8779 0s - loss: 0.2843 - acc: 0.\n",
      "Epoch 3/50\n",
      "614/614 [==============================] - 0s 300us/step - loss: 0.2508 - acc: 0.8844\n",
      "Epoch 4/50\n",
      "614/614 [==============================] - 0s 352us/step - loss: 0.2442 - acc: 0.8974\n",
      "Epoch 5/50\n",
      "614/614 [==============================] - 0s 161us/step - loss: 0.2387 - acc: 0.9039\n",
      "Epoch 6/50\n",
      "614/614 [==============================] - 0s 277us/step - loss: 0.2325 - acc: 0.8990\n",
      "Epoch 7/50\n",
      "614/614 [==============================] - 0s 194us/step - loss: 0.2324 - acc: 0.8958\n",
      "Epoch 8/50\n",
      "614/614 [==============================] - 0s 245us/step - loss: 0.2262 - acc: 0.9072\n",
      "Epoch 9/50\n",
      "614/614 [==============================] - 0s 204us/step - loss: 0.2218 - acc: 0.8990\n",
      "Epoch 10/50\n",
      "614/614 [==============================] - 0s 155us/step - loss: 0.2221 - acc: 0.9007\n",
      "Epoch 11/50\n",
      "614/614 [==============================] - 0s 279us/step - loss: 0.2163 - acc: 0.9039\n",
      "Epoch 12/50\n",
      "614/614 [==============================] - 0s 304us/step - loss: 0.2156 - acc: 0.9072\n",
      "Epoch 13/50\n",
      "614/614 [==============================] - 0s 336us/step - loss: 0.2110 - acc: 0.9088\n",
      "Epoch 14/50\n",
      "614/614 [==============================] - 0s 312us/step - loss: 0.2096 - acc: 0.9104\n",
      "Epoch 15/50\n",
      "614/614 [==============================] - 0s 318us/step - loss: 0.2100 - acc: 0.9104\n",
      "Epoch 16/50\n",
      "614/614 [==============================] - 0s 308us/step - loss: 0.2087 - acc: 0.9137\n",
      "Epoch 17/50\n",
      "614/614 [==============================] - 0s 324us/step - loss: 0.2048 - acc: 0.9121\n",
      "Epoch 18/50\n",
      "614/614 [==============================] - 0s 299us/step - loss: 0.2051 - acc: 0.9104\n",
      "Epoch 19/50\n",
      "614/614 [==============================] - 0s 320us/step - loss: 0.2026 - acc: 0.9104\n",
      "Epoch 20/50\n",
      "614/614 [==============================] - 0s 187us/step - loss: 0.2054 - acc: 0.9121\n",
      "Epoch 21/50\n",
      "614/614 [==============================] - 0s 322us/step - loss: 0.2014 - acc: 0.9137\n",
      "Epoch 22/50\n",
      "614/614 [==============================] - 0s 249us/step - loss: 0.2022 - acc: 0.9104\n",
      "Epoch 23/50\n",
      "614/614 [==============================] - 0s 167us/step - loss: 0.2009 - acc: 0.9088\n",
      "Epoch 24/50\n",
      "614/614 [==============================] - 0s 234us/step - loss: 0.2008 - acc: 0.9153\n",
      "Epoch 25/50\n",
      "614/614 [==============================] - 0s 169us/step - loss: 0.1985 - acc: 0.9169\n",
      "Epoch 26/50\n",
      "614/614 [==============================] - 0s 256us/step - loss: 0.1989 - acc: 0.9153\n",
      "Epoch 27/50\n",
      "614/614 [==============================] - 0s 166us/step - loss: 0.1967 - acc: 0.9186\n",
      "Epoch 28/50\n",
      "614/614 [==============================] - 0s 319us/step - loss: 0.1983 - acc: 0.9137\n",
      "Epoch 29/50\n",
      "614/614 [==============================] - 0s 309us/step - loss: 0.1969 - acc: 0.9169\n",
      "Epoch 30/50\n",
      "614/614 [==============================] - 0s 170us/step - loss: 0.1957 - acc: 0.9137\n",
      "Epoch 31/50\n",
      "614/614 [==============================] - 0s 236us/step - loss: 0.1974 - acc: 0.9169\n",
      "Epoch 32/50\n",
      "614/614 [==============================] - 0s 161us/step - loss: 0.1960 - acc: 0.9137\n",
      "Epoch 33/50\n",
      "614/614 [==============================] - 0s 296us/step - loss: 0.1941 - acc: 0.9153\n",
      "Epoch 34/50\n",
      "614/614 [==============================] - 0s 187us/step - loss: 0.1955 - acc: 0.9121\n",
      "Epoch 35/50\n",
      "614/614 [==============================] - 0s 186us/step - loss: 0.1952 - acc: 0.9153\n",
      "Epoch 36/50\n",
      "614/614 [==============================] - 0s 199us/step - loss: 0.1921 - acc: 0.9186\n",
      "Epoch 37/50\n",
      "614/614 [==============================] - 0s 251us/step - loss: 0.1918 - acc: 0.9137\n",
      "Epoch 38/50\n",
      "614/614 [==============================] - 0s 161us/step - loss: 0.1919 - acc: 0.9169\n",
      "Epoch 39/50\n",
      "614/614 [==============================] - 0s 363us/step - loss: 0.1912 - acc: 0.9169\n",
      "Epoch 40/50\n",
      "614/614 [==============================] - 0s 356us/step - loss: 0.1908 - acc: 0.9137\n",
      "Epoch 41/50\n",
      "614/614 [==============================] - 0s 334us/step - loss: 0.1920 - acc: 0.9121\n",
      "Epoch 42/50\n",
      "614/614 [==============================] - 0s 325us/step - loss: 0.1895 - acc: 0.9186\n",
      "Epoch 43/50\n",
      "614/614 [==============================] - 0s 291us/step - loss: 0.1899 - acc: 0.9137\n",
      "Epoch 44/50\n",
      "614/614 [==============================] - 0s 303us/step - loss: 0.1900 - acc: 0.9169\n",
      "Epoch 45/50\n",
      "614/614 [==============================] - 0s 217us/step - loss: 0.1899 - acc: 0.9186\n",
      "Epoch 46/50\n",
      "614/614 [==============================] - 0s 222us/step - loss: 0.1887 - acc: 0.9169\n",
      "Epoch 47/50\n",
      "614/614 [==============================] - 0s 337us/step - loss: 0.1889 - acc: 0.9153\n",
      "Epoch 48/50\n",
      "614/614 [==============================] - 0s 321us/step - loss: 0.1882 - acc: 0.9186\n",
      "Epoch 49/50\n",
      "614/614 [==============================] - 0s 336us/step - loss: 0.1889 - acc: 0.9153\n",
      "Epoch 50/50\n",
      "614/614 [==============================] - 0s 315us/step - loss: 0.1865 - acc: 0.9186\n"
     ]
    },
    {
     "data": {
      "text/plain": [
       "<keras.callbacks.History at 0x11464eda0>"
      ]
     },
     "execution_count": 153,
     "metadata": {},
     "output_type": "execute_result"
    }
   ],
   "source": [
    "neurona_cat.fit(Xtrain3_mms, ytrain3_vector,  epochs=50, batch_size=10)"
   ]
  },
  {
   "cell_type": "markdown",
   "metadata": {
    "collapsed": true
   },
   "source": [
    "### 7.4.3 Evaluating the model for heating"
   ]
  },
  {
   "cell_type": "code",
   "execution_count": 154,
   "metadata": {},
   "outputs": [
    {
     "data": {
      "text/plain": [
       "array([[2.43545976e-02, 9.74483371e-01, 1.16199604e-03],\n",
       "       [1.76264672e-03, 8.07359159e-01, 1.90878183e-01],\n",
       "       [9.24305260e-01, 5.58794737e-02, 1.98152456e-02],\n",
       "       [4.42108721e-05, 9.99026775e-01, 9.29054804e-04],\n",
       "       [7.20385990e-12, 9.56086162e-03, 9.90439057e-01],\n",
       "       [9.24305260e-01, 5.58794737e-02, 1.98152456e-02],\n",
       "       [3.73397840e-11, 9.99997854e-01, 2.13937938e-06],\n",
       "       [8.10111700e-12, 6.16518687e-03, 9.93834853e-01],\n",
       "       [9.24305260e-01, 5.58794737e-02, 1.98152456e-02],\n",
       "       [1.09413089e-02, 9.88409400e-01, 6.49252790e-04],\n",
       "       [3.38072685e-04, 9.98324692e-01, 1.33722066e-03],\n",
       "       [9.24305260e-01, 5.58794737e-02, 1.98152456e-02],\n",
       "       [8.14408452e-07, 2.77826041e-01, 7.22173154e-01],\n",
       "       [2.81896858e-12, 3.02602630e-03, 9.96973991e-01],\n",
       "       [1.03375663e-04, 7.57747829e-01, 2.42148831e-01],\n",
       "       [1.13422804e-09, 7.23370491e-03, 9.92766261e-01],\n",
       "       [4.58593604e-06, 9.99963164e-01, 3.22699525e-05],\n",
       "       [3.12730111e-03, 9.96296942e-01, 5.75766433e-04],\n",
       "       [1.96597157e-05, 3.86910349e-01, 6.13070071e-01],\n",
       "       [1.14567098e-04, 8.77219319e-01, 1.22666106e-01],\n",
       "       [9.07848060e-01, 7.25604072e-02, 1.95914041e-02],\n",
       "       [8.58392477e-01, 1.22826375e-01, 1.87811069e-02],\n",
       "       [2.99898023e-11, 7.72363413e-03, 9.92276371e-01],\n",
       "       [9.89597515e-10, 9.39702801e-03, 9.90602970e-01],\n",
       "       [2.06093467e-03, 6.65156722e-01, 3.32782388e-01],\n",
       "       [9.09903056e-12, 3.97069519e-03, 9.96029377e-01],\n",
       "       [9.11031127e-01, 6.93315715e-02, 1.96373090e-02],\n",
       "       [2.38210618e-01, 7.56181002e-01, 5.60838822e-03],\n",
       "       [1.91093683e-02, 9.15518820e-01, 6.53717592e-02],\n",
       "       [8.43065440e-09, 6.25829631e-03, 9.93741691e-01],\n",
       "       [9.24305260e-01, 5.58794737e-02, 1.98152456e-02],\n",
       "       [9.02661779e-10, 9.99995112e-01, 4.84330030e-06],\n",
       "       [3.91598344e-01, 5.99339664e-01, 9.06197447e-03],\n",
       "       [9.74328606e-04, 9.97309089e-01, 1.71663600e-03],\n",
       "       [2.58752852e-10, 6.46030065e-03, 9.93539751e-01],\n",
       "       [3.42237372e-09, 9.99992251e-01, 7.76049546e-06],\n",
       "       [9.43742933e-08, 9.99950051e-01, 4.98314366e-05],\n",
       "       [2.06885975e-09, 1.62647311e-02, 9.83735323e-01],\n",
       "       [9.47742969e-13, 2.74549332e-03, 9.97254550e-01],\n",
       "       [7.13744899e-04, 9.97852445e-01, 1.43383699e-03],\n",
       "       [3.36549510e-06, 1.23887092e-01, 8.76109540e-01],\n",
       "       [2.24493284e-04, 9.99649048e-01, 1.26393265e-04],\n",
       "       [6.49344642e-04, 9.97826278e-01, 1.52434187e-03],\n",
       "       [3.33340822e-09, 9.99993682e-01, 6.29990382e-06],\n",
       "       [1.49847918e-12, 4.69310558e-04, 9.99530673e-01],\n",
       "       [3.10432345e-01, 6.82322204e-01, 7.24548474e-03],\n",
       "       [1.47203673e-02, 9.81489360e-01, 3.79028078e-03],\n",
       "       [1.17813329e-06, 9.99982476e-01, 1.63494078e-05],\n",
       "       [2.10986915e-03, 8.21689367e-01, 1.76200688e-01],\n",
       "       [7.20006414e-04, 9.98575687e-01, 7.04355771e-04],\n",
       "       [5.69186108e-15, 6.36147219e-04, 9.99363840e-01],\n",
       "       [4.63605586e-12, 1.65479118e-03, 9.98345256e-01],\n",
       "       [4.11927521e-01, 5.78559458e-01, 9.51306429e-03],\n",
       "       [4.83363089e-12, 6.30809367e-03, 9.93691921e-01],\n",
       "       [9.24305260e-01, 5.58794737e-02, 1.98152456e-02],\n",
       "       [7.22506811e-05, 3.18950713e-01, 6.80977046e-01],\n",
       "       [6.50028831e-09, 4.84883673e-02, 9.51511562e-01],\n",
       "       [3.18021165e-11, 9.99997616e-01, 2.36146866e-06],\n",
       "       [5.63492916e-12, 6.28952356e-03, 9.93710518e-01],\n",
       "       [3.75298368e-05, 3.65389198e-01, 6.34573340e-01],\n",
       "       [6.10258222e-01, 3.75920564e-01, 1.38212042e-02],\n",
       "       [9.24305260e-01, 5.58794737e-02, 1.98152456e-02],\n",
       "       [1.98709618e-04, 6.23759627e-01, 3.76041621e-01],\n",
       "       [1.75138043e-10, 1.20520713e-02, 9.87948000e-01],\n",
       "       [9.24305260e-01, 5.58794737e-02, 1.98152456e-02],\n",
       "       [1.00195303e-11, 1.42962963e-03, 9.98570323e-01],\n",
       "       [9.24305260e-01, 5.58794737e-02, 1.98152456e-02],\n",
       "       [2.62526494e-11, 6.72333967e-03, 9.93276715e-01],\n",
       "       [1.87301022e-10, 6.03185827e-03, 9.93968129e-01],\n",
       "       [7.29552950e-15, 4.70182626e-04, 9.99529839e-01],\n",
       "       [2.94410602e-05, 9.99884129e-01, 8.63774112e-05],\n",
       "       [7.66517145e-12, 1.08149985e-03, 9.98918533e-01],\n",
       "       [7.80379938e-09, 3.19895074e-02, 9.68010426e-01],\n",
       "       [9.24305260e-01, 5.58794737e-02, 1.98152456e-02],\n",
       "       [2.30056973e-10, 1.00168893e-02, 9.89983082e-01],\n",
       "       [8.25584471e-01, 1.56232432e-01, 1.81831252e-02],\n",
       "       [3.60745900e-09, 9.99988198e-01, 1.17760264e-05],\n",
       "       [6.08027331e-05, 9.99842048e-01, 9.71884365e-05],\n",
       "       [2.26399061e-06, 9.99979138e-01, 1.86464586e-05],\n",
       "       [6.59092426e-01, 3.26057643e-01, 1.48499804e-02],\n",
       "       [2.86945142e-12, 5.40192239e-03, 9.94598031e-01],\n",
       "       [9.24305260e-01, 5.58794737e-02, 1.98152456e-02],\n",
       "       [9.23416093e-02, 9.04900849e-01, 2.75754347e-03],\n",
       "       [9.24305260e-01, 5.58794737e-02, 1.98152456e-02],\n",
       "       [9.24305260e-01, 5.58794737e-02, 1.98152456e-02],\n",
       "       [8.73874861e-10, 8.55413172e-03, 9.91445899e-01],\n",
       "       [4.77735661e-02, 9.49638605e-01, 2.58781342e-03],\n",
       "       [1.38943718e-12, 2.33405223e-03, 9.97666001e-01],\n",
       "       [9.24305260e-01, 5.58794737e-02, 1.98152456e-02],\n",
       "       [4.78775620e-01, 5.10239542e-01, 1.09848902e-02],\n",
       "       [1.32841287e-05, 9.99597013e-01, 3.89753812e-04],\n",
       "       [1.17652488e-09, 1.18307127e-02, 9.88169312e-01],\n",
       "       [3.30333523e-02, 9.61771786e-01, 5.19486237e-03],\n",
       "       [6.91312789e-06, 9.99651313e-01, 3.41756793e-04],\n",
       "       [1.07281022e-02, 4.10054833e-01, 5.79217136e-01],\n",
       "       [9.24305260e-01, 5.58794737e-02, 1.98152456e-02],\n",
       "       [2.87611713e-03, 6.09426498e-01, 3.87697458e-01],\n",
       "       [1.38973837e-08, 1.62441041e-02, 9.83755827e-01],\n",
       "       [1.19402781e-02, 9.86768782e-01, 1.29104080e-03],\n",
       "       [6.80892554e-04, 2.81508803e-01, 7.17810273e-01],\n",
       "       [1.36944195e-02, 9.07534599e-01, 7.87709653e-02],\n",
       "       [1.61857102e-02, 9.12015796e-01, 7.17984959e-02],\n",
       "       [7.03575154e-09, 8.85510165e-03, 9.91144836e-01],\n",
       "       [9.24305260e-01, 5.58794737e-02, 1.98152456e-02],\n",
       "       [3.63596380e-02, 9.62722898e-01, 9.17378464e-04],\n",
       "       [6.55916256e-06, 9.99768198e-01, 2.25245778e-04],\n",
       "       [7.42572439e-08, 4.52480018e-02, 9.54751909e-01],\n",
       "       [5.24328525e-10, 8.36532656e-03, 9.91634727e-01],\n",
       "       [6.85404381e-12, 1.16840750e-02, 9.88315880e-01],\n",
       "       [5.01049549e-12, 9.75300558e-03, 9.90247011e-01],\n",
       "       [1.14549282e-11, 1.64363242e-03, 9.98356402e-01],\n",
       "       [5.64338043e-09, 2.85976324e-02, 9.71402347e-01],\n",
       "       [2.91150630e-01, 7.02039003e-01, 6.81035453e-03],\n",
       "       [6.32656738e-04, 9.98129547e-01, 1.23782386e-03],\n",
       "       [6.17329299e-01, 3.68699580e-01, 1.39711341e-02],\n",
       "       [4.39995852e-11, 6.57108752e-03, 9.93428886e-01],\n",
       "       [1.43065182e-09, 3.00008827e-03, 9.96999919e-01],\n",
       "       [4.95892616e-09, 3.69571336e-02, 9.63042855e-01],\n",
       "       [4.49157309e-11, 9.99996066e-01, 3.90158220e-06],\n",
       "       [9.24305260e-01, 5.58794737e-02, 1.98152456e-02],\n",
       "       [9.10870712e-10, 8.82642623e-03, 9.91173565e-01],\n",
       "       [1.29559008e-09, 8.30930378e-03, 9.91690636e-01],\n",
       "       [2.12122700e-07, 2.71035768e-02, 9.72896218e-01],\n",
       "       [1.43671679e-08, 3.81141715e-02, 9.61885810e-01],\n",
       "       [1.73015451e-06, 9.99857664e-01, 1.40587348e-04],\n",
       "       [3.62856056e-09, 2.77420171e-02, 9.72257972e-01],\n",
       "       [5.78759582e-08, 3.85983512e-02, 9.61401641e-01],\n",
       "       [9.24305260e-01, 5.58794737e-02, 1.98152456e-02],\n",
       "       [4.04045022e-05, 8.21837485e-01, 1.78122103e-01],\n",
       "       [3.26788891e-03, 6.22784436e-01, 3.73947680e-01],\n",
       "       [5.13268769e-01, 4.74994212e-01, 1.17370347e-02],\n",
       "       [2.12121313e-06, 1.05697416e-01, 8.94300461e-01],\n",
       "       [3.64080857e-04, 2.40550414e-01, 7.59085476e-01],\n",
       "       [2.36617401e-04, 9.99571621e-01, 1.91779312e-04],\n",
       "       [8.10402707e-06, 4.74142939e-01, 5.25848925e-01],\n",
       "       [9.24305260e-01, 5.58794737e-02, 1.98152456e-02],\n",
       "       [2.45010119e-06, 9.99962687e-01, 3.48544090e-05],\n",
       "       [7.86430597e-01, 1.96135193e-01, 1.74342617e-02],\n",
       "       [2.51112130e-12, 4.70088795e-03, 9.95299101e-01],\n",
       "       [2.25783822e-10, 1.41959088e-02, 9.85804081e-01],\n",
       "       [1.73462322e-09, 9.99994516e-01, 5.52379652e-06],\n",
       "       [3.21153580e-04, 9.69683826e-01, 2.99949665e-02],\n",
       "       [3.13317665e-04, 2.30164260e-01, 7.69522429e-01],\n",
       "       [6.80109451e-07, 5.42673245e-02, 9.45731997e-01],\n",
       "       [1.12288248e-07, 5.60205057e-02, 9.43979442e-01],\n",
       "       [2.31979787e-02, 9.76131320e-01, 6.70727168e-04],\n",
       "       [1.28059526e-07, 1.96007639e-02, 9.80399072e-01],\n",
       "       [8.32641870e-03, 5.33769190e-01, 4.57904339e-01],\n",
       "       [9.24305260e-01, 5.58794737e-02, 1.98152456e-02],\n",
       "       [1.69501558e-03, 6.43402338e-01, 3.54902714e-01],\n",
       "       [1.79372542e-02, 9.81583655e-01, 4.79095354e-04],\n",
       "       [1.78092563e-09, 9.99993205e-01, 6.80445419e-06],\n",
       "       [4.38727049e-12, 8.49213079e-03, 9.91507888e-01],\n",
       "       [3.21364460e-05, 9.98735487e-01, 1.23241171e-03]], dtype=float32)"
      ]
     },
     "execution_count": 154,
     "metadata": {},
     "output_type": "execute_result"
    }
   ],
   "source": [
    "ytest_predict_neurona3=neurona_cat.predict(Xtest3_mms)\n",
    "ytest_predict_neurona3"
   ]
  },
  {
   "cell_type": "markdown",
   "metadata": {
    "collapsed": true
   },
   "source": [
    "##### Transforming numpy array to a dataframe for categorical heating model"
   ]
  },
  {
   "cell_type": "code",
   "execution_count": 155,
   "metadata": {},
   "outputs": [
    {
     "data": {
      "text/html": [
       "<div>\n",
       "<style>\n",
       "    .dataframe thead tr:only-child th {\n",
       "        text-align: right;\n",
       "    }\n",
       "\n",
       "    .dataframe thead th {\n",
       "        text-align: left;\n",
       "    }\n",
       "\n",
       "    .dataframe tbody tr th {\n",
       "        vertical-align: top;\n",
       "    }\n",
       "</style>\n",
       "<table border=\"1\" class=\"dataframe\">\n",
       "  <thead>\n",
       "    <tr style=\"text-align: right;\">\n",
       "      <th></th>\n",
       "      <th>value0</th>\n",
       "      <th>value1</th>\n",
       "      <th>value2</th>\n",
       "      <th>HighScore</th>\n",
       "    </tr>\n",
       "  </thead>\n",
       "  <tbody>\n",
       "    <tr>\n",
       "      <th>0</th>\n",
       "      <td>2.435460e-02</td>\n",
       "      <td>0.974483</td>\n",
       "      <td>0.001162</td>\n",
       "      <td>0.974483</td>\n",
       "    </tr>\n",
       "    <tr>\n",
       "      <th>1</th>\n",
       "      <td>1.762647e-03</td>\n",
       "      <td>0.807359</td>\n",
       "      <td>0.190878</td>\n",
       "      <td>0.807359</td>\n",
       "    </tr>\n",
       "    <tr>\n",
       "      <th>2</th>\n",
       "      <td>9.243053e-01</td>\n",
       "      <td>0.055879</td>\n",
       "      <td>0.019815</td>\n",
       "      <td>0.924305</td>\n",
       "    </tr>\n",
       "    <tr>\n",
       "      <th>3</th>\n",
       "      <td>4.421087e-05</td>\n",
       "      <td>0.999027</td>\n",
       "      <td>0.000929</td>\n",
       "      <td>0.999027</td>\n",
       "    </tr>\n",
       "    <tr>\n",
       "      <th>4</th>\n",
       "      <td>7.203860e-12</td>\n",
       "      <td>0.009561</td>\n",
       "      <td>0.990439</td>\n",
       "      <td>0.990439</td>\n",
       "    </tr>\n",
       "  </tbody>\n",
       "</table>\n",
       "</div>"
      ],
      "text/plain": [
       "         value0    value1    value2  HighScore\n",
       "0  2.435460e-02  0.974483  0.001162   0.974483\n",
       "1  1.762647e-03  0.807359  0.190878   0.807359\n",
       "2  9.243053e-01  0.055879  0.019815   0.924305\n",
       "3  4.421087e-05  0.999027  0.000929   0.999027\n",
       "4  7.203860e-12  0.009561  0.990439   0.990439"
      ]
     },
     "execution_count": 155,
     "metadata": {},
     "output_type": "execute_result"
    }
   ],
   "source": [
    "#First Step: Transforming to a dataframe\n",
    "ytest3_predict_neurona3df=pd.DataFrame(ytest_predict_neurona3)\n",
    "ytest3_predict_neurona3df=ytest3_predict_neurona3df.rename(columns={0:\"value0\", 1:\"value1\", 2:\"value2\"})\n",
    "ytest3_predict_neurona3df['HighScore'] = ytest3_predict_neurona3df[[\"value0\", \"value1\", \"value2\"]].apply(max, axis=1)\n",
    "ytest3_predict_neurona3df.head()\n"
   ]
  },
  {
   "cell_type": "markdown",
   "metadata": {},
   "source": [
    "#### Creating the predicted category based in probabilities for categorical heating model"
   ]
  },
  {
   "cell_type": "code",
   "execution_count": 156,
   "metadata": {
    "collapsed": true
   },
   "outputs": [],
   "source": [
    "#Creating a function to define one category\n",
    "def f(row):\n",
    "    if row['value0'] == row['HighScore']:\n",
    "        val = 0\n",
    "    elif row['value1'] == row['HighScore']:\n",
    "        val = 1\n",
    "    else:\n",
    "        val = 2\n",
    "    return val"
   ]
  },
  {
   "cell_type": "code",
   "execution_count": 157,
   "metadata": {},
   "outputs": [
    {
     "data": {
      "text/plain": [
       "2    63\n",
       "1    62\n",
       "0    29\n",
       "Name: Category, dtype: int64"
      ]
     },
     "execution_count": 157,
     "metadata": {},
     "output_type": "execute_result"
    }
   ],
   "source": [
    "ytest3_predict_neurona3df[\"Category\"]=ytest3_predict_neurona3df.apply(f, axis=1)\n",
    "ytest3_predict_neurona3df.Category.value_counts()"
   ]
  },
  {
   "cell_type": "markdown",
   "metadata": {
    "collapsed": true
   },
   "source": [
    "#### Applying confussion matrices for categorical heating model"
   ]
  },
  {
   "cell_type": "code",
   "execution_count": 158,
   "metadata": {},
   "outputs": [
    {
     "name": "stdout",
     "output_type": "stream",
     "text": [
      "             precision    recall  f1-score   support\n",
      "\n",
      "          0       0.97      1.00      0.98        28\n",
      "          1       0.90      0.92      0.91        61\n",
      "          2       0.94      0.91      0.92        65\n",
      "\n",
      "avg / total       0.93      0.93      0.93       154\n",
      "\n"
     ]
    }
   ],
   "source": [
    "print(classification_report(ytest3, ytest3_predict_neurona3df.Category))"
   ]
  },
  {
   "cell_type": "code",
   "execution_count": 159,
   "metadata": {},
   "outputs": [
    {
     "data": {
      "text/plain": [
       "<matplotlib.axes._subplots.AxesSubplot at 0x1140c7f60>"
      ]
     },
     "execution_count": 159,
     "metadata": {},
     "output_type": "execute_result"
    },
    {
     "data": {
      "image/png": "[encoded data removed]",
      "text/plain": [
       "<matplotlib.figure.Figure at 0x1145699b0>"
      ]
     },
     "metadata": {},
     "output_type": "display_data"
    }
   ],
   "source": [
    "a=confusion_matrix(ytest3, ytest3_predict_neurona3df.Category)\n",
    "sns.heatmap(a, annot=True, fmt=\"d\",  cmap=\"YlGnBu\")"
   ]
  },
  {
   "cell_type": "code",
   "execution_count": 160,
   "metadata": {},
   "outputs": [
    {
     "data": {
      "text/plain": [
       "0.9285714285714286"
      ]
     },
     "execution_count": 160,
     "metadata": {},
     "output_type": "execute_result"
    }
   ],
   "source": [
    "neurona_heatingcat_accuracy=accuracy_score(ytest3, ytest3_predict_neurona3df.Category)\n",
    "neurona_heatingcat_accuracy"
   ]
  },
  {
   "cell_type": "markdown",
   "metadata": {
    "collapsed": true
   },
   "source": [
    "## 7.5 Fitting and evaluation the model for cooling\n",
    "\n",
    "<a id=\"Deep25\"></a>"
   ]
  },
  {
   "cell_type": "markdown",
   "metadata": {
    "collapsed": true
   },
   "source": [
    "### 7.5.1 Grid search to find best epoc and batch size for cooling"
   ]
  },
  {
   "cell_type": "code",
   "execution_count": 161,
   "metadata": {
    "collapsed": true
   },
   "outputs": [],
   "source": [
    "ytrain4_vector=to_categorical(ytrain4)"
   ]
  },
  {
   "cell_type": "code",
   "execution_count": 162,
   "metadata": {
    "collapsed": true
   },
   "outputs": [],
   "source": [
    "def create_model2():    \n",
    "    #Defining the model\n",
    "    model2=Sequential()\n",
    "    model2.add(Dense(8, input_dim=8, activation=\"relu\"))\n",
    "    model2.add(Dense(4, activation=\"relu\"))\n",
    "    model2.add(Dense(3, activation=\"softmax\"))\n",
    "    \n",
    "    #Compiling the model\n",
    "    model2.compile(loss=\"categorical_crossentropy\", optimizer=\"adam\", metrics=[\"accuracy\"])\n",
    "    return model2"
   ]
  },
  {
   "cell_type": "code",
   "execution_count": 163,
   "metadata": {
    "collapsed": true
   },
   "outputs": [],
   "source": [
    "# param_neurona4={\"epochs\":[10,50,100],\n",
    "#               \"batch_size\":[10,20,50,100]}\n",
    "# modelo4=KerasClassifier(build_fn=create_model2, verbose=0)\n",
    "\n",
    "# grid_neurona4=GridSearchCV(modelo4, param_neurona4, cv=5)\n",
    "# grid_neurona4.fit(Xtrain4_mms, ytrain4_vector)"
   ]
  },
  {
   "cell_type": "code",
   "execution_count": 164,
   "metadata": {
    "collapsed": true
   },
   "outputs": [],
   "source": [
    "# grid_neurona4.best_params_"
   ]
  },
  {
   "cell_type": "markdown",
   "metadata": {
    "collapsed": true
   },
   "source": [
    "### 7.5.2 Running the best model for cooling"
   ]
  },
  {
   "cell_type": "code",
   "execution_count": 165,
   "metadata": {},
   "outputs": [
    {
     "name": "stdout",
     "output_type": "stream",
     "text": [
      "Epoch 1/100\n",
      "614/614 [==============================] - 0s 304us/step - loss: 0.3480 - acc: 0.8616\n",
      "Epoch 2/100\n",
      "614/614 [==============================] - 0s 318us/step - loss: 0.1795 - acc: 0.9349\n",
      "Epoch 3/100\n",
      "614/614 [==============================] - 0s 348us/step - loss: 0.1100 - acc: 0.9625\n",
      "Epoch 4/100\n",
      "614/614 [==============================] - 0s 315us/step - loss: 0.0873 - acc: 0.9707\n",
      "Epoch 5/100\n",
      "614/614 [==============================] - 0s 325us/step - loss: 0.0778 - acc: 0.9788\n",
      "Epoch 6/100\n",
      "614/614 [==============================] - 0s 316us/step - loss: 0.0729 - acc: 0.9805\n",
      "Epoch 7/100\n",
      "614/614 [==============================] - 0s 313us/step - loss: 0.0672 - acc: 0.9853\n",
      "Epoch 8/100\n",
      "614/614 [==============================] - 0s 331us/step - loss: 0.0634 - acc: 0.9837\n",
      "Epoch 9/100\n",
      "614/614 [==============================] - 0s 327us/step - loss: 0.0596 - acc: 0.9870\n",
      "Epoch 10/100\n",
      "614/614 [==============================] - 0s 302us/step - loss: 0.0565 - acc: 0.9870\n",
      "Epoch 11/100\n",
      "614/614 [==============================] - 0s 212us/step - loss: 0.0538 - acc: 0.9870\n",
      "Epoch 12/100\n",
      "614/614 [==============================] - 0s 161us/step - loss: 0.0517 - acc: 0.9870\n",
      "Epoch 13/100\n",
      "614/614 [==============================] - 0s 234us/step - loss: 0.0488 - acc: 0.9870\n",
      "Epoch 14/100\n",
      "614/614 [==============================] - 0s 283us/step - loss: 0.0466 - acc: 0.9870\n",
      "Epoch 15/100\n",
      "614/614 [==============================] - 0s 354us/step - loss: 0.0451 - acc: 0.9870\n",
      "Epoch 16/100\n",
      "614/614 [==============================] - 0s 302us/step - loss: 0.0432 - acc: 0.9886\n",
      "Epoch 17/100\n",
      "614/614 [==============================] - 0s 334us/step - loss: 0.0419 - acc: 0.9886\n",
      "Epoch 18/100\n",
      "614/614 [==============================] - 0s 318us/step - loss: 0.0408 - acc: 0.9886\n",
      "Epoch 19/100\n",
      "614/614 [==============================] - 0s 299us/step - loss: 0.0398 - acc: 0.9870\n",
      "Epoch 20/100\n",
      "614/614 [==============================] - 0s 155us/step - loss: 0.0391 - acc: 0.9870\n",
      "Epoch 21/100\n",
      "614/614 [==============================] - 0s 212us/step - loss: 0.0386 - acc: 0.9870\n",
      "Epoch 22/100\n",
      "614/614 [==============================] - 0s 162us/step - loss: 0.0378 - acc: 0.9870\n",
      "Epoch 23/100\n",
      "614/614 [==============================] - 0s 300us/step - loss: 0.0370 - acc: 0.9886\n",
      "Epoch 24/100\n",
      "614/614 [==============================] - 0s 304us/step - loss: 0.0367 - acc: 0.9886\n",
      "Epoch 25/100\n",
      "614/614 [==============================] - 0s 332us/step - loss: 0.0366 - acc: 0.9886\n",
      "Epoch 26/100\n",
      "614/614 [==============================] - 0s 308us/step - loss: 0.0356 - acc: 0.9902\n",
      "Epoch 27/100\n",
      "614/614 [==============================] - 0s 320us/step - loss: 0.0355 - acc: 0.9886\n",
      "Epoch 28/100\n",
      "614/614 [==============================] - 0s 321us/step - loss: 0.0353 - acc: 0.9886\n",
      "Epoch 29/100\n",
      "614/614 [==============================] - 0s 326us/step - loss: 0.0354 - acc: 0.9870\n",
      "Epoch 30/100\n",
      "614/614 [==============================] - 0s 338us/step - loss: 0.0350 - acc: 0.9853\n",
      "Epoch 31/100\n",
      "614/614 [==============================] - 0s 317us/step - loss: 0.0346 - acc: 0.9902\n",
      "Epoch 32/100\n",
      "614/614 [==============================] - 0s 312us/step - loss: 0.0341 - acc: 0.9886\n",
      "Epoch 33/100\n",
      "614/614 [==============================] - 0s 306us/step - loss: 0.0345 - acc: 0.9853\n",
      "Epoch 34/100\n",
      "614/614 [==============================] - 0s 319us/step - loss: 0.0337 - acc: 0.9870\n",
      "Epoch 35/100\n",
      "614/614 [==============================] - 0s 322us/step - loss: 0.0332 - acc: 0.9853\n",
      "Epoch 36/100\n",
      "614/614 [==============================] - 0s 328us/step - loss: 0.0335 - acc: 0.9821\n",
      "Epoch 37/100\n",
      "614/614 [==============================] - 0s 309us/step - loss: 0.0337 - acc: 0.9821\n",
      "Epoch 38/100\n",
      "614/614 [==============================] - 0s 308us/step - loss: 0.0331 - acc: 0.9870\n",
      "Epoch 39/100\n",
      "614/614 [==============================] - 0s 331us/step - loss: 0.0332 - acc: 0.9870\n",
      "Epoch 40/100\n",
      "614/614 [==============================] - 0s 328us/step - loss: 0.0326 - acc: 0.9853\n",
      "Epoch 41/100\n",
      "614/614 [==============================] - 0s 348us/step - loss: 0.0328 - acc: 0.9837\n",
      "Epoch 42/100\n",
      "614/614 [==============================] - 0s 316us/step - loss: 0.0327 - acc: 0.9837\n",
      "Epoch 43/100\n",
      "614/614 [==============================] - 0s 247us/step - loss: 0.0326 - acc: 0.9853\n",
      "Epoch 44/100\n",
      "614/614 [==============================] - 0s 268us/step - loss: 0.0326 - acc: 0.9853\n",
      "Epoch 45/100\n",
      "614/614 [==============================] - 0s 265us/step - loss: 0.0325 - acc: 0.9837\n",
      "Epoch 46/100\n",
      "614/614 [==============================] - 0s 235us/step - loss: 0.0329 - acc: 0.9837\n",
      "Epoch 47/100\n",
      "614/614 [==============================] - 0s 247us/step - loss: 0.0322 - acc: 0.9870\n",
      "Epoch 48/100\n",
      "614/614 [==============================] - 0s 213us/step - loss: 0.0322 - acc: 0.9837\n",
      "Epoch 49/100\n",
      "614/614 [==============================] - 0s 195us/step - loss: 0.0322 - acc: 0.9821\n",
      "Epoch 50/100\n",
      "614/614 [==============================] - 0s 198us/step - loss: 0.0319 - acc: 0.9821\n",
      "Epoch 51/100\n",
      "614/614 [==============================] - 0s 329us/step - loss: 0.0319 - acc: 0.9821\n",
      "Epoch 52/100\n",
      "614/614 [==============================] - 0s 329us/step - loss: 0.0322 - acc: 0.9837\n",
      "Epoch 53/100\n",
      "614/614 [==============================] - 0s 327us/step - loss: 0.0315 - acc: 0.9853\n",
      "Epoch 54/100\n",
      "614/614 [==============================] - 0s 312us/step - loss: 0.0314 - acc: 0.9821\n",
      "Epoch 55/100\n",
      "614/614 [==============================] - 0s 315us/step - loss: 0.0317 - acc: 0.9821\n",
      "Epoch 56/100\n",
      "614/614 [==============================] - 0s 211us/step - loss: 0.0316 - acc: 0.9837\n",
      "Epoch 57/100\n",
      "614/614 [==============================] - 0s 197us/step - loss: 0.0318 - acc: 0.9821\n",
      "Epoch 58/100\n",
      "614/614 [==============================] - 0s 204us/step - loss: 0.0313 - acc: 0.9821\n",
      "Epoch 59/100\n",
      "614/614 [==============================] - 0s 215us/step - loss: 0.0313 - acc: 0.9821\n",
      "Epoch 60/100\n",
      "614/614 [==============================] - 0s 222us/step - loss: 0.0310 - acc: 0.9821\n",
      "Epoch 61/100\n",
      "614/614 [==============================] - 0s 329us/step - loss: 0.0318 - acc: 0.9853\n",
      "Epoch 62/100\n",
      "614/614 [==============================] - 0s 321us/step - loss: 0.0306 - acc: 0.9821\n",
      "Epoch 63/100\n",
      "614/614 [==============================] - 0s 324us/step - loss: 0.0315 - acc: 0.9805\n",
      "Epoch 64/100\n",
      "614/614 [==============================] - 0s 245us/step - loss: 0.0307 - acc: 0.9837\n",
      "Epoch 65/100\n",
      "614/614 [==============================] - 0s 208us/step - loss: 0.0312 - acc: 0.9821\n",
      "Epoch 66/100\n",
      "614/614 [==============================] - 0s 210us/step - loss: 0.0314 - acc: 0.9821\n",
      "Epoch 67/100\n",
      "614/614 [==============================] - 0s 225us/step - loss: 0.0309 - acc: 0.9821\n",
      "Epoch 68/100\n",
      "614/614 [==============================] - 0s 308us/step - loss: 0.0315 - acc: 0.9821\n",
      "Epoch 69/100\n",
      "614/614 [==============================] - 0s 245us/step - loss: 0.0303 - acc: 0.9821\n",
      "Epoch 70/100\n",
      "614/614 [==============================] - 0s 190us/step - loss: 0.0308 - acc: 0.9821\n",
      "Epoch 71/100\n",
      "614/614 [==============================] - 0s 283us/step - loss: 0.0307 - acc: 0.9821\n",
      "Epoch 72/100\n",
      "614/614 [==============================] - 0s 332us/step - loss: 0.0302 - acc: 0.9821\n",
      "Epoch 73/100\n",
      "614/614 [==============================] - 0s 332us/step - loss: 0.0304 - acc: 0.9821\n",
      "Epoch 74/100\n",
      "614/614 [==============================] - 0s 317us/step - loss: 0.0306 - acc: 0.9805\n",
      "Epoch 75/100\n",
      "614/614 [==============================] - 0s 322us/step - loss: 0.0303 - acc: 0.9821\n",
      "Epoch 76/100\n",
      "614/614 [==============================] - 0s 283us/step - loss: 0.0302 - acc: 0.9821\n",
      "Epoch 77/100\n",
      "614/614 [==============================] - 0s 234us/step - loss: 0.0298 - acc: 0.9837\n",
      "Epoch 78/100\n",
      "614/614 [==============================] - 0s 276us/step - loss: 0.0302 - acc: 0.9837\n",
      "Epoch 79/100\n",
      "614/614 [==============================] - 0s 316us/step - loss: 0.0303 - acc: 0.9821\n",
      "Epoch 80/100\n",
      "614/614 [==============================] - 0s 331us/step - loss: 0.0300 - acc: 0.9821\n",
      "Epoch 81/100\n",
      "614/614 [==============================] - 0s 316us/step - loss: 0.0302 - acc: 0.9821\n",
      "Epoch 82/100\n",
      "614/614 [==============================] - 0s 323us/step - loss: 0.0301 - acc: 0.9821\n",
      "Epoch 83/100\n"
     ]
    },
    {
     "name": "stdout",
     "output_type": "stream",
     "text": [
      "614/614 [==============================] - 0s 285us/step - loss: 0.0299 - acc: 0.9821\n",
      "Epoch 84/100\n",
      "614/614 [==============================] - 0s 250us/step - loss: 0.0307 - acc: 0.9821\n",
      "Epoch 85/100\n",
      "614/614 [==============================] - 0s 326us/step - loss: 0.0301 - acc: 0.9821\n",
      "Epoch 86/100\n",
      "614/614 [==============================] - 0s 317us/step - loss: 0.0300 - acc: 0.9805\n",
      "Epoch 87/100\n",
      "614/614 [==============================] - 0s 341us/step - loss: 0.0298 - acc: 0.9837\n",
      "Epoch 88/100\n",
      "614/614 [==============================] - 0s 332us/step - loss: 0.0296 - acc: 0.9821\n",
      "Epoch 89/100\n",
      "614/614 [==============================] - ETA: 0s - loss: 0.0320 - acc: 0.982 - 0s 324us/step - loss: 0.0297 - acc: 0.9837\n",
      "Epoch 90/100\n",
      "614/614 [==============================] - 0s 324us/step - loss: 0.0296 - acc: 0.9837\n",
      "Epoch 91/100\n",
      "614/614 [==============================] - 0s 320us/step - loss: 0.0298 - acc: 0.9837\n",
      "Epoch 92/100\n",
      "614/614 [==============================] - 0s 215us/step - loss: 0.0303 - acc: 0.9805\n",
      "Epoch 93/100\n",
      "614/614 [==============================] - 0s 219us/step - loss: 0.0297 - acc: 0.9821\n",
      "Epoch 94/100\n",
      "614/614 [==============================] - 0s 192us/step - loss: 0.0300 - acc: 0.9821\n",
      "Epoch 95/100\n",
      "614/614 [==============================] - 0s 198us/step - loss: 0.0296 - acc: 0.9821\n",
      "Epoch 96/100\n",
      "614/614 [==============================] - 0s 214us/step - loss: 0.0301 - acc: 0.9821\n",
      "Epoch 97/100\n",
      "614/614 [==============================] - 0s 215us/step - loss: 0.0296 - acc: 0.9853\n",
      "Epoch 98/100\n",
      "614/614 [==============================] - 0s 271us/step - loss: 0.0298 - acc: 0.9821\n",
      "Epoch 99/100\n",
      "614/614 [==============================] - 0s 279us/step - loss: 0.0295 - acc: 0.9821\n",
      "Epoch 100/100\n",
      "614/614 [==============================] - 0s 215us/step - loss: 0.0301 - acc: 0.9837\n"
     ]
    },
    {
     "data": {
      "text/plain": [
       "<keras.callbacks.History at 0x1145691d0>"
      ]
     },
     "execution_count": 165,
     "metadata": {},
     "output_type": "execute_result"
    }
   ],
   "source": [
    "neurona_cat.fit(Xtrain4_mms, ytrain4_vector,  epochs=100, batch_size=10)"
   ]
  },
  {
   "cell_type": "markdown",
   "metadata": {},
   "source": [
    "### 7.5.3 Evaluating the model for cooling"
   ]
  },
  {
   "cell_type": "code",
   "execution_count": 166,
   "metadata": {},
   "outputs": [
    {
     "data": {
      "text/plain": [
       "array([[2.8706492e-05, 9.9995816e-01, 1.3070119e-05],\n",
       "       [6.9261790e-05, 1.0659392e-01, 8.9333683e-01],\n",
       "       [1.0233943e-07, 9.9999988e-01, 1.5389707e-08],\n",
       "       [1.9369144e-12, 1.0000000e+00, 9.8067483e-09],\n",
       "       [8.8184989e-18, 1.2591732e-04, 9.9987411e-01],\n",
       "       [1.3503754e-03, 9.9859577e-01, 5.3819869e-05],\n",
       "       [2.3037185e-18, 1.0000000e+00, 2.5619859e-11],\n",
       "       [3.0462630e-17, 1.0844779e-04, 9.9989152e-01],\n",
       "       [1.4303751e-04, 9.9985027e-01, 6.7273490e-06],\n",
       "       [3.1597304e-04, 9.9967003e-01, 1.4017429e-05],\n",
       "       [3.4916765e-14, 1.0000000e+00, 3.9661915e-10],\n",
       "       [1.8852706e-04, 9.9980277e-01, 8.6881382e-06],\n",
       "       [4.2117230e-09, 9.1638707e-04, 9.9908364e-01],\n",
       "       [1.1749097e-18, 1.2461403e-05, 9.9998748e-01],\n",
       "       [1.2246790e-11, 1.6504885e-03, 9.9834955e-01],\n",
       "       [9.0483922e-15, 4.5850178e-05, 9.9995410e-01],\n",
       "       [6.8647540e-13, 1.0000000e+00, 1.8856854e-10],\n",
       "       [1.3766536e-09, 1.0000000e+00, 2.2690049e-08],\n",
       "       [2.3778830e-11, 1.2756548e-03, 9.9872428e-01],\n",
       "       [9.7977727e-07, 9.8614126e-02, 9.0138489e-01],\n",
       "       [6.6394659e-06, 9.9999297e-01, 3.9156919e-07],\n",
       "       [2.3685163e-05, 9.9997497e-01, 1.2718594e-06],\n",
       "       [2.0131644e-17, 6.3008833e-05, 9.9993694e-01],\n",
       "       [4.6532280e-14, 2.6960147e-04, 9.9973041e-01],\n",
       "       [3.1792428e-07, 1.3782780e-02, 9.8621690e-01],\n",
       "       [7.4080721e-17, 6.0929317e-05, 9.9993908e-01],\n",
       "       [2.8693205e-07, 9.9999976e-01, 3.0694007e-08],\n",
       "       [1.0122882e-03, 9.9893361e-01, 5.4098920e-05],\n",
       "       [3.0169832e-03, 7.7592981e-01, 2.2105326e-01],\n",
       "       [1.8066234e-13, 3.1217776e-05, 9.9996877e-01],\n",
       "       [7.7617713e-03, 9.9196637e-01, 2.7180277e-04],\n",
       "       [2.0495423e-16, 1.0000000e+00, 4.5247039e-11],\n",
       "       [1.1394071e-05, 9.9998784e-01, 6.9852211e-07],\n",
       "       [3.0733788e-12, 1.0000000e+00, 1.5773487e-08],\n",
       "       [5.7988587e-14, 1.1751016e-04, 9.9988246e-01],\n",
       "       [1.0015757e-17, 1.0000000e+00, 6.4348362e-12],\n",
       "       [1.3099294e-16, 1.0000000e+00, 1.1068766e-10],\n",
       "       [1.9006637e-14, 3.0294916e-04, 9.9969709e-01],\n",
       "       [3.3090918e-18, 1.0464473e-05, 9.9998951e-01],\n",
       "       [7.9880405e-09, 9.9999869e-01, 1.3540938e-06],\n",
       "       [2.9593095e-13, 2.0618534e-03, 9.9793810e-01],\n",
       "       [1.6259523e-11, 1.0000000e+00, 4.0264683e-10],\n",
       "       [1.2640998e-14, 1.0000000e+00, 1.9580967e-10],\n",
       "       [1.8519806e-17, 1.0000000e+00, 5.1148807e-12],\n",
       "       [1.1571281e-16, 1.0424604e-06, 9.9999893e-01],\n",
       "       [4.5970351e-05, 9.9995100e-01, 3.0305066e-06],\n",
       "       [5.7919820e-13, 1.0000000e+00, 4.8143756e-10],\n",
       "       [2.8480562e-11, 1.0000000e+00, 1.8975383e-09],\n",
       "       [2.1914759e-04, 2.0389858e-01, 7.9588228e-01],\n",
       "       [3.3762756e-08, 9.9999952e-01, 5.1099767e-07],\n",
       "       [1.0857787e-20, 2.1952469e-06, 9.9999785e-01],\n",
       "       [3.5497586e-17, 1.4603574e-05, 9.9998534e-01],\n",
       "       [3.1157151e-06, 9.9999666e-01, 1.9429069e-07],\n",
       "       [1.9120191e-18, 7.7762990e-05, 9.9992228e-01],\n",
       "       [2.2569855e-04, 9.9976403e-01, 1.0264083e-05],\n",
       "       [1.1757538e-09, 4.3174508e-04, 9.9956828e-01],\n",
       "       [1.4062439e-14, 7.0207185e-05, 9.9992979e-01],\n",
       "       [1.4456187e-16, 1.0000000e+00, 3.0694569e-10],\n",
       "       [6.5750825e-18, 1.1137311e-04, 9.9988866e-01],\n",
       "       [1.0738280e-10, 8.2425224e-03, 9.9175745e-01],\n",
       "       [4.2912915e-01, 5.6015211e-01, 1.0718680e-02],\n",
       "       [1.1281893e-03, 9.9882621e-01, 4.5565077e-05],\n",
       "       [2.8820830e-06, 1.4370679e-02, 9.8562640e-01],\n",
       "       [2.4276047e-17, 6.8318877e-05, 9.9993169e-01],\n",
       "       [1.5371783e-03, 9.9840218e-01, 6.0681828e-05],\n",
       "       [1.9381253e-16, 9.9805529e-06, 9.9998999e-01],\n",
       "       [7.5131844e-05, 9.9992120e-01, 3.7053667e-06],\n",
       "       [8.9066160e-18, 3.2700365e-05, 9.9996734e-01],\n",
       "       [7.3344313e-16, 8.0062418e-05, 9.9991989e-01],\n",
       "       [3.1356294e-20, 1.1821076e-06, 9.9999881e-01],\n",
       "       [1.2754058e-09, 1.0000000e+00, 2.0814889e-08],\n",
       "       [3.7933451e-17, 2.6880198e-06, 9.9999726e-01],\n",
       "       [5.3734157e-15, 4.2846912e-04, 9.9957150e-01],\n",
       "       [5.4517255e-08, 1.0000000e+00, 1.1636210e-08],\n",
       "       [2.3844311e-14, 2.0914634e-04, 9.9979085e-01],\n",
       "       [1.0563140e-04, 9.9988925e-01, 5.0803405e-06],\n",
       "       [2.9293983e-18, 1.0000000e+00, 1.0184580e-11],\n",
       "       [1.9801014e-10, 1.0000000e+00, 6.5616619e-09],\n",
       "       [7.6494028e-12, 1.0000000e+00, 3.1084418e-10],\n",
       "       [3.3761165e-08, 1.0000000e+00, 1.2648297e-08],\n",
       "       [1.0920827e-18, 4.2739721e-05, 9.9995720e-01],\n",
       "       [7.1523967e-04, 9.9925488e-01, 2.9874756e-05],\n",
       "       [7.0299237e-08, 9.9999988e-01, 5.7409515e-08],\n",
       "       [2.9041948e-08, 1.0000000e+00, 8.7981764e-09],\n",
       "       [1.1014309e-03, 9.9885404e-01, 4.4563265e-05],\n",
       "       [4.0300866e-15, 3.7690828e-05, 9.9996233e-01],\n",
       "       [4.6551932e-07, 9.9999928e-01, 1.9053563e-07],\n",
       "       [4.1113116e-17, 2.1828399e-05, 9.9997818e-01],\n",
       "       [2.0625663e-04, 9.9978429e-01, 9.4424277e-06],\n",
       "       [2.2630804e-06, 9.9999762e-01, 1.4545999e-07],\n",
       "       [5.7887264e-16, 1.0000000e+00, 1.0295385e-10],\n",
       "       [7.7513934e-13, 7.1470648e-05, 9.9992847e-01],\n",
       "       [5.3572684e-08, 9.9999917e-01, 8.2190468e-07],\n",
       "       [1.8933353e-15, 1.0000000e+00, 2.7477881e-10],\n",
       "       [2.0105627e-08, 5.5317625e-02, 9.4468230e-01],\n",
       "       [4.9721668e-03, 9.9484789e-01, 1.7996489e-04],\n",
       "       [1.9731971e-08, 4.7700494e-03, 9.9522996e-01],\n",
       "       [6.9046846e-14, 1.9055809e-04, 9.9980944e-01],\n",
       "       [1.5655252e-04, 9.9979335e-01, 5.0051745e-05],\n",
       "       [5.7616782e-09, 3.4702651e-02, 9.6529740e-01],\n",
       "       [6.5448671e-04, 4.4289231e-01, 5.5645323e-01],\n",
       "       [1.4975242e-03, 6.2473661e-01, 3.7376586e-01],\n",
       "       [1.6791832e-13, 1.0706496e-04, 9.9989295e-01],\n",
       "       [8.1242490e-01, 1.6984525e-01, 1.7729860e-02],\n",
       "       [8.9295854e-06, 9.9998951e-01, 1.5127263e-06],\n",
       "       [6.4734065e-15, 1.0000000e+00, 1.7361280e-10],\n",
       "       [1.6117248e-13, 1.2414622e-03, 9.9875855e-01],\n",
       "       [1.6572364e-15, 6.7087123e-05, 9.9993289e-01],\n",
       "       [1.5318809e-19, 4.5918310e-05, 9.9995410e-01],\n",
       "       [1.1821422e-18, 7.4326577e-05, 9.9992561e-01],\n",
       "       [4.3808417e-16, 1.9231496e-05, 9.9998081e-01],\n",
       "       [1.0520235e-15, 1.1543302e-04, 9.9988461e-01],\n",
       "       [3.3494555e-07, 9.9999917e-01, 4.5270315e-07],\n",
       "       [2.5442952e-14, 1.0000000e+00, 1.7875491e-10],\n",
       "       [9.5807451e-09, 1.0000000e+00, 7.2309461e-09],\n",
       "       [2.5010805e-16, 1.3142583e-04, 9.9986851e-01],\n",
       "       [5.3508172e-14, 1.4471825e-05, 9.9998558e-01],\n",
       "       [1.3069230e-14, 2.4076084e-04, 9.9975926e-01],\n",
       "       [8.4193344e-16, 1.0000000e+00, 2.5848024e-09],\n",
       "       [7.3054731e-01, 2.5290582e-01, 1.6546860e-02],\n",
       "       [9.1092066e-15, 7.2624600e-05, 9.9992740e-01],\n",
       "       [2.0451851e-14, 8.8345456e-05, 9.9991167e-01],\n",
       "       [2.3368137e-12, 8.2996592e-04, 9.9917006e-01],\n",
       "       [8.8989408e-16, 3.5405657e-04, 9.9964595e-01],\n",
       "       [1.2839973e-13, 1.0000000e+00, 1.0004400e-09],\n",
       "       [5.3465431e-15, 5.4020260e-04, 9.9945980e-01],\n",
       "       [6.4151531e-14, 6.5328705e-04, 9.9934667e-01],\n",
       "       [8.8617545e-01, 9.5408335e-02, 1.8416153e-02],\n",
       "       [9.9066044e-10, 1.7661076e-02, 9.8233896e-01],\n",
       "       [7.5619873e-08, 1.1327778e-02, 9.8867214e-01],\n",
       "       [5.0424738e-08, 1.0000000e+00, 1.9073802e-08],\n",
       "       [1.3588012e-12, 2.7059473e-03, 9.9729401e-01],\n",
       "       [7.2816189e-09, 2.0397605e-02, 9.7960246e-01],\n",
       "       [4.7726701e-12, 1.0000000e+00, 6.5206490e-10],\n",
       "       [1.8491594e-10, 1.4773828e-03, 9.9852258e-01],\n",
       "       [9.1685951e-01, 6.4671397e-02, 1.8469065e-02],\n",
       "       [1.5503046e-12, 1.0000000e+00, 3.0124792e-09],\n",
       "       [1.5094427e-04, 9.9984205e-01, 7.0711249e-06],\n",
       "       [4.8315128e-19, 2.2180873e-05, 9.9997783e-01],\n",
       "       [5.4869183e-17, 1.3163617e-04, 9.9986839e-01],\n",
       "       [6.0573033e-17, 1.0000000e+00, 1.3651315e-11],\n",
       "       [1.0704612e-05, 8.6039537e-01, 1.3959397e-01],\n",
       "       [1.9101827e-09, 8.6351475e-03, 9.9136484e-01],\n",
       "       [2.0988478e-12, 2.0230110e-03, 9.9797696e-01],\n",
       "       [5.1650646e-15, 3.1328684e-04, 9.9968672e-01],\n",
       "       [1.1585316e-05, 9.9998772e-01, 6.5578593e-07],\n",
       "       [4.5764260e-13, 2.2366573e-04, 9.9977630e-01],\n",
       "       [2.6606234e-08, 3.4291990e-02, 9.6570802e-01],\n",
       "       [8.2706672e-04, 9.9913871e-01, 3.4177447e-05],\n",
       "       [9.0182802e-08, 6.4669289e-03, 9.9353302e-01],\n",
       "       [5.4815522e-05, 9.9994242e-01, 2.7669626e-06],\n",
       "       [3.2758824e-17, 1.0000000e+00, 1.7174264e-11],\n",
       "       [8.5205150e-19, 6.8806425e-05, 9.9993122e-01],\n",
       "       [4.5826125e-13, 1.0000000e+00, 2.5986944e-08]], dtype=float32)"
      ]
     },
     "execution_count": 166,
     "metadata": {},
     "output_type": "execute_result"
    }
   ],
   "source": [
    "ytest_predict_neurona4=neurona_cat.predict(Xtest4_mms)\n",
    "ytest_predict_neurona4"
   ]
  },
  {
   "cell_type": "markdown",
   "metadata": {},
   "source": [
    "##### Transforming numpy array to a dataframe for categorical cooling model"
   ]
  },
  {
   "cell_type": "code",
   "execution_count": 167,
   "metadata": {},
   "outputs": [
    {
     "data": {
      "text/html": [
       "<div>\n",
       "<style>\n",
       "    .dataframe thead tr:only-child th {\n",
       "        text-align: right;\n",
       "    }\n",
       "\n",
       "    .dataframe thead th {\n",
       "        text-align: left;\n",
       "    }\n",
       "\n",
       "    .dataframe tbody tr th {\n",
       "        vertical-align: top;\n",
       "    }\n",
       "</style>\n",
       "<table border=\"1\" class=\"dataframe\">\n",
       "  <thead>\n",
       "    <tr style=\"text-align: right;\">\n",
       "      <th></th>\n",
       "      <th>value0</th>\n",
       "      <th>value1</th>\n",
       "      <th>value2</th>\n",
       "      <th>HighScore</th>\n",
       "    </tr>\n",
       "  </thead>\n",
       "  <tbody>\n",
       "    <tr>\n",
       "      <th>0</th>\n",
       "      <td>2.870649e-05</td>\n",
       "      <td>0.999958</td>\n",
       "      <td>1.307012e-05</td>\n",
       "      <td>0.999958</td>\n",
       "    </tr>\n",
       "    <tr>\n",
       "      <th>1</th>\n",
       "      <td>6.926179e-05</td>\n",
       "      <td>0.106594</td>\n",
       "      <td>8.933368e-01</td>\n",
       "      <td>0.893337</td>\n",
       "    </tr>\n",
       "    <tr>\n",
       "      <th>2</th>\n",
       "      <td>1.023394e-07</td>\n",
       "      <td>1.000000</td>\n",
       "      <td>1.538971e-08</td>\n",
       "      <td>1.000000</td>\n",
       "    </tr>\n",
       "    <tr>\n",
       "      <th>3</th>\n",
       "      <td>1.936914e-12</td>\n",
       "      <td>1.000000</td>\n",
       "      <td>9.806748e-09</td>\n",
       "      <td>1.000000</td>\n",
       "    </tr>\n",
       "    <tr>\n",
       "      <th>4</th>\n",
       "      <td>8.818499e-18</td>\n",
       "      <td>0.000126</td>\n",
       "      <td>9.998741e-01</td>\n",
       "      <td>0.999874</td>\n",
       "    </tr>\n",
       "  </tbody>\n",
       "</table>\n",
       "</div>"
      ],
      "text/plain": [
       "         value0    value1        value2  HighScore\n",
       "0  2.870649e-05  0.999958  1.307012e-05   0.999958\n",
       "1  6.926179e-05  0.106594  8.933368e-01   0.893337\n",
       "2  1.023394e-07  1.000000  1.538971e-08   1.000000\n",
       "3  1.936914e-12  1.000000  9.806748e-09   1.000000\n",
       "4  8.818499e-18  0.000126  9.998741e-01   0.999874"
      ]
     },
     "execution_count": 167,
     "metadata": {},
     "output_type": "execute_result"
    }
   ],
   "source": [
    "#First Step: Transforming to a dataframe\n",
    "ytest4_predict_neurona4df=pd.DataFrame(ytest_predict_neurona4)\n",
    "ytest4_predict_neurona4df=ytest4_predict_neurona4df.rename(columns={0:\"value0\", 1:\"value1\", 2:\"value2\"})\n",
    "ytest4_predict_neurona4df['HighScore'] = ytest4_predict_neurona4df[[\"value0\", \"value1\", \"value2\"]].apply(max, axis=1)\n",
    "ytest4_predict_neurona4df.head()"
   ]
  },
  {
   "cell_type": "markdown",
   "metadata": {
    "collapsed": true
   },
   "source": [
    "#### Creating the predicted category based in probabilities for categorical cooling model"
   ]
  },
  {
   "cell_type": "code",
   "execution_count": 168,
   "metadata": {},
   "outputs": [
    {
     "data": {
      "text/plain": [
       "2    75\n",
       "1    75\n",
       "0     4\n",
       "Name: Category, dtype: int64"
      ]
     },
     "execution_count": 168,
     "metadata": {},
     "output_type": "execute_result"
    }
   ],
   "source": [
    "ytest4_predict_neurona4df[\"Category\"]=ytest4_predict_neurona4df.apply(f, axis=1)\n",
    "ytest4_predict_neurona4df.Category.value_counts()"
   ]
  },
  {
   "cell_type": "markdown",
   "metadata": {
    "collapsed": true
   },
   "source": [
    "#### Applying confussion matrices for categorical cooling model"
   ]
  },
  {
   "cell_type": "code",
   "execution_count": 169,
   "metadata": {},
   "outputs": [
    {
     "name": "stdout",
     "output_type": "stream",
     "text": [
      "             precision    recall  f1-score   support\n",
      "\n",
      "          0       0.75      0.75      0.75         4\n",
      "          1       0.97      0.94      0.95        78\n",
      "          2       0.95      0.99      0.97        72\n",
      "\n",
      "avg / total       0.96      0.95      0.95       154\n",
      "\n"
     ]
    }
   ],
   "source": [
    "print(classification_report(ytest4, ytest4_predict_neurona4df.Category))"
   ]
  },
  {
   "cell_type": "code",
   "execution_count": 170,
   "metadata": {},
   "outputs": [
    {
     "data": {
      "text/plain": [
       "<matplotlib.axes._subplots.AxesSubplot at 0x1144c86a0>"
      ]
     },
     "execution_count": 170,
     "metadata": {},
     "output_type": "execute_result"
    },
    {
     "data": {
      "image/png": "[encoded data removed]",
      "text/plain": [
       "<matplotlib.figure.Figure at 0x114036cf8>"
      ]
     },
     "metadata": {},
     "output_type": "display_data"
    }
   ],
   "source": [
    "b=confusion_matrix(ytest4, ytest4_predict_neurona4df.Category)\n",
    "sns.heatmap(b, annot=True, fmt=\"d\",  cmap=\"YlGnBu\")"
   ]
  },
  {
   "cell_type": "code",
   "execution_count": 171,
   "metadata": {},
   "outputs": [
    {
     "data": {
      "text/plain": [
       "0.9545454545454546"
      ]
     },
     "execution_count": 171,
     "metadata": {},
     "output_type": "execute_result"
    }
   ],
   "source": [
    "neurona_coolingcat_accuracy=accuracy_score(ytest4, ytest4_predict_neurona4df.Category)\n",
    "neurona_coolingcat_accuracy"
   ]
  },
  {
   "cell_type": "markdown",
   "metadata": {
    "collapsed": true
   },
   "source": [
    "## 8. Final Report and Conclusions\n",
    "\n",
    "<a id=\"Final\"></a>"
   ]
  },
  {
   "cell_type": "markdown",
   "metadata": {},
   "source": [
    "## 8.1 Comparing algoritms with continuos dependent variable\n",
    "<a id=\"Final1\"></a>"
   ]
  },
  {
   "cell_type": "code",
   "execution_count": 172,
   "metadata": {
    "collapsed": true
   },
   "outputs": [],
   "source": [
    "Regression_models_heating_test=[]\n",
    "Regression_models_cooling_test=[]\n",
    "Regression_models_overall_test=[]\n",
    "\n",
    "Regression_models_heating_test.append(linreg_heating.score(Xtest_mms, ytest))\n",
    "Regression_models_heating_test.append(lasso_heating.score(Xtest_mms, ytest))\n",
    "Regression_models_heating_test.append(randomforest_heating.score(Xtest_mms, ytest))\n",
    "Regression_models_heating_test.append(adalasso_heating.score(Xtest_mms, ytest))\n",
    "Regression_models_heating_test.append(r2_score(ytest, ytestpredict_neurona_heating))\n",
    "\n",
    "#For cooling load\n",
    "Regression_models_cooling_test.append(linreg_cooling.score(Xtest2_mms, ytest2))\n",
    "Regression_models_cooling_test.append(lasso_cooling.score(Xtest2_mms, ytest2))\n",
    "Regression_models_cooling_test.append(randomforest_cooling.score(Xtest2_mms, ytest2))\n",
    "Regression_models_cooling_test.append(adalasso_cooling.score(Xtest2_mms, ytest2))\n",
    "Regression_models_cooling_test.append(r2_score(ytest2, ytestpredict_neurona_cooling))\n",
    "\n",
    "#For overall load\n",
    "Regression_models_overall_test.append(linreg_overall.score(Xtesto_mms, ytesto))\n",
    "Regression_models_overall_test.append(lasso_overall.score(Xtesto_mms, ytesto))\n",
    "Regression_models_overall_test.append(randomforest_overall.score(Xtesto_mms, ytesto))\n",
    "Regression_models_overall_test.append(adalasso_overall.score(Xtesto_mms, ytesto))\n",
    "Regression_models_overall_test.append(r2_score(ytesto, ytestpredict_neurona_overall))"
   ]
  },
  {
   "cell_type": "code",
   "execution_count": 173,
   "metadata": {
    "collapsed": true
   },
   "outputs": [],
   "source": [
    "indice=[\"Heating Load\", \"Cooling Load\", \"Overall Load\"]\n",
    "comparativo1=pd.DataFrame([Regression_models_heating_test, Regression_models_cooling_test, Regression_models_overall_test],\n",
    "            index=indice, columns=[\"LinReg\", \"Lasso\", \"RandomForest\", \"AdaboostLasso\", \"DeepLearning\"])"
   ]
  },
  {
   "cell_type": "code",
   "execution_count": 174,
   "metadata": {},
   "outputs": [
    {
     "data": {
      "text/plain": [
       "<matplotlib.axes._subplots.AxesSubplot at 0x114036780>"
      ]
     },
     "execution_count": 174,
     "metadata": {},
     "output_type": "execute_result"
    },
    {
     "data": {
      "image/png": "[encoded data removed]",
      "text/plain": [
       "<matplotlib.figure.Figure at 0x11401ba20>"
      ]
     },
     "metadata": {},
     "output_type": "display_data"
    }
   ],
   "source": [
    "plt.figure(figsize=(10,7), dpi=70)\n",
    "sns.heatmap(comparativo1, annot=True, fmt=\".3f\", cmap=\"coolwarm\")"
   ]
  },
  {
   "cell_type": "markdown",
   "metadata": {
    "collapsed": true
   },
   "source": [
    "## 8.2 Comparing algoritms with categorical dependent variable\n",
    "<a id=\"Final2\"></a>"
   ]
  },
  {
   "cell_type": "code",
   "execution_count": 175,
   "metadata": {
    "collapsed": true
   },
   "outputs": [],
   "source": [
    "Classification_models_heating_test=[]\n",
    "Classification_models_cooling_test=[]\n",
    "Classification_models_overall_test=[]\n",
    "\n",
    "#For heating Load\n",
    "Classification_models_heating_test.append(best_tree_test_heat) #Decision Tree\n",
    "Classification_models_heating_test.append(svr_heat_class.score(Xtest3_mms, ytest3)) #Support vector classification\n",
    "Classification_models_heating_test.append(randomforest_heat_class.score(Xtest3_mms, ytest3)) #RandomForest\n",
    "Classification_models_heating_test.append(GBM_heat_class.score(Xtest3_mms, ytest3)) #Gradient Boosting\n",
    "Classification_models_heating_test.append(neurona_overcat_accuracy)\n",
    "\n",
    "#For cooling load\n",
    "Classification_models_cooling_test.append(best_tree_test_cool) #Decision Tree\n",
    "Classification_models_cooling_test.append(svr_cool_class.score(Xtest4_mms, ytest4)) #Support vector classification\n",
    "Classification_models_cooling_test.append(randomforest_cool_class.score(Xtest4_mms, ytest4)) #random Forest\n",
    "Classification_models_cooling_test.append(GBM_cool_class.score(Xtest4_mms, ytest4)) #Gradient Boosting\n",
    "Classification_models_cooling_test.append(neurona_heatingcat_accuracy)\n",
    "\n",
    "#For overall load\n",
    "Classification_models_overall_test.append(best_tree_test_overall) #Decision Tree\n",
    "Classification_models_overall_test.append(svr_overall_class.score(Xtesto_cat_mms, ytesto_cat)) #Support Vector Classification\n",
    "Classification_models_overall_test.append(randomforest_heat_class.score(Xtesto_cat_mms, ytesto_cat)) #Random Forest \n",
    "Classification_models_overall_test.append(GBM_heat_class.score(Xtesto_cat_mms, ytesto_cat)) #Gradient Boosting\n",
    "Classification_models_overall_test.append(neurona_coolingcat_accuracy)"
   ]
  },
  {
   "cell_type": "code",
   "execution_count": 176,
   "metadata": {
    "collapsed": true
   },
   "outputs": [],
   "source": [
    "indice=[\"Heating Load\", \"Cooling Load\", \"Overall Load\"]\n",
    "comparativo2=pd.DataFrame([Classification_models_heating_test, Classification_models_cooling_test, Classification_models_overall_test],\n",
    "            index=indice, columns=[\"DecisionTree\", \"SVC\", \"RandomForest\", \"GradientBoosting\", \"DeepLearning\"])"
   ]
  },
  {
   "cell_type": "code",
   "execution_count": 177,
   "metadata": {},
   "outputs": [
    {
     "data": {
      "text/plain": [
       "<matplotlib.axes._subplots.AxesSubplot at 0x114515f60>"
      ]
     },
     "execution_count": 177,
     "metadata": {},
     "output_type": "execute_result"
    },
    {
     "data": {
      "image/png": "[encoded data removed]",
      "text/plain": [
       "<matplotlib.figure.Figure at 0x11473f630>"
      ]
     },
     "metadata": {},
     "output_type": "display_data"
    }
   ],
   "source": [
    "plt.figure(figsize=(10,7), dpi=70)\n",
    "sns.heatmap(comparativo2, annot=True, fmt=\".3f\", cmap=\"coolwarm\")"
   ]
  },
  {
   "cell_type": "markdown",
   "metadata": {},
   "source": [
    "## 8.3 Compare R2 score with bagging\n",
    "<a id=\"Final3\"></a>"
   ]
  },
  {
   "cell_type": "code",
   "execution_count": 178,
   "metadata": {},
   "outputs": [
    {
     "data": {
      "text/html": [
       "<div>\n",
       "<style>\n",
       "    .dataframe thead tr:only-child th {\n",
       "        text-align: right;\n",
       "    }\n",
       "\n",
       "    .dataframe thead th {\n",
       "        text-align: left;\n",
       "    }\n",
       "\n",
       "    .dataframe tbody tr th {\n",
       "        vertical-align: top;\n",
       "    }\n",
       "</style>\n",
       "<table border=\"1\" class=\"dataframe\">\n",
       "  <thead>\n",
       "    <tr style=\"text-align: right;\">\n",
       "      <th></th>\n",
       "      <th>Model</th>\n",
       "      <th>Train Score</th>\n",
       "      <th>Test Score</th>\n",
       "      <th>oob_score</th>\n",
       "      <th>Test(Bagging)</th>\n",
       "    </tr>\n",
       "  </thead>\n",
       "  <tbody>\n",
       "    <tr>\n",
       "      <th>0</th>\n",
       "      <td>Tree Heat</td>\n",
       "      <td>0.980456</td>\n",
       "      <td>0.993506</td>\n",
       "      <td>0.920195</td>\n",
       "      <td>0.993506</td>\n",
       "    </tr>\n",
       "    <tr>\n",
       "      <th>1</th>\n",
       "      <td>Tree Cool</td>\n",
       "      <td>0.995114</td>\n",
       "      <td>0.954545</td>\n",
       "      <td>0.985342</td>\n",
       "      <td>0.967532</td>\n",
       "    </tr>\n",
       "    <tr>\n",
       "      <th>2</th>\n",
       "      <td>Tree Overall</td>\n",
       "      <td>0.991319</td>\n",
       "      <td>0.979167</td>\n",
       "      <td>0.989583</td>\n",
       "      <td>0.979167</td>\n",
       "    </tr>\n",
       "    <tr>\n",
       "      <th>3</th>\n",
       "      <td>SVM Heat</td>\n",
       "      <td>0.978827</td>\n",
       "      <td>0.974026</td>\n",
       "      <td>0.941368</td>\n",
       "      <td>0.974026</td>\n",
       "    </tr>\n",
       "    <tr>\n",
       "      <th>4</th>\n",
       "      <td>SVM Cool</td>\n",
       "      <td>0.988599</td>\n",
       "      <td>0.961039</td>\n",
       "      <td>0.978827</td>\n",
       "      <td>0.954545</td>\n",
       "    </tr>\n",
       "    <tr>\n",
       "      <th>5</th>\n",
       "      <td>SVM Overall</td>\n",
       "      <td>0.984375</td>\n",
       "      <td>0.953125</td>\n",
       "      <td>0.963542</td>\n",
       "      <td>0.963542</td>\n",
       "    </tr>\n",
       "  </tbody>\n",
       "</table>\n",
       "</div>"
      ],
      "text/plain": [
       "          Model  Train Score  Test Score  oob_score  Test(Bagging)\n",
       "0     Tree Heat     0.980456    0.993506   0.920195       0.993506\n",
       "1     Tree Cool     0.995114    0.954545   0.985342       0.967532\n",
       "2  Tree Overall     0.991319    0.979167   0.989583       0.979167\n",
       "3      SVM Heat     0.978827    0.974026   0.941368       0.974026\n",
       "4      SVM Cool     0.988599    0.961039   0.978827       0.954545\n",
       "5   SVM Overall     0.984375    0.953125   0.963542       0.963542"
      ]
     },
     "execution_count": 178,
     "metadata": {},
     "output_type": "execute_result"
    }
   ],
   "source": [
    "bag"
   ]
  },
  {
   "cell_type": "markdown",
   "metadata": {},
   "source": [
    "The validation scores improve slightly after applied Bagging ensemble algorithm"
   ]
  },
  {
   "cell_type": "markdown",
   "metadata": {
    "collapsed": true
   },
   "source": [
    "## 8.4 Conclusions\n",
    "<a id=\"Final4\"></a>"
   ]
  },
  {
   "cell_type": "markdown",
   "metadata": {
    "collapsed": true
   },
   "source": [
    "We've worked with different models using the variables heating load, cooling load and overall load as dependent variables. For regression models we've treated as continuos variables and for classification models we've created three categories (low, medium and high). \n",
    "\n",
    "For the regression models, we can see in section 8.1 that the best performance is Random Forest Regression algorithm. The R2 for test set ranges between 0.96 to 0.99. Even so, the multiperceptron algorithm showed a good performance. The R2 for test set ranges between 0.87-0.90.\n",
    "\n",
    "For the classification models, we can see in section 8.2 that all models show a high performance. The multiperceptron algorithm shows an accuracy superior to 0.90 for heating, cooling and overall load."
   ]
  },
  {
   "cell_type": "markdown",
   "metadata": {},
   "source": [
    "## Effort Table"
   ]
  },
  {
   "cell_type": "markdown",
   "metadata": {},
   "source": [
    "* Team Member 1: Minoru Ronny Maeshiro | 100%\n",
    "* Team Member 2: Lan Wei | 100%"
   ]
  },
  {
   "cell_type": "code",
   "execution_count": null,
   "metadata": {
    "collapsed": true
   },
   "outputs": [],
   "source": []
  }
 ],
 "metadata": {
  "kernelspec": {
   "display_name": "Python 3",
   "language": "python",
   "name": "python3"
  },
  "language_info": {
   "codemirror_mode": {
    "name": "ipython",
    "version": 3
   },
   "file_extension": ".py",
   "mimetype": "text/x-python",
   "name": "python",
   "nbconvert_exporter": "python",
   "pygments_lexer": "ipython3",
   "version": "3.6.3"
  }
 },
 "nbformat": 4,
 "nbformat_minor": 1
}
